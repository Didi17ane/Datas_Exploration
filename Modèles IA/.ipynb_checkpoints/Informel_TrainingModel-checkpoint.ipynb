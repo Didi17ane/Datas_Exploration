{
 "cells": [
  {
   "cell_type": "code",
   "execution_count": null,
   "id": "b9502112-c27f-4248-8d72-e686e7318c16",
   "metadata": {},
   "outputs": [],
   "source": []
  },
  {
   "cell_type": "code",
   "execution_count": null,
   "id": "a300a669-8dd4-409b-ac31-58554eae69cd",
   "metadata": {},
   "outputs": [],
   "source": [
    "# Imports Libairies\n",
    "\n",
    "import numpy as np\n",
    "import pandas as pd\n",
    "import matplotlib.pyplot as plt\n",
    "import seaborn as sns\n",
    "\n",
    "import sklearn\n",
    "import joblib\n",
    "\n",
    "import warnings\n",
    "\n",
    "from sklearn.datasets import make_classification\n",
    "from sklearn.model_selection import train_test_split\n",
    "from sklearn.preprocessing import StandardScaler, MinMaxScaler, LabelEncoder, LabelBinarizer, label_binarize\n",
    "from sklearn.model_selection import RandomizedSearchCV, cross_val_score, KFold\n",
    "\n",
    "from sklearn.metrics import roc_curve, auc, precision_recall_fscore_support\n",
    "from sklearn.metrics import accuracy_score, precision_score, recall_score, r2_score, mean_squared_error, confusion_matrix, classification_report, ConfusionMatrixDisplay\n",
    "from sklearn.model_selection import GridSearchCV \n"
   ]
  }
 ],
 "metadata": {
  "kernelspec": {
   "display_name": "Python 3 (ipykernel)",
   "language": "python",
   "name": "python3"
  },
  "language_info": {
   "codemirror_mode": {
    "name": "ipython",
    "version": 3
   },
   "file_extension": ".py",
   "mimetype": "text/x-python",
   "name": "python",
   "nbconvert_exporter": "python",
   "pygments_lexer": "ipython3",
   "version": "3.13.5"
  }
 },
 "nbformat": 4,
 "nbformat_minor": 5
}
