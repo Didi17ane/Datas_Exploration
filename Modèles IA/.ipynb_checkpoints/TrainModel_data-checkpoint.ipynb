{
 "cells": [
  {
   "cell_type": "markdown",
   "id": "082d08ae-fa36-4181-bfb7-92642e4eb771",
   "metadata": {},
   "source": [
    "# **TRAINING MODEL**"
   ]
  },
  {
   "cell_type": "markdown",
   "id": "4d3e64c3-3bc0-479c-b01e-3ef1496a114a",
   "metadata": {
    "jp-MarkdownHeadingCollapsed": true
   },
   "source": [
    "## **LOADING DATA**"
   ]
  },
  {
   "cell_type": "code",
   "execution_count": 1,
   "id": "f7d5b17b-5e3d-44b3-aa12-3d51acfc6d1b",
   "metadata": {},
   "outputs": [],
   "source": [
    "# Import dataset\n",
    "\n",
    "file_score = \"../DATAS/CleanALL_EHCVM_ML.csv\""
   ]
  },
  {
   "cell_type": "markdown",
   "id": "d6369a38-2580-4d89-8242-ffd258a12118",
   "metadata": {
    "jp-MarkdownHeadingCollapsed": true
   },
   "source": [
    "## **IMPORTS LIBRARIES**"
   ]
  },
  {
   "cell_type": "code",
   "execution_count": 2,
   "id": "277b7cd7-8283-443d-ab2c-e0ca3c4a821a",
   "metadata": {},
   "outputs": [],
   "source": [
    "# Imports Libairies\n",
    "\n",
    "import numpy as np\n",
    "import pandas as pd\n",
    "import matplotlib.pyplot as plt\n",
    "import seaborn as sns\n",
    "\n",
    "import sklearn\n",
    "import joblib\n",
    "\n",
    "import warnings\n",
    "\n",
    "from sklearn.datasets import make_classification\n",
    "from sklearn.model_selection import train_test_split\n",
    "from sklearn.preprocessing import StandardScaler, MinMaxScaler, LabelEncoder, LabelBinarizer, label_binarize\n",
    "from sklearn.model_selection import RandomizedSearchCV, cross_val_score, KFold\n",
    "\n",
    "from sklearn.metrics import roc_curve, auc, precision_recall_fscore_support\n",
    "from sklearn.metrics import accuracy_score, precision_score, recall_score, r2_score, mean_squared_error, confusion_matrix, classification_report, ConfusionMatrixDisplay\n",
    "from sklearn.model_selection import GridSearchCV \n"
   ]
  },
  {
   "cell_type": "code",
   "execution_count": 3,
   "id": "408e3dca-7eb0-4355-9455-ab18730af2cd",
   "metadata": {},
   "outputs": [],
   "source": [
    "# Import Modèles\n",
    "\n",
    "from sklearn.svm import SVC\n",
    "\n",
    "from sklearn.inspection import DecisionBoundaryDisplay\n",
    "\n",
    "from sklearn.ensemble import RandomForestClassifier, RandomForestRegressor\n",
    "\n",
    "import xgboost as xgb\n",
    "from xgboost import XGBRegressor\n",
    "\n",
    "warnings.filterwarnings('ignore')"
   ]
  },
  {
   "cell_type": "markdown",
   "id": "e1ca1dd8-9811-4084-a606-da8c9fa2fe85",
   "metadata": {
    "jp-MarkdownHeadingCollapsed": true
   },
   "source": [
    "## **READ DATA**"
   ]
  },
  {
   "cell_type": "code",
   "execution_count": 4,
   "id": "4d51f87b-b76e-44aa-9f03-6733d0d7c8e0",
   "metadata": {},
   "outputs": [
    {
     "data": {
      "text/html": [
       "<div>\n",
       "<style scoped>\n",
       "    .dataframe tbody tr th:only-of-type {\n",
       "        vertical-align: middle;\n",
       "    }\n",
       "\n",
       "    .dataframe tbody tr th {\n",
       "        vertical-align: top;\n",
       "    }\n",
       "\n",
       "    .dataframe thead th {\n",
       "        text-align: right;\n",
       "    }\n",
       "</style>\n",
       "<table border=\"1\" class=\"dataframe\">\n",
       "  <thead>\n",
       "    <tr style=\"text-align: right;\">\n",
       "      <th></th>\n",
       "      <th>mstat</th>\n",
       "      <th>rev_total_mois</th>\n",
       "      <th>age_grp</th>\n",
       "      <th>empl_formel</th>\n",
       "      <th>bancarise</th>\n",
       "      <th>a_assurance</th>\n",
       "      <th>logem</th>\n",
       "    </tr>\n",
       "  </thead>\n",
       "  <tbody>\n",
       "    <tr>\n",
       "      <th>0</th>\n",
       "      <td>Célibataire</td>\n",
       "      <td>279244.0</td>\n",
       "      <td>25-34</td>\n",
       "      <td>1</td>\n",
       "      <td>1</td>\n",
       "      <td>0</td>\n",
       "      <td>Locataire</td>\n",
       "    </tr>\n",
       "    <tr>\n",
       "      <th>1</th>\n",
       "      <td>Célibataire</td>\n",
       "      <td>0.0</td>\n",
       "      <td>0-17</td>\n",
       "      <td>0</td>\n",
       "      <td>0</td>\n",
       "      <td>0</td>\n",
       "      <td>Locataire</td>\n",
       "    </tr>\n",
       "    <tr>\n",
       "      <th>2</th>\n",
       "      <td>Célibataire</td>\n",
       "      <td>0.0</td>\n",
       "      <td>0-17</td>\n",
       "      <td>0</td>\n",
       "      <td>0</td>\n",
       "      <td>0</td>\n",
       "      <td>Locataire</td>\n",
       "    </tr>\n",
       "    <tr>\n",
       "      <th>3</th>\n",
       "      <td>Célibataire</td>\n",
       "      <td>0.0</td>\n",
       "      <td>0-17</td>\n",
       "      <td>0</td>\n",
       "      <td>0</td>\n",
       "      <td>0</td>\n",
       "      <td>Locataire</td>\n",
       "    </tr>\n",
       "    <tr>\n",
       "      <th>4</th>\n",
       "      <td>Marié(e)</td>\n",
       "      <td>0.0</td>\n",
       "      <td>25-34</td>\n",
       "      <td>0</td>\n",
       "      <td>0</td>\n",
       "      <td>0</td>\n",
       "      <td>Locataire</td>\n",
       "    </tr>\n",
       "    <tr>\n",
       "      <th>...</th>\n",
       "      <td>...</td>\n",
       "      <td>...</td>\n",
       "      <td>...</td>\n",
       "      <td>...</td>\n",
       "      <td>...</td>\n",
       "      <td>...</td>\n",
       "      <td>...</td>\n",
       "    </tr>\n",
       "    <tr>\n",
       "      <th>64469</th>\n",
       "      <td>Célibataire</td>\n",
       "      <td>0.0</td>\n",
       "      <td>0-17</td>\n",
       "      <td>0</td>\n",
       "      <td>0</td>\n",
       "      <td>0</td>\n",
       "      <td>Proprietaire titre</td>\n",
       "    </tr>\n",
       "    <tr>\n",
       "      <th>64470</th>\n",
       "      <td>Célibataire</td>\n",
       "      <td>0.0</td>\n",
       "      <td>0-17</td>\n",
       "      <td>0</td>\n",
       "      <td>0</td>\n",
       "      <td>0</td>\n",
       "      <td>Proprietaire titre</td>\n",
       "    </tr>\n",
       "    <tr>\n",
       "      <th>64471</th>\n",
       "      <td>Célibataire</td>\n",
       "      <td>0.0</td>\n",
       "      <td>0-17</td>\n",
       "      <td>0</td>\n",
       "      <td>0</td>\n",
       "      <td>0</td>\n",
       "      <td>Proprietaire titre</td>\n",
       "    </tr>\n",
       "    <tr>\n",
       "      <th>64472</th>\n",
       "      <td>Célibataire</td>\n",
       "      <td>0.0</td>\n",
       "      <td>0-17</td>\n",
       "      <td>0</td>\n",
       "      <td>0</td>\n",
       "      <td>0</td>\n",
       "      <td>Proprietaire titre</td>\n",
       "    </tr>\n",
       "    <tr>\n",
       "      <th>64473</th>\n",
       "      <td>Marié(e)</td>\n",
       "      <td>0.0</td>\n",
       "      <td>35-44</td>\n",
       "      <td>0</td>\n",
       "      <td>1</td>\n",
       "      <td>0</td>\n",
       "      <td>Proprietaire titre</td>\n",
       "    </tr>\n",
       "  </tbody>\n",
       "</table>\n",
       "<p>64474 rows × 7 columns</p>\n",
       "</div>"
      ],
      "text/plain": [
       "             mstat  rev_total_mois age_grp  empl_formel  bancarise  \\\n",
       "0      Célibataire        279244.0   25-34            1          1   \n",
       "1      Célibataire             0.0    0-17            0          0   \n",
       "2      Célibataire             0.0    0-17            0          0   \n",
       "3      Célibataire             0.0    0-17            0          0   \n",
       "4         Marié(e)             0.0   25-34            0          0   \n",
       "...            ...             ...     ...          ...        ...   \n",
       "64469  Célibataire             0.0    0-17            0          0   \n",
       "64470  Célibataire             0.0    0-17            0          0   \n",
       "64471  Célibataire             0.0    0-17            0          0   \n",
       "64472  Célibataire             0.0    0-17            0          0   \n",
       "64473     Marié(e)             0.0   35-44            0          1   \n",
       "\n",
       "       a_assurance               logem  \n",
       "0                0           Locataire  \n",
       "1                0           Locataire  \n",
       "2                0           Locataire  \n",
       "3                0           Locataire  \n",
       "4                0           Locataire  \n",
       "...            ...                 ...  \n",
       "64469            0  Proprietaire titre  \n",
       "64470            0  Proprietaire titre  \n",
       "64471            0  Proprietaire titre  \n",
       "64472            0  Proprietaire titre  \n",
       "64473            0  Proprietaire titre  \n",
       "\n",
       "[64474 rows x 7 columns]"
      ]
     },
     "execution_count": 4,
     "metadata": {},
     "output_type": "execute_result"
    }
   ],
   "source": [
    "df_score = pd.read_csv(file_score)\n",
    "C_df_score = df_score.copy()\n",
    "C_df_score"
   ]
  },
  {
   "cell_type": "markdown",
   "id": "e754eb94-07f2-427c-9fce-c356ec5d593f",
   "metadata": {
    "jp-MarkdownHeadingCollapsed": true
   },
   "source": [
    "## **COURBE KDE (Kernel Density Estimator) : Approximation of the probability density of each variable**"
   ]
  },
  {
   "cell_type": "code",
   "execution_count": 5,
   "id": "72391e18-4e98-4c56-abd9-a90666880254",
   "metadata": {
    "scrolled": true
   },
   "outputs": [
    {
     "name": "stdout",
     "output_type": "stream",
     "text": [
      "Differentes catégories\n"
     ]
    },
    {
     "data": {
      "image/png": "[encoded data removed]",
      "text/plain": [
       "<Figure size 2000x2000 with 9 Axes>"
      ]
     },
     "metadata": {},
     "output_type": "display_data"
    }
   ],
   "source": [
    "fig, ax = plt.subplots(3, 3, figsize=(20, 20))\n",
    "ax = ax.flatten()\n",
    "i = 0\n",
    "C_df_score.replace([np.inf, -np.inf], np.nan, inplace=True)\n",
    "for col in C_df_score.columns:\n",
    "    sns.histplot(data = C_df_score, x=col,kde = True ,ax = ax[i])\n",
    "    i += 1\n",
    "plt.tight_layout(rect=[0, 0, 1, 0.96])\n",
    "print(\"Differentes catégories\")\n",
    "plt.show()"
   ]
  },
  {
   "cell_type": "markdown",
   "id": "b909c53d-8a4b-4194-99f6-a82f12a597f3",
   "metadata": {},
   "source": [
    "**INTEPRETATIONS DES GRAPHS :** \n",
    "\n",
    "**mstat (Situation matrimoniale)**\n",
    "\n",
    "    La variable montre une majorité d'individus célibataires et mariés, avec beaucoup moins d'unions libres, veufs, divorcés ou séparés. La distribution est très déséquilibrée, reflétant probablement la structure habituelle de la population adulte dans l'échantillon.\n",
    "\n",
    "**rev_total_mois (Revenu total mensuel)**\n",
    "\n",
    "    La répartition du revenu est très asymétrique à droite : la plupart des individus ont des revenus faibles, avec une toute petite proportion ayant des revenus très élevés. Cela suggère une forte inégalité économique ou sociale dans la population analysée.\n",
    "\n",
    "**age_grp (Groupe d'âge)**\n",
    "\n",
    "    On observe une concentration importante dans certains groupes d'âge (“0-17”, “25-34”) et moins de personnes dans les classes plus âgées (“65+”). Cette distribution est typique d’une population jeune.\n",
    "\n",
    "**empl_formel (Emploi formel)**\n",
    "\n",
    "    La majorité des individus n'ont pas d'emploi formel (valeur proche de zéro majoritaire). Cela traduit une forte prévalence de l’informel dans l’emploi.\n",
    "\n",
    "**bancarise (Bancarisation)**\n",
    "\n",
    "    On distingue deux pics distincts (0 et 1) : une part significative de la population n’a pas accès à la bancarisation. Cela confirme une faible inclusion financière “officielle” dans l’échantillon.\n",
    "\n",
    "**a_assurance (Accès à une assurance maladie)**\n",
    "\n",
    "    La tendance est similaire à la bancarisation : très peu de personnes disposent d'une assurance. La couverture reste très marginale.\n",
    "\n",
    "**logem (Statut logement)**\n",
    "\n",
    "    La distribution est légèrement inégale, avec une préférence claire pour certains statuts (propriétaire sans titre et locataire dominant), ce qui reflète les situations courantes de logement.\n",
    "\n",
    "**Profil_Score (Score d’inclusion financière)**\n",
    "\n",
    "    La variable se concentre autour de certains scores typiques, avec des pics répétés : cela reflète la segmentation introduite par tes règles de scoring. On note une diversité mais une polarisation sur quelques profils dominants.\n",
    "\n",
    "**OBSERVATION**\n",
    "    \n",
    "**Ces observations faites des tendances de la population ont un impact sur les critères du profil.**"
   ]
  },
  {
   "cell_type": "markdown",
   "id": "d94063f7-8016-455b-b8bc-48e21180d641",
   "metadata": {
    "jp-MarkdownHeadingCollapsed": true
   },
   "source": [
    "## **CREATION OF THE TARGET**"
   ]
  },
  {
   "cell_type": "code",
   "execution_count": 6,
   "id": "1de7d2c9-eb0d-43d7-8bd7-6e1d28a9cc12",
   "metadata": {},
   "outputs": [],
   "source": [
    "\n",
    "def score_inclusion_financiere(row):\n",
    "    score = 0\n",
    "       \n",
    "    #print(f\"\\n---------------------Data {row.name}------------------\\n\")\n",
    "\n",
    "    # Situation Matrimoniale (20 points)\n",
    "    if row['mstat'] in [\"Marié(e)\", \"Union libre\"]:\n",
    "        score += 20\n",
    "    elif row['mstat'] in [\"Célibataire\", \"Divorcé(e)\", \"Séparé\"]:\n",
    "        score += 8\n",
    "    elif row['mstat'] == \"Veuf(ve)\":\n",
    "        score += 10\n",
    "    \n",
    "    #print(f\"1 - {score}\")\n",
    "    \n",
    "    # Groupe d'Âge (10 points)\n",
    "    if row['age_grp'] in [\"18-24\", \"65+\"]:\n",
    "        score += 5\n",
    "    elif row['age_grp'] in [\"35-44\", \"45-54\"]:\n",
    "        score += 10\n",
    "    elif row['age_grp'] in [\"25-34\", \"55-64\"]:\n",
    "        score += 7\n",
    "    \n",
    "    #print(f\"2 - {score}\")\n",
    "    \n",
    "    # Bancarisation (15 points)\n",
    "    if row['bancarise'] == 1:\n",
    "        score += 15\n",
    "    elif row['bancarise'] == 0:\n",
    "        score += 8\n",
    "\n",
    "    #print(f\"3 - {score}\")\n",
    "    \n",
    "    # Assurance (5 points)\n",
    "    if row['a_assurance'] == 1:\n",
    "        score += 5\n",
    "    elif row['a_assurance'] == 0:\n",
    "        score += 2\n",
    "\n",
    "    #print(f\"4 - {score}\")\n",
    "    \n",
    "    # Emploi formel (5 points)\n",
    "    if row['empl_formel'] == 1:\n",
    "        score += 5\n",
    "    elif row['empl_formel'] == 0:\n",
    "        score += 2\n",
    "\n",
    "    #print(f\"5 - {score}\")\n",
    "\n",
    "    # Logement (20 points)\n",
    "    if row['logem'] in [\"Proprietaire sans titre\", \"Proprietaire titre\"]:\n",
    "        score += 20\n",
    "    elif row['logem'] == \"Locataire\":\n",
    "        score += 10\n",
    "\n",
    "    #print(f\"6 - {score}\")\n",
    "\n",
    "    # Revenu (25 points)\n",
    "    if (row['rev_total_mois'] >= 50000) and (row['rev_total_mois'] < 300000):\n",
    "        score += 5\n",
    "    elif (row['rev_total_mois'] >= 300000) and (row['rev_total_mois'] < 500000):\n",
    "        score += 10\n",
    "    elif (row['rev_total_mois'] >= 500000) and (row['rev_total_mois'] < 1000000):\n",
    "        score += 20\n",
    "    elif row['rev_total_mois'] >= 1000000:\n",
    "        score += 25\n",
    "\n",
    "    #print(f\"7 - {score}\")\n",
    "    #print(f\"\\n---------------------------------------\\n\")\n",
    "\n",
    "    return score\n"
   ]
  },
  {
   "cell_type": "code",
   "execution_count": 7,
   "id": "8bcc794b-9352-40b1-8ea8-359607a0740b",
   "metadata": {
    "scrolled": true
   },
   "outputs": [
    {
     "name": "stdout",
     "output_type": "stream",
     "text": [
      "-------------- FIN DE LA CREATION DU TARGET --------------\n"
     ]
    }
   ],
   "source": [
    "C_df_score['Profil_Score'] = C_df_score.apply(score_inclusion_financiere, axis=1)\n",
    "print(\"-------------- FIN DE LA CREATION DU TARGET --------------\")"
   ]
  },
  {
   "cell_type": "code",
   "execution_count": 8,
   "id": "8eac4605-4fc8-4b52-90c3-3bd6f87ba29e",
   "metadata": {},
   "outputs": [
    {
     "data": {
      "text/plain": [
       "array([ 52,  30,  49,  59,  56,  42,  44,  47,  37,  33,  45,  75,  70,\n",
       "        62,  20,  34,  27,  65,  35,  23,  25,  32,  60,  57,  50,  55,\n",
       "        64,  54,  40,  71,  74,  39,  46,  61,  68,  69,  43,  66,  85,\n",
       "        77,  67,  38,  72,  51,  36,  63,  82,  88,  92,  73,  87,  48,\n",
       "        94,  95, 100,  80,  79,  89,  90,  83,  84,  53,  28,  58,  76,\n",
       "        41,  29])"
      ]
     },
     "execution_count": 8,
     "metadata": {},
     "output_type": "execute_result"
    }
   ],
   "source": [
    "classes = C_df_score['Profil_Score'].unique()\n",
    "classes"
   ]
  },
  {
   "cell_type": "code",
   "execution_count": 9,
   "id": "872ac9c5-b35b-4f29-a232-29b536714e95",
   "metadata": {},
   "outputs": [
    {
     "data": {
      "text/plain": [
       "67"
      ]
     },
     "execution_count": 9,
     "metadata": {},
     "output_type": "execute_result"
    }
   ],
   "source": [
    "C_df_score['Profil_Score'].nunique()"
   ]
  },
  {
   "cell_type": "markdown",
   "id": "a3abfffc-1358-4306-80cb-b78a1afa7902",
   "metadata": {
    "jp-MarkdownHeadingCollapsed": true
   },
   "source": [
    "## **LABELING OF VARIABLES**"
   ]
  },
  {
   "cell_type": "code",
   "execution_count": 10,
   "id": "4b52aa3f-e753-438d-953d-19152559d6b2",
   "metadata": {
    "scrolled": true
   },
   "outputs": [
    {
     "data": {
      "text/html": [
       "<div>\n",
       "<style scoped>\n",
       "    .dataframe tbody tr th:only-of-type {\n",
       "        vertical-align: middle;\n",
       "    }\n",
       "\n",
       "    .dataframe tbody tr th {\n",
       "        vertical-align: top;\n",
       "    }\n",
       "\n",
       "    .dataframe thead th {\n",
       "        text-align: right;\n",
       "    }\n",
       "</style>\n",
       "<table border=\"1\" class=\"dataframe\">\n",
       "  <thead>\n",
       "    <tr style=\"text-align: right;\">\n",
       "      <th></th>\n",
       "      <th>mstat</th>\n",
       "      <th>rev_total_mois</th>\n",
       "      <th>age_grp</th>\n",
       "      <th>empl_formel</th>\n",
       "      <th>bancarise</th>\n",
       "      <th>a_assurance</th>\n",
       "      <th>logem</th>\n",
       "      <th>Profil_Score</th>\n",
       "    </tr>\n",
       "  </thead>\n",
       "  <tbody>\n",
       "    <tr>\n",
       "      <th>0</th>\n",
       "      <td>0</td>\n",
       "      <td>279244.0</td>\n",
       "      <td>2</td>\n",
       "      <td>1</td>\n",
       "      <td>1</td>\n",
       "      <td>0</td>\n",
       "      <td>1</td>\n",
       "      <td>52</td>\n",
       "    </tr>\n",
       "    <tr>\n",
       "      <th>1</th>\n",
       "      <td>0</td>\n",
       "      <td>0.0</td>\n",
       "      <td>0</td>\n",
       "      <td>0</td>\n",
       "      <td>0</td>\n",
       "      <td>0</td>\n",
       "      <td>1</td>\n",
       "      <td>30</td>\n",
       "    </tr>\n",
       "    <tr>\n",
       "      <th>2</th>\n",
       "      <td>0</td>\n",
       "      <td>0.0</td>\n",
       "      <td>0</td>\n",
       "      <td>0</td>\n",
       "      <td>0</td>\n",
       "      <td>0</td>\n",
       "      <td>1</td>\n",
       "      <td>30</td>\n",
       "    </tr>\n",
       "    <tr>\n",
       "      <th>3</th>\n",
       "      <td>0</td>\n",
       "      <td>0.0</td>\n",
       "      <td>0</td>\n",
       "      <td>0</td>\n",
       "      <td>0</td>\n",
       "      <td>0</td>\n",
       "      <td>1</td>\n",
       "      <td>30</td>\n",
       "    </tr>\n",
       "    <tr>\n",
       "      <th>4</th>\n",
       "      <td>2</td>\n",
       "      <td>0.0</td>\n",
       "      <td>2</td>\n",
       "      <td>0</td>\n",
       "      <td>0</td>\n",
       "      <td>0</td>\n",
       "      <td>1</td>\n",
       "      <td>49</td>\n",
       "    </tr>\n",
       "    <tr>\n",
       "      <th>...</th>\n",
       "      <td>...</td>\n",
       "      <td>...</td>\n",
       "      <td>...</td>\n",
       "      <td>...</td>\n",
       "      <td>...</td>\n",
       "      <td>...</td>\n",
       "      <td>...</td>\n",
       "      <td>...</td>\n",
       "    </tr>\n",
       "    <tr>\n",
       "      <th>64469</th>\n",
       "      <td>0</td>\n",
       "      <td>0.0</td>\n",
       "      <td>0</td>\n",
       "      <td>0</td>\n",
       "      <td>0</td>\n",
       "      <td>0</td>\n",
       "      <td>3</td>\n",
       "      <td>40</td>\n",
       "    </tr>\n",
       "    <tr>\n",
       "      <th>64470</th>\n",
       "      <td>0</td>\n",
       "      <td>0.0</td>\n",
       "      <td>0</td>\n",
       "      <td>0</td>\n",
       "      <td>0</td>\n",
       "      <td>0</td>\n",
       "      <td>3</td>\n",
       "      <td>40</td>\n",
       "    </tr>\n",
       "    <tr>\n",
       "      <th>64471</th>\n",
       "      <td>0</td>\n",
       "      <td>0.0</td>\n",
       "      <td>0</td>\n",
       "      <td>0</td>\n",
       "      <td>0</td>\n",
       "      <td>0</td>\n",
       "      <td>3</td>\n",
       "      <td>40</td>\n",
       "    </tr>\n",
       "    <tr>\n",
       "      <th>64472</th>\n",
       "      <td>0</td>\n",
       "      <td>0.0</td>\n",
       "      <td>0</td>\n",
       "      <td>0</td>\n",
       "      <td>0</td>\n",
       "      <td>0</td>\n",
       "      <td>3</td>\n",
       "      <td>40</td>\n",
       "    </tr>\n",
       "    <tr>\n",
       "      <th>64473</th>\n",
       "      <td>2</td>\n",
       "      <td>0.0</td>\n",
       "      <td>3</td>\n",
       "      <td>0</td>\n",
       "      <td>1</td>\n",
       "      <td>0</td>\n",
       "      <td>3</td>\n",
       "      <td>69</td>\n",
       "    </tr>\n",
       "  </tbody>\n",
       "</table>\n",
       "<p>64474 rows × 8 columns</p>\n",
       "</div>"
      ],
      "text/plain": [
       "       mstat  rev_total_mois  age_grp  empl_formel  bancarise  a_assurance  \\\n",
       "0          0        279244.0        2            1          1            0   \n",
       "1          0             0.0        0            0          0            0   \n",
       "2          0             0.0        0            0          0            0   \n",
       "3          0             0.0        0            0          0            0   \n",
       "4          2             0.0        2            0          0            0   \n",
       "...      ...             ...      ...          ...        ...          ...   \n",
       "64469      0             0.0        0            0          0            0   \n",
       "64470      0             0.0        0            0          0            0   \n",
       "64471      0             0.0        0            0          0            0   \n",
       "64472      0             0.0        0            0          0            0   \n",
       "64473      2             0.0        3            0          1            0   \n",
       "\n",
       "       logem  Profil_Score  \n",
       "0          1            52  \n",
       "1          1            30  \n",
       "2          1            30  \n",
       "3          1            30  \n",
       "4          1            49  \n",
       "...      ...           ...  \n",
       "64469      3            40  \n",
       "64470      3            40  \n",
       "64471      3            40  \n",
       "64472      3            40  \n",
       "64473      3            69  \n",
       "\n",
       "[64474 rows x 8 columns]"
      ]
     },
     "execution_count": 10,
     "metadata": {},
     "output_type": "execute_result"
    }
   ],
   "source": [
    "label_encoders = {}\n",
    "\n",
    "# Variables catégorielles à encoder\n",
    "cat_cols = ['mstat', 'age_grp', 'logem']\n",
    "\n",
    "for col in cat_cols:\n",
    "    le = LabelEncoder()\n",
    "    C_df_score[col] = le.fit_transform(C_df_score[col])\n",
    "    label_encoders[col] = le\n",
    "C_df_score"
   ]
  },
  {
   "cell_type": "code",
   "execution_count": 11,
   "id": "791367c8-4bd4-40cf-bbb3-aaa00397fef4",
   "metadata": {
    "jupyter": {
     "source_hidden": true
    }
   },
   "outputs": [
    {
     "name": "stdout",
     "output_type": "stream",
     "text": [
      "Mapping 'mstat':\n",
      "  Célibataire -> 0\n",
      "  Divorcé(e) -> 1\n",
      "  Marié(e) -> 2\n",
      "  Séparé -> 3\n",
      "  Union libre -> 4\n",
      "  Veuf(ve) -> 5\n",
      "------------------------------\n",
      "Mapping 'age_grp':\n",
      "  0-17 -> 0\n",
      "  18-24 -> 1\n",
      "  25-34 -> 2\n",
      "  35-44 -> 3\n",
      "  45-54 -> 4\n",
      "  55-64 -> 5\n",
      "  65+ -> 6\n",
      "------------------------------\n",
      "Mapping 'logem':\n",
      "  Autre -> 0\n",
      "  Locataire -> 1\n",
      "  Proprietaire sans titre -> 2\n",
      "  Proprietaire titre -> 3\n",
      "------------------------------\n"
     ]
    }
   ],
   "source": [
    "# Afficher les mappings pour chaque variable\n",
    "for col in cat_cols:\n",
    "    le = label_encoders[col]\n",
    "    mapping = dict(zip(le.classes_, le.transform(le.classes_)))\n",
    "    print(f\"Mapping '{col}':\")\n",
    "    for k, v in mapping.items():\n",
    "        print(f\"  {k} -> {v}\")\n",
    "    print(\"-\" * 30)"
   ]
  },
  {
   "cell_type": "code",
   "execution_count": 12,
   "id": "6f46ad1a-9e59-4834-846b-8196e006928d",
   "metadata": {},
   "outputs": [
    {
     "data": {
      "text/html": [
       "<div>\n",
       "<style scoped>\n",
       "    .dataframe tbody tr th:only-of-type {\n",
       "        vertical-align: middle;\n",
       "    }\n",
       "\n",
       "    .dataframe tbody tr th {\n",
       "        vertical-align: top;\n",
       "    }\n",
       "\n",
       "    .dataframe thead th {\n",
       "        text-align: right;\n",
       "    }\n",
       "</style>\n",
       "<table border=\"1\" class=\"dataframe\">\n",
       "  <thead>\n",
       "    <tr style=\"text-align: right;\">\n",
       "      <th></th>\n",
       "      <th>mstat</th>\n",
       "      <th>rev_total_mois</th>\n",
       "      <th>age_grp</th>\n",
       "      <th>empl_formel</th>\n",
       "      <th>bancarise</th>\n",
       "      <th>a_assurance</th>\n",
       "      <th>logem</th>\n",
       "      <th>Profil_Score</th>\n",
       "    </tr>\n",
       "  </thead>\n",
       "  <tbody>\n",
       "    <tr>\n",
       "      <th>0</th>\n",
       "      <td>0</td>\n",
       "      <td>279244.0</td>\n",
       "      <td>2</td>\n",
       "      <td>1</td>\n",
       "      <td>1</td>\n",
       "      <td>0</td>\n",
       "      <td>1</td>\n",
       "      <td>52</td>\n",
       "    </tr>\n",
       "    <tr>\n",
       "      <th>1</th>\n",
       "      <td>0</td>\n",
       "      <td>0.0</td>\n",
       "      <td>0</td>\n",
       "      <td>0</td>\n",
       "      <td>0</td>\n",
       "      <td>0</td>\n",
       "      <td>1</td>\n",
       "      <td>30</td>\n",
       "    </tr>\n",
       "    <tr>\n",
       "      <th>2</th>\n",
       "      <td>0</td>\n",
       "      <td>0.0</td>\n",
       "      <td>0</td>\n",
       "      <td>0</td>\n",
       "      <td>0</td>\n",
       "      <td>0</td>\n",
       "      <td>1</td>\n",
       "      <td>30</td>\n",
       "    </tr>\n",
       "    <tr>\n",
       "      <th>3</th>\n",
       "      <td>0</td>\n",
       "      <td>0.0</td>\n",
       "      <td>0</td>\n",
       "      <td>0</td>\n",
       "      <td>0</td>\n",
       "      <td>0</td>\n",
       "      <td>1</td>\n",
       "      <td>30</td>\n",
       "    </tr>\n",
       "    <tr>\n",
       "      <th>4</th>\n",
       "      <td>2</td>\n",
       "      <td>0.0</td>\n",
       "      <td>2</td>\n",
       "      <td>0</td>\n",
       "      <td>0</td>\n",
       "      <td>0</td>\n",
       "      <td>1</td>\n",
       "      <td>49</td>\n",
       "    </tr>\n",
       "    <tr>\n",
       "      <th>...</th>\n",
       "      <td>...</td>\n",
       "      <td>...</td>\n",
       "      <td>...</td>\n",
       "      <td>...</td>\n",
       "      <td>...</td>\n",
       "      <td>...</td>\n",
       "      <td>...</td>\n",
       "      <td>...</td>\n",
       "    </tr>\n",
       "    <tr>\n",
       "      <th>64469</th>\n",
       "      <td>0</td>\n",
       "      <td>0.0</td>\n",
       "      <td>0</td>\n",
       "      <td>0</td>\n",
       "      <td>0</td>\n",
       "      <td>0</td>\n",
       "      <td>3</td>\n",
       "      <td>40</td>\n",
       "    </tr>\n",
       "    <tr>\n",
       "      <th>64470</th>\n",
       "      <td>0</td>\n",
       "      <td>0.0</td>\n",
       "      <td>0</td>\n",
       "      <td>0</td>\n",
       "      <td>0</td>\n",
       "      <td>0</td>\n",
       "      <td>3</td>\n",
       "      <td>40</td>\n",
       "    </tr>\n",
       "    <tr>\n",
       "      <th>64471</th>\n",
       "      <td>0</td>\n",
       "      <td>0.0</td>\n",
       "      <td>0</td>\n",
       "      <td>0</td>\n",
       "      <td>0</td>\n",
       "      <td>0</td>\n",
       "      <td>3</td>\n",
       "      <td>40</td>\n",
       "    </tr>\n",
       "    <tr>\n",
       "      <th>64472</th>\n",
       "      <td>0</td>\n",
       "      <td>0.0</td>\n",
       "      <td>0</td>\n",
       "      <td>0</td>\n",
       "      <td>0</td>\n",
       "      <td>0</td>\n",
       "      <td>3</td>\n",
       "      <td>40</td>\n",
       "    </tr>\n",
       "    <tr>\n",
       "      <th>64473</th>\n",
       "      <td>2</td>\n",
       "      <td>0.0</td>\n",
       "      <td>3</td>\n",
       "      <td>0</td>\n",
       "      <td>1</td>\n",
       "      <td>0</td>\n",
       "      <td>3</td>\n",
       "      <td>69</td>\n",
       "    </tr>\n",
       "  </tbody>\n",
       "</table>\n",
       "<p>64474 rows × 8 columns</p>\n",
       "</div>"
      ],
      "text/plain": [
       "       mstat  rev_total_mois  age_grp  empl_formel  bancarise  a_assurance  \\\n",
       "0          0        279244.0        2            1          1            0   \n",
       "1          0             0.0        0            0          0            0   \n",
       "2          0             0.0        0            0          0            0   \n",
       "3          0             0.0        0            0          0            0   \n",
       "4          2             0.0        2            0          0            0   \n",
       "...      ...             ...      ...          ...        ...          ...   \n",
       "64469      0             0.0        0            0          0            0   \n",
       "64470      0             0.0        0            0          0            0   \n",
       "64471      0             0.0        0            0          0            0   \n",
       "64472      0             0.0        0            0          0            0   \n",
       "64473      2             0.0        3            0          1            0   \n",
       "\n",
       "       logem  Profil_Score  \n",
       "0          1            52  \n",
       "1          1            30  \n",
       "2          1            30  \n",
       "3          1            30  \n",
       "4          1            49  \n",
       "...      ...           ...  \n",
       "64469      3            40  \n",
       "64470      3            40  \n",
       "64471      3            40  \n",
       "64472      3            40  \n",
       "64473      3            69  \n",
       "\n",
       "[64474 rows x 8 columns]"
      ]
     },
     "execution_count": 12,
     "metadata": {},
     "output_type": "execute_result"
    }
   ],
   "source": [
    "C_df_score"
   ]
  },
  {
   "cell_type": "markdown",
   "id": "da22eaf4-1947-4562-a204-9970bc21a7c7",
   "metadata": {
    "jp-MarkdownHeadingCollapsed": true
   },
   "source": [
    "### **Correlation Matrix**"
   ]
  },
  {
   "cell_type": "code",
   "execution_count": 13,
   "id": "a2572b39-3a2d-49fb-937a-88e6a3afa62b",
   "metadata": {},
   "outputs": [
    {
     "data": {
      "image/png": "[encoded data removed]",
      "text/plain": [
       "<Figure size 1200x600 with 2 Axes>"
      ]
     },
     "metadata": {},
     "output_type": "display_data"
    }
   ],
   "source": [
    "df_subset = C_df_score\n",
    "corr_matrix = df_subset.corr()\n",
    "plt.figure(figsize = (12,6))\n",
    "sns.heatmap(corr_matrix, annot=True, cmap='coolwarm', fmt=\".2f\", linewidths=0.5)\n",
    "plt.title(\"Correlation Matrix\")\n",
    "plt.show()"
   ]
  },
  {
   "cell_type": "markdown",
   "id": "930ea6a9-4148-4814-82c1-16d4f8a12c82",
   "metadata": {},
   "source": [
    "#### Les méthodes de filtrage comme la corrélation ou le seuil de variance sont excellentes quand nous avons beaucoup de caractéristiques et voulons supprimer rapidement celles qui ne sont pas pertinentes et voir le comportement des caractérisques par rapport à la variable cible. Cependant, si nous voulons maximiser les performances du modèle et avoir les ressources de calcul, nous pourrions vouloir explorer des méthodes d'emballage comme RFE ou des méthodes intégrées comme Lasso. \n",
    "\n",
    "#### La matrice de correlation permet aussi d'observer les variables qui sont corrélées entre elles et celles qui ont un impact sur la variable cible. Ainsi l'on à une idée de comment maximiser les performances du modèle et optimiser à l'avance les erreurs possibles du modèle.\n",
    "\n",
    "#### OBSERVATION : Les variables ne sont pas corrélées entre elles et à la variable cible. Pas de problème à ce niveau. "
   ]
  },
  {
   "cell_type": "markdown",
   "id": "a8fa676c-ab2c-465d-a75a-ee4bebba3157",
   "metadata": {
    "jp-MarkdownHeadingCollapsed": true
   },
   "source": [
    "## **SEPARATE THE FEATURES FROM THE TARGET**"
   ]
  },
  {
   "cell_type": "code",
   "execution_count": 14,
   "id": "bc52714b-f741-4c0a-bf86-fde9beb0e1e8",
   "metadata": {},
   "outputs": [],
   "source": [
    "# Separation des caractérisques et de la cible\n",
    "\n",
    "X = C_df_score.drop(columns=['Profil_Score'])\n",
    "y = C_df_score['Profil_Score']"
   ]
  },
  {
   "cell_type": "code",
   "execution_count": 15,
   "id": "82a4934d-0eba-4e50-b3fa-797be0601409",
   "metadata": {
    "scrolled": true
   },
   "outputs": [
    {
     "data": {
      "text/html": [
       "<div>\n",
       "<style scoped>\n",
       "    .dataframe tbody tr th:only-of-type {\n",
       "        vertical-align: middle;\n",
       "    }\n",
       "\n",
       "    .dataframe tbody tr th {\n",
       "        vertical-align: top;\n",
       "    }\n",
       "\n",
       "    .dataframe thead th {\n",
       "        text-align: right;\n",
       "    }\n",
       "</style>\n",
       "<table border=\"1\" class=\"dataframe\">\n",
       "  <thead>\n",
       "    <tr style=\"text-align: right;\">\n",
       "      <th></th>\n",
       "      <th>mstat</th>\n",
       "      <th>rev_total_mois</th>\n",
       "      <th>age_grp</th>\n",
       "      <th>empl_formel</th>\n",
       "      <th>bancarise</th>\n",
       "      <th>a_assurance</th>\n",
       "      <th>logem</th>\n",
       "    </tr>\n",
       "  </thead>\n",
       "  <tbody>\n",
       "    <tr>\n",
       "      <th>0</th>\n",
       "      <td>0</td>\n",
       "      <td>279244.0</td>\n",
       "      <td>2</td>\n",
       "      <td>1</td>\n",
       "      <td>1</td>\n",
       "      <td>0</td>\n",
       "      <td>1</td>\n",
       "    </tr>\n",
       "    <tr>\n",
       "      <th>1</th>\n",
       "      <td>0</td>\n",
       "      <td>0.0</td>\n",
       "      <td>0</td>\n",
       "      <td>0</td>\n",
       "      <td>0</td>\n",
       "      <td>0</td>\n",
       "      <td>1</td>\n",
       "    </tr>\n",
       "    <tr>\n",
       "      <th>2</th>\n",
       "      <td>0</td>\n",
       "      <td>0.0</td>\n",
       "      <td>0</td>\n",
       "      <td>0</td>\n",
       "      <td>0</td>\n",
       "      <td>0</td>\n",
       "      <td>1</td>\n",
       "    </tr>\n",
       "    <tr>\n",
       "      <th>3</th>\n",
       "      <td>0</td>\n",
       "      <td>0.0</td>\n",
       "      <td>0</td>\n",
       "      <td>0</td>\n",
       "      <td>0</td>\n",
       "      <td>0</td>\n",
       "      <td>1</td>\n",
       "    </tr>\n",
       "    <tr>\n",
       "      <th>4</th>\n",
       "      <td>2</td>\n",
       "      <td>0.0</td>\n",
       "      <td>2</td>\n",
       "      <td>0</td>\n",
       "      <td>0</td>\n",
       "      <td>0</td>\n",
       "      <td>1</td>\n",
       "    </tr>\n",
       "    <tr>\n",
       "      <th>...</th>\n",
       "      <td>...</td>\n",
       "      <td>...</td>\n",
       "      <td>...</td>\n",
       "      <td>...</td>\n",
       "      <td>...</td>\n",
       "      <td>...</td>\n",
       "      <td>...</td>\n",
       "    </tr>\n",
       "    <tr>\n",
       "      <th>64469</th>\n",
       "      <td>0</td>\n",
       "      <td>0.0</td>\n",
       "      <td>0</td>\n",
       "      <td>0</td>\n",
       "      <td>0</td>\n",
       "      <td>0</td>\n",
       "      <td>3</td>\n",
       "    </tr>\n",
       "    <tr>\n",
       "      <th>64470</th>\n",
       "      <td>0</td>\n",
       "      <td>0.0</td>\n",
       "      <td>0</td>\n",
       "      <td>0</td>\n",
       "      <td>0</td>\n",
       "      <td>0</td>\n",
       "      <td>3</td>\n",
       "    </tr>\n",
       "    <tr>\n",
       "      <th>64471</th>\n",
       "      <td>0</td>\n",
       "      <td>0.0</td>\n",
       "      <td>0</td>\n",
       "      <td>0</td>\n",
       "      <td>0</td>\n",
       "      <td>0</td>\n",
       "      <td>3</td>\n",
       "    </tr>\n",
       "    <tr>\n",
       "      <th>64472</th>\n",
       "      <td>0</td>\n",
       "      <td>0.0</td>\n",
       "      <td>0</td>\n",
       "      <td>0</td>\n",
       "      <td>0</td>\n",
       "      <td>0</td>\n",
       "      <td>3</td>\n",
       "    </tr>\n",
       "    <tr>\n",
       "      <th>64473</th>\n",
       "      <td>2</td>\n",
       "      <td>0.0</td>\n",
       "      <td>3</td>\n",
       "      <td>0</td>\n",
       "      <td>1</td>\n",
       "      <td>0</td>\n",
       "      <td>3</td>\n",
       "    </tr>\n",
       "  </tbody>\n",
       "</table>\n",
       "<p>64474 rows × 7 columns</p>\n",
       "</div>"
      ],
      "text/plain": [
       "       mstat  rev_total_mois  age_grp  empl_formel  bancarise  a_assurance  \\\n",
       "0          0        279244.0        2            1          1            0   \n",
       "1          0             0.0        0            0          0            0   \n",
       "2          0             0.0        0            0          0            0   \n",
       "3          0             0.0        0            0          0            0   \n",
       "4          2             0.0        2            0          0            0   \n",
       "...      ...             ...      ...          ...        ...          ...   \n",
       "64469      0             0.0        0            0          0            0   \n",
       "64470      0             0.0        0            0          0            0   \n",
       "64471      0             0.0        0            0          0            0   \n",
       "64472      0             0.0        0            0          0            0   \n",
       "64473      2             0.0        3            0          1            0   \n",
       "\n",
       "       logem  \n",
       "0          1  \n",
       "1          1  \n",
       "2          1  \n",
       "3          1  \n",
       "4          1  \n",
       "...      ...  \n",
       "64469      3  \n",
       "64470      3  \n",
       "64471      3  \n",
       "64472      3  \n",
       "64473      3  \n",
       "\n",
       "[64474 rows x 7 columns]"
      ]
     },
     "execution_count": 15,
     "metadata": {},
     "output_type": "execute_result"
    }
   ],
   "source": [
    "X"
   ]
  },
  {
   "cell_type": "code",
   "execution_count": 16,
   "id": "3a92fabc-068c-4132-8425-bb9877285908",
   "metadata": {},
   "outputs": [
    {
     "data": {
      "text/plain": [
       "0        52\n",
       "1        30\n",
       "2        30\n",
       "3        30\n",
       "4        49\n",
       "         ..\n",
       "64469    40\n",
       "64470    40\n",
       "64471    40\n",
       "64472    40\n",
       "64473    69\n",
       "Name: Profil_Score, Length: 64474, dtype: int64"
      ]
     },
     "execution_count": 16,
     "metadata": {},
     "output_type": "execute_result"
    }
   ],
   "source": [
    "y"
   ]
  },
  {
   "cell_type": "markdown",
   "id": "f7fa2823-61fd-4a71-8970-0f7d9cd85072",
   "metadata": {
    "jp-MarkdownHeadingCollapsed": true
   },
   "source": [
    "## **STANDARDIZATION OF VARIABLES**"
   ]
  },
  {
   "cell_type": "code",
   "execution_count": 17,
   "id": "af1cd538-42be-400b-ac13-d806180507e3",
   "metadata": {},
   "outputs": [],
   "source": [
    "scaler = StandardScaler()\n",
    "X_scaled = scaler.fit_transform(X)"
   ]
  },
  {
   "cell_type": "code",
   "execution_count": 18,
   "id": "25c5ee53-671c-4fec-be7b-4005b825408d",
   "metadata": {},
   "outputs": [
    {
     "data": {
      "text/plain": [
       "array([[-0.67203399,  5.59637273,  0.3093478 , ...,  1.65510041,\n",
       "        -0.18989412, -0.67477797],\n",
       "       [-0.67203399, -0.18247058, -0.8007677 , ..., -0.60419295,\n",
       "        -0.18989412, -0.67477797],\n",
       "       [-0.67203399, -0.18247058, -0.8007677 , ..., -0.60419295,\n",
       "        -0.18989412, -0.67477797],\n",
       "       ...,\n",
       "       [-0.67203399, -0.18247058, -0.8007677 , ..., -0.60419295,\n",
       "        -0.18989412,  1.23177511],\n",
       "       [-0.67203399, -0.18247058, -0.8007677 , ..., -0.60419295,\n",
       "        -0.18989412,  1.23177511],\n",
       "       [ 0.8735435 , -0.18247058,  0.86440555, ...,  1.65510041,\n",
       "        -0.18989412,  1.23177511]])"
      ]
     },
     "execution_count": 18,
     "metadata": {},
     "output_type": "execute_result"
    }
   ],
   "source": [
    "X_scaled"
   ]
  },
  {
   "cell_type": "markdown",
   "id": "e90fbae2-ba92-441c-81f4-ff83a9299161",
   "metadata": {
    "jp-MarkdownHeadingCollapsed": true
   },
   "source": [
    "## **SEPARATION OF TRAINING AND TESTING**"
   ]
  },
  {
   "cell_type": "code",
   "execution_count": 19,
   "id": "bd2ae76f-02fe-48b3-bdf6-6e7da0e5a511",
   "metadata": {},
   "outputs": [],
   "source": [
    "features = ['mstat', 'age_grp', 'bancarise', 'a_assurance', 'empl_formel', 'logem', 'rev_total_mois']\n",
    "target = 'Profil_Score'"
   ]
  },
  {
   "cell_type": "code",
   "execution_count": 20,
   "id": "08d1aa6f-fe75-4b7d-9f22-f544f1bff749",
   "metadata": {},
   "outputs": [
    {
     "name": "stdout",
     "output_type": "stream",
     "text": [
      "X_train :(51579, 7)\n",
      "y_train :(51579,)\n",
      "X_test :(12895, 7)\n",
      "y_test :(12895,)\n"
     ]
    }
   ],
   "source": [
    "# Données d'entrainement et de test\n",
    "\n",
    "X_train, X_test, y_train, y_test = train_test_split(X_scaled, y, test_size=0.2, random_state=42)\n",
    "print(f\"X_train :{X_train.shape}\")\n",
    "print(f\"y_train :{y_train.shape}\")\n",
    "print(f\"X_test :{X_test.shape}\")\n",
    "print(f\"y_test :{y_test.shape}\")"
   ]
  },
  {
   "cell_type": "code",
   "execution_count": 21,
   "id": "21e593da-50d6-446f-b040-94c2ac77a0d9",
   "metadata": {},
   "outputs": [
    {
     "data": {
      "text/plain": [
       "array([[ 0.8735435 , -0.18247058,  1.4194633 , ...,  1.65510041,\n",
       "        -0.18989412, -1.62805451],\n",
       "       [ 0.10075476, -0.18247058,  1.4194633 , ...,  1.65510041,\n",
       "        -0.18989412, -1.62805451],\n",
       "       [ 3.19190972,  0.87654631,  1.97452105, ..., -0.60419295,\n",
       "        -0.18989412, -1.62805451],\n",
       "       ...,\n",
       "       [-0.67203399, -0.18247058, -0.8007677 , ...,  1.65510041,\n",
       "        -0.18989412,  1.23177511],\n",
       "       [-0.67203399, -0.18247058, -0.8007677 , ..., -0.60419295,\n",
       "        -0.18989412, -1.62805451],\n",
       "       [ 0.8735435 , -0.18247058,  0.3093478 , ...,  1.65510041,\n",
       "         5.26609239, -1.62805451]])"
      ]
     },
     "execution_count": 21,
     "metadata": {},
     "output_type": "execute_result"
    }
   ],
   "source": [
    "X_train"
   ]
  },
  {
   "cell_type": "markdown",
   "id": "7322af30-ced3-4294-96fa-4db20b08e08d",
   "metadata": {
    "jp-MarkdownHeadingCollapsed": true
   },
   "source": [
    "## **MODEL TRAINING PROCESS**"
   ]
  },
  {
   "cell_type": "markdown",
   "id": "af0388b0-9621-4ebf-8d68-e4d64dedec90",
   "metadata": {
    "jp-MarkdownHeadingCollapsed": true
   },
   "source": [
    "### **Choice The Best Model**"
   ]
  },
  {
   "cell_type": "code",
   "execution_count": 22,
   "id": "110ede9d-d412-4ca5-bc32-8c7eb0493774",
   "metadata": {},
   "outputs": [],
   "source": [
    "models = {\n",
    "    \"Random Regressor\" : RandomForestRegressor(n_estimators=100, random_state=42, max_depth=10),\n",
    "    \"XGBRegressor\" : XGBRegressor(n_estimators=38, learning_rate=0.13, random_state=42)\n",
    "}\n",
    "\n",
    "results = {}"
   ]
  },
  {
   "cell_type": "code",
   "execution_count": 23,
   "id": "7b902d0a-36c8-469c-8d6f-9f208740aa0f",
   "metadata": {},
   "outputs": [
    {
     "name": "stdout",
     "output_type": "stream",
     "text": [
      "\n",
      "🏆 Random Regressor\n",
      "          - RMSE CV: 0.5285 ± 0.0203\n",
      "          - R2 CV: 0.9985 ± 0.0001\n",
      "          - R2 (test): 0.9987\n",
      "          - RMSE (test): 0.4887\n",
      "\n",
      "          Importance des variables :\n",
      "          variable  importance\n",
      "0           mstat    0.560871\n",
      "6  rev_total_mois    0.309718\n",
      "2       bancarise    0.061278\n",
      "4     empl_formel    0.048295\n",
      "1         age_grp    0.017278\n",
      "5           logem    0.001495\n",
      "3     a_assurance    0.001066\n"
     ]
    },
    {
     "data": {
      "image/png": "[encoded data removed]",
      "text/plain": [
       "<Figure size 1000x600 with 1 Axes>"
      ]
     },
     "metadata": {},
     "output_type": "display_data"
    },
    {
     "name": "stdout",
     "output_type": "stream",
     "text": [
      "\n",
      "🏆 XGBRegressor\n",
      "          - RMSE CV: 0.3126 ± 0.0183\n",
      "          - R2 CV: 0.9995 ± 0.0001\n",
      "          - R2 (test): 0.9996\n",
      "          - RMSE (test): 0.2751\n",
      "\n",
      "          Importance des variables :\n",
      "          variable  importance\n",
      "0           mstat    0.472034\n",
      "6  rev_total_mois    0.386805\n",
      "2       bancarise    0.066933\n",
      "4     empl_formel    0.053750\n",
      "1         age_grp    0.009277\n",
      "3     a_assurance    0.008562\n",
      "5           logem    0.002639\n"
     ]
    },
    {
     "data": {
      "image/png": "[encoded data removed]",
      "text/plain": [
       "<Figure size 1000x600 with 1 Axes>"
      ]
     },
     "metadata": {},
     "output_type": "display_data"
    }
   ],
   "source": [
    "for name, model in models.items():\n",
    "    # Validation croisée sur le train set\n",
    "    rmse_scores = -cross_val_score(model, X_train, y_train, cv=5, scoring='neg_root_mean_squared_error')\n",
    "    r2_scores = cross_val_score(model, X_train, y_train, cv=5, scoring='r2')\n",
    "    print(f\"\\n🏆 {name}\")\n",
    "    print(f\"          - RMSE CV: {rmse_scores.mean():.4f} ± {rmse_scores.std():.4f}\")\n",
    "    print(f\"          - R2 CV: {r2_scores.mean():.4f} ± {r2_scores.std():.4f}\")\n",
    "\n",
    "    # Fit sur tout le train set et prédiction sur test\n",
    "    model.fit(X_train, y_train)\n",
    "    y_pred = model.predict(X_test)\n",
    "    rmse = np.sqrt(mean_squared_error(y_test, y_pred))\n",
    "    r2 = r2_score(y_test, y_pred)\n",
    "    print(f\"          - R2 (test): {r2:.4f}\")\n",
    "    print(f\"          - RMSE (test): {rmse:.4f}\\n\")\n",
    "    joblib.dump(model, f'{name}.joblib')\n",
    "    results[name] = {'rmse_cv': rmse_scores.mean(), 'r2_cv': r2_scores.mean(), 'rmse_test': rmse, 'r2_test': r2}\n",
    "\n",
    "    # Importance des variables\n",
    "    if hasattr(model, \"feature_importances_\"):\n",
    "        importances = model.feature_importances_\n",
    "        importance_df = pd.DataFrame({'variable': features, 'importance': importances}).sort_values(by='importance', ascending=False)\n",
    "        print(\"          Importance des variables :\\n\", importance_df)\n",
    "        plt.figure(figsize=(10, 6))\n",
    "        plt.barh(importance_df['variable'], importance_df['importance'], color='steelblue')\n",
    "        plt.xlabel('Importance', fontsize=12)\n",
    "        plt.title(f'📊 Importance des Variables ({name})', fontsize=14, fontweight='bold')\n",
    "        plt.gca().invert_yaxis()\n",
    "        plt.tight_layout()\n",
    "        plt.savefig(f'feature_importance_{name}.png', dpi=300, bbox_inches='tight')\n",
    "        plt.show()"
   ]
  },
  {
   "cell_type": "markdown",
   "id": "0a4f9696-2a9e-4fb0-b828-b46c1185b867",
   "metadata": {
    "jp-MarkdownHeadingCollapsed": true
   },
   "source": [
    "### **Vizualisation Models**"
   ]
  },
  {
   "cell_type": "code",
   "execution_count": 24,
   "id": "fe6a7b69-3f31-4ae7-8ab5-676ff8baed2f",
   "metadata": {},
   "outputs": [
    {
     "data": {
      "image/png": "[encoded data removed]",
      "text/plain": [
       "<Figure size 1000x600 with 1 Axes>"
      ]
     },
     "metadata": {},
     "output_type": "display_data"
    }
   ],
   "source": [
    "results_long = []\n",
    "for model, scores in results.items():\n",
    "    for metric, value in scores.items():\n",
    "        results_long.append({'Model': model, 'Metric': metric, 'Score': value})\n",
    "\n",
    "results_df = pd.DataFrame(results_long)\n",
    "\n",
    "# Visualisation : un barplot par métrique\n",
    "plt.figure(figsize=(10, 6))\n",
    "sns.barplot(x=\"Score\", y=\"Model\", hue=\"Metric\", data=results_df, palette=\"viridis\")\n",
    "plt.xlabel(\"Score\")\n",
    "plt.ylabel(\"Model\")\n",
    "plt.title(\"Comparaison des scores des modèles\")\n",
    "plt.legend(title=\"Métrique\")\n",
    "plt.tight_layout()\n",
    "plt.show()"
   ]
  },
  {
   "cell_type": "markdown",
   "id": "2544630e-afe0-4736-9389-2c8f74ee1ebd",
   "metadata": {},
   "source": [
    "### **Search for the Hyperparameter of the Best Model**"
   ]
  },
  {
   "cell_type": "markdown",
   "id": "62717975-bb3d-41a2-b83a-4df432284e4d",
   "metadata": {
    "jp-MarkdownHeadingCollapsed": true
   },
   "source": [
    "### **Search for the Hyperparameter of Random Forest Regressor**"
   ]
  },
  {
   "cell_type": "code",
   "execution_count": 25,
   "id": "f1d9de97-da07-4dc3-bf57-ff3888cfcf4d",
   "metadata": {},
   "outputs": [],
   "source": [
    "rf = RandomForestRegressor(random_state=42)\n",
    "\n",
    "# Grille d'hyperparamètres\n",
    "param_grid_rf = {\n",
    "    'n_estimators': [100, 200],\n",
    "    'max_depth': [None, 10, 20],\n",
    "    'min_samples_split': [2, 5],\n",
    "    'min_samples_leaf': [1, 2]\n",
    "}"
   ]
  },
  {
   "cell_type": "markdown",
   "id": "08be4ed7-529f-4366-bf60-1e3d444e241d",
   "metadata": {
    "jp-MarkdownHeadingCollapsed": true
   },
   "source": [
    "#### **GridSearchCV with RMSE**"
   ]
  },
  {
   "cell_type": "code",
   "execution_count": 26,
   "id": "5379f925-7bf0-4599-a93b-c4ccf371dd70",
   "metadata": {},
   "outputs": [
    {
     "name": "stdout",
     "output_type": "stream",
     "text": [
      "Fitting 5 folds for each of 24 candidates, totalling 120 fits\n",
      "Meilleurs paramètres : {'max_depth': None, 'min_samples_leaf': 1, 'min_samples_split': 2, 'n_estimators': 200}\n",
      "Meilleur score RMSE CV RF : 0.34920117823074276\n"
     ]
    }
   ],
   "source": [
    "# GridSearchCV avec RMSE comme métric\n",
    "grid_search_rf = GridSearchCV(\n",
    "    estimator=rf,\n",
    "    param_grid=param_grid_rf,\n",
    "    cv=5,         # 5-fold cross validation\n",
    "    scoring='neg_root_mean_squared_error', # RMSE\n",
    "    n_jobs=-1,\n",
    "    verbose=1\n",
    ")\n",
    "\n",
    "# Entraînement sur le train set\n",
    "grid_search_rf.fit(X_train, y_train)\n",
    "\n",
    "print(\"Meilleurs paramètres :\", grid_search_rf.best_params_)\n",
    "print(\"Meilleur score RMSE CV RF :\", -grid_search_rf.best_score_)"
   ]
  },
  {
   "cell_type": "markdown",
   "id": "91248578-4589-403c-a19a-001fc996c4c8",
   "metadata": {
    "jp-MarkdownHeadingCollapsed": true
   },
   "source": [
    "#### **GridSearchCV with R2**"
   ]
  },
  {
   "cell_type": "code",
   "execution_count": 27,
   "id": "df203880-a2d0-4499-a8a8-1ed3ee722b5a",
   "metadata": {},
   "outputs": [
    {
     "name": "stdout",
     "output_type": "stream",
     "text": [
      "Fitting 5 folds for each of 24 candidates, totalling 120 fits\n",
      "Meilleurs paramètres : {'max_depth': None, 'min_samples_leaf': 1, 'min_samples_split': 2, 'n_estimators': 200}\n",
      "Meilleur score R2 CV RF : 0.9993398249951941\n"
     ]
    }
   ],
   "source": [
    "# GridSearchCV avec R2 comme métric\n",
    "grid_search_r2 = GridSearchCV(\n",
    "    estimator=rf,\n",
    "    param_grid=param_grid_rf,\n",
    "    cv=5,\n",
    "    scoring='r2',\n",
    "    n_jobs=-1,\n",
    "    verbose=1\n",
    ")\n",
    "grid_search_r2.fit(X_train, y_train)\n",
    "\n",
    "print(\"Meilleurs paramètres :\", grid_search_r2.best_params_)\n",
    "print(\"Meilleur score R2 CV RF :\", grid_search_r2.best_score_)"
   ]
  },
  {
   "cell_type": "markdown",
   "id": "4525336e-a03f-4a11-b7f5-77156e72cc9d",
   "metadata": {
    "jp-MarkdownHeadingCollapsed": true
   },
   "source": [
    "### **Search for the Hyperparameter of XGBRegressor**"
   ]
  },
  {
   "cell_type": "code",
   "execution_count": 28,
   "id": "9cefd084-129f-4033-8a1c-e10fb089289c",
   "metadata": {},
   "outputs": [],
   "source": [
    "param_grid_xgb = {\n",
    "    'n_estimators': [50, 100, 200],\n",
    "    'max_depth': [3, 5, 7],\n",
    "    'learning_rate': [0.01, 0.1, 0.3],\n",
    "    'subsample': [0.7, 1.0],\n",
    "    'colsample_bytree': [0.7, 1.0]\n",
    "}"
   ]
  },
  {
   "cell_type": "markdown",
   "id": "d7a25999-4938-4c4e-8da9-eed1fbb653b1",
   "metadata": {
    "jp-MarkdownHeadingCollapsed": true
   },
   "source": [
    "#### **GridSearchCV with RMSE**"
   ]
  },
  {
   "cell_type": "code",
   "execution_count": 29,
   "id": "4aa52205-3e28-4bd5-8566-5977b8458df8",
   "metadata": {},
   "outputs": [
    {
     "name": "stdout",
     "output_type": "stream",
     "text": [
      "Fitting 5 folds for each of 108 candidates, totalling 540 fits\n",
      "Meilleurs paramètres XGB : {'colsample_bytree': 0.7, 'learning_rate': 0.3, 'max_depth': 5, 'n_estimators': 200, 'subsample': 1.0}\n",
      "Meilleur score RMSE CV XGB : 0.09085411578416824\n"
     ]
    }
   ],
   "source": [
    "grid_search_xgb = GridSearchCV(\n",
    "    estimator=XGBRegressor(random_state=42),\n",
    "    param_grid=param_grid_xgb,\n",
    "    cv=5,\n",
    "    scoring='neg_root_mean_squared_error',\n",
    "    n_jobs=-1,\n",
    "    verbose=1\n",
    ")\n",
    "grid_search_xgb.fit(X_train, y_train)\n",
    "print(\"Meilleurs paramètres XGB :\", grid_search_xgb.best_params_)\n",
    "print(\"Meilleur score RMSE CV XGB :\", -grid_search_xgb.best_score_)"
   ]
  },
  {
   "cell_type": "markdown",
   "id": "fcaf46ca-2d47-44da-b25a-5cdcdc6aa77d",
   "metadata": {
    "jp-MarkdownHeadingCollapsed": true
   },
   "source": [
    "#### **GridSearchCV with R2**"
   ]
  },
  {
   "cell_type": "code",
   "execution_count": 30,
   "id": "ffc273ad-da71-4754-a3ae-785c60ae34ba",
   "metadata": {},
   "outputs": [
    {
     "name": "stdout",
     "output_type": "stream",
     "text": [
      "Fitting 5 folds for each of 108 candidates, totalling 540 fits\n",
      "Meilleurs paramètres XGB : {'colsample_bytree': 0.7, 'learning_rate': 0.3, 'max_depth': 5, 'n_estimators': 200, 'subsample': 1.0}\n",
      "Meilleur score R2 CV XGB : 0.9999555826187134\n"
     ]
    }
   ],
   "source": [
    "grid_search_xr2 = GridSearchCV(\n",
    "    estimator=XGBRegressor(random_state=42),\n",
    "    param_grid=param_grid_xgb,\n",
    "    cv=5,\n",
    "    scoring='r2',\n",
    "    n_jobs=-1,\n",
    "    verbose=1\n",
    ")\n",
    "grid_search_xr2.fit(X_train, y_train)\n",
    "print(\"Meilleurs paramètres XGB :\", grid_search_xr2.best_params_)\n",
    "print(\"Meilleur score R2 CV XGB :\", grid_search_xr2.best_score_)"
   ]
  },
  {
   "cell_type": "markdown",
   "id": "efc71e86-bcf1-426e-84c0-96a4fa606631",
   "metadata": {
    "jp-MarkdownHeadingCollapsed": true
   },
   "source": [
    "#### **Principes de recherches des hypers paramètres**"
   ]
  },
  {
   "cell_type": "markdown",
   "id": "03487aeb-d611-461a-bf41-b5e0d188f9af",
   "metadata": {},
   "source": [
    "**estimator=rf**\n",
    "\n",
    "        Modèle de base que tu souhaites entraîner et optimiser, ici un Random Forest Regressor\n",
    "**param_grid=param_grid**\n",
    "\n",
    "    Un dictionnaire contenant les hyperparamètres et leurs différentes valeurs possibles.\n",
    "    GridSearchCV essaiera toutes les combinaisons possibles listées pour trouver la meilleure\n",
    "**cv=5**\n",
    "\n",
    "    Le nombre de folds dans la validation croisée.Ici, le dataset est divisé en 5 parties différentes.\n",
    "    4 parts servent à l'entraînement, 1 à la validation, et ce, 5 fois en changeant la partie de validation.\n",
    "**scoring='neg_root_mean_squared_error'**\n",
    "\n",
    "    RMSE : La métrique utilisée pour évaluer la performance du modèle\n",
    "    \n",
    "**scoring='r2'**\n",
    "    \n",
    "    r2 : La métrique utilisée pour évaluer la performance du modèle\n",
    "**n_jobs=-1**\n",
    "    \n",
    "    Utilisation de tous les cœurs CPU disponibles pour paralléliser le calcul\n",
    "**verbose**\n",
    "    \n",
    "    Contrôle le niveau de verbosité (affichage d'informations pendant l'exécution) \n",
    "    0 = Aucunes infos\n",
    "    1 = Moins détaillés\n",
    "    2 = Infos détaillés"
   ]
  },
  {
   "cell_type": "markdown",
   "id": "6346802f-0f39-45ad-80a4-1beb168ba569",
   "metadata": {
    "jp-MarkdownHeadingCollapsed": true
   },
   "source": [
    "### **Retraining the model with the hyperparameter**"
   ]
  },
  {
   "cell_type": "code",
   "execution_count": 31,
   "id": "9c183c0f-c3d2-4c10-95f0-25d25c210bd6",
   "metadata": {},
   "outputs": [],
   "source": [
    "# Évaluation sur le test set avec meilleur modèle\n",
    "best_params_rf = grid_search_rf.best_params_\n",
    "best_params_xgb = grid_search_xgb.best_params_"
   ]
  },
  {
   "cell_type": "markdown",
   "id": "87aad5e0-4932-44f5-a3f8-b94806e61b28",
   "metadata": {
    "jp-MarkdownHeadingCollapsed": true
   },
   "source": [
    "#### **Retraining model**"
   ]
  },
  {
   "cell_type": "code",
   "execution_count": 32,
   "id": "914f90de-dfc3-4886-aa94-872433f6e3de",
   "metadata": {},
   "outputs": [
    {
     "data": {
      "text/html": [
       "<style>#sk-container-id-1 {\n",
       "  /* Definition of color scheme common for light and dark mode */\n",
       "  --sklearn-color-text: #000;\n",
       "  --sklearn-color-text-muted: #666;\n",
       "  --sklearn-color-line: gray;\n",
       "  /* Definition of color scheme for unfitted estimators */\n",
       "  --sklearn-color-unfitted-level-0: #fff5e6;\n",
       "  --sklearn-color-unfitted-level-1: #f6e4d2;\n",
       "  --sklearn-color-unfitted-level-2: #ffe0b3;\n",
       "  --sklearn-color-unfitted-level-3: chocolate;\n",
       "  /* Definition of color scheme for fitted estimators */\n",
       "  --sklearn-color-fitted-level-0: #f0f8ff;\n",
       "  --sklearn-color-fitted-level-1: #d4ebff;\n",
       "  --sklearn-color-fitted-level-2: #b3dbfd;\n",
       "  --sklearn-color-fitted-level-3: cornflowerblue;\n",
       "\n",
       "  /* Specific color for light theme */\n",
       "  --sklearn-color-text-on-default-background: var(--sg-text-color, var(--theme-code-foreground, var(--jp-content-font-color1, black)));\n",
       "  --sklearn-color-background: var(--sg-background-color, var(--theme-background, var(--jp-layout-color0, white)));\n",
       "  --sklearn-color-border-box: var(--sg-text-color, var(--theme-code-foreground, var(--jp-content-font-color1, black)));\n",
       "  --sklearn-color-icon: #696969;\n",
       "\n",
       "  @media (prefers-color-scheme: dark) {\n",
       "    /* Redefinition of color scheme for dark theme */\n",
       "    --sklearn-color-text-on-default-background: var(--sg-text-color, var(--theme-code-foreground, var(--jp-content-font-color1, white)));\n",
       "    --sklearn-color-background: var(--sg-background-color, var(--theme-background, var(--jp-layout-color0, #111)));\n",
       "    --sklearn-color-border-box: var(--sg-text-color, var(--theme-code-foreground, var(--jp-content-font-color1, white)));\n",
       "    --sklearn-color-icon: #878787;\n",
       "  }\n",
       "}\n",
       "\n",
       "#sk-container-id-1 {\n",
       "  color: var(--sklearn-color-text);\n",
       "}\n",
       "\n",
       "#sk-container-id-1 pre {\n",
       "  padding: 0;\n",
       "}\n",
       "\n",
       "#sk-container-id-1 input.sk-hidden--visually {\n",
       "  border: 0;\n",
       "  clip: rect(1px 1px 1px 1px);\n",
       "  clip: rect(1px, 1px, 1px, 1px);\n",
       "  height: 1px;\n",
       "  margin: -1px;\n",
       "  overflow: hidden;\n",
       "  padding: 0;\n",
       "  position: absolute;\n",
       "  width: 1px;\n",
       "}\n",
       "\n",
       "#sk-container-id-1 div.sk-dashed-wrapped {\n",
       "  border: 1px dashed var(--sklearn-color-line);\n",
       "  margin: 0 0.4em 0.5em 0.4em;\n",
       "  box-sizing: border-box;\n",
       "  padding-bottom: 0.4em;\n",
       "  background-color: var(--sklearn-color-background);\n",
       "}\n",
       "\n",
       "#sk-container-id-1 div.sk-container {\n",
       "  /* jupyter's `normalize.less` sets `[hidden] { display: none; }`\n",
       "     but bootstrap.min.css set `[hidden] { display: none !important; }`\n",
       "     so we also need the `!important` here to be able to override the\n",
       "     default hidden behavior on the sphinx rendered scikit-learn.org.\n",
       "     See: https://github.com/scikit-learn/scikit-learn/issues/21755 */\n",
       "  display: inline-block !important;\n",
       "  position: relative;\n",
       "}\n",
       "\n",
       "#sk-container-id-1 div.sk-text-repr-fallback {\n",
       "  display: none;\n",
       "}\n",
       "\n",
       "div.sk-parallel-item,\n",
       "div.sk-serial,\n",
       "div.sk-item {\n",
       "  /* draw centered vertical line to link estimators */\n",
       "  background-image: linear-gradient(var(--sklearn-color-text-on-default-background), var(--sklearn-color-text-on-default-background));\n",
       "  background-size: 2px 100%;\n",
       "  background-repeat: no-repeat;\n",
       "  background-position: center center;\n",
       "}\n",
       "\n",
       "/* Parallel-specific style estimator block */\n",
       "\n",
       "#sk-container-id-1 div.sk-parallel-item::after {\n",
       "  content: \"\";\n",
       "  width: 100%;\n",
       "  border-bottom: 2px solid var(--sklearn-color-text-on-default-background);\n",
       "  flex-grow: 1;\n",
       "}\n",
       "\n",
       "#sk-container-id-1 div.sk-parallel {\n",
       "  display: flex;\n",
       "  align-items: stretch;\n",
       "  justify-content: center;\n",
       "  background-color: var(--sklearn-color-background);\n",
       "  position: relative;\n",
       "}\n",
       "\n",
       "#sk-container-id-1 div.sk-parallel-item {\n",
       "  display: flex;\n",
       "  flex-direction: column;\n",
       "}\n",
       "\n",
       "#sk-container-id-1 div.sk-parallel-item:first-child::after {\n",
       "  align-self: flex-end;\n",
       "  width: 50%;\n",
       "}\n",
       "\n",
       "#sk-container-id-1 div.sk-parallel-item:last-child::after {\n",
       "  align-self: flex-start;\n",
       "  width: 50%;\n",
       "}\n",
       "\n",
       "#sk-container-id-1 div.sk-parallel-item:only-child::after {\n",
       "  width: 0;\n",
       "}\n",
       "\n",
       "/* Serial-specific style estimator block */\n",
       "\n",
       "#sk-container-id-1 div.sk-serial {\n",
       "  display: flex;\n",
       "  flex-direction: column;\n",
       "  align-items: center;\n",
       "  background-color: var(--sklearn-color-background);\n",
       "  padding-right: 1em;\n",
       "  padding-left: 1em;\n",
       "}\n",
       "\n",
       "\n",
       "/* Toggleable style: style used for estimator/Pipeline/ColumnTransformer box that is\n",
       "clickable and can be expanded/collapsed.\n",
       "- Pipeline and ColumnTransformer use this feature and define the default style\n",
       "- Estimators will overwrite some part of the style using the `sk-estimator` class\n",
       "*/\n",
       "\n",
       "/* Pipeline and ColumnTransformer style (default) */\n",
       "\n",
       "#sk-container-id-1 div.sk-toggleable {\n",
       "  /* Default theme specific background. It is overwritten whether we have a\n",
       "  specific estimator or a Pipeline/ColumnTransformer */\n",
       "  background-color: var(--sklearn-color-background);\n",
       "}\n",
       "\n",
       "/* Toggleable label */\n",
       "#sk-container-id-1 label.sk-toggleable__label {\n",
       "  cursor: pointer;\n",
       "  display: flex;\n",
       "  width: 100%;\n",
       "  margin-bottom: 0;\n",
       "  padding: 0.5em;\n",
       "  box-sizing: border-box;\n",
       "  text-align: center;\n",
       "  align-items: start;\n",
       "  justify-content: space-between;\n",
       "  gap: 0.5em;\n",
       "}\n",
       "\n",
       "#sk-container-id-1 label.sk-toggleable__label .caption {\n",
       "  font-size: 0.6rem;\n",
       "  font-weight: lighter;\n",
       "  color: var(--sklearn-color-text-muted);\n",
       "}\n",
       "\n",
       "#sk-container-id-1 label.sk-toggleable__label-arrow:before {\n",
       "  /* Arrow on the left of the label */\n",
       "  content: \"▸\";\n",
       "  float: left;\n",
       "  margin-right: 0.25em;\n",
       "  color: var(--sklearn-color-icon);\n",
       "}\n",
       "\n",
       "#sk-container-id-1 label.sk-toggleable__label-arrow:hover:before {\n",
       "  color: var(--sklearn-color-text);\n",
       "}\n",
       "\n",
       "/* Toggleable content - dropdown */\n",
       "\n",
       "#sk-container-id-1 div.sk-toggleable__content {\n",
       "  max-height: 0;\n",
       "  max-width: 0;\n",
       "  overflow: hidden;\n",
       "  text-align: left;\n",
       "  /* unfitted */\n",
       "  background-color: var(--sklearn-color-unfitted-level-0);\n",
       "}\n",
       "\n",
       "#sk-container-id-1 div.sk-toggleable__content.fitted {\n",
       "  /* fitted */\n",
       "  background-color: var(--sklearn-color-fitted-level-0);\n",
       "}\n",
       "\n",
       "#sk-container-id-1 div.sk-toggleable__content pre {\n",
       "  margin: 0.2em;\n",
       "  border-radius: 0.25em;\n",
       "  color: var(--sklearn-color-text);\n",
       "  /* unfitted */\n",
       "  background-color: var(--sklearn-color-unfitted-level-0);\n",
       "}\n",
       "\n",
       "#sk-container-id-1 div.sk-toggleable__content.fitted pre {\n",
       "  /* unfitted */\n",
       "  background-color: var(--sklearn-color-fitted-level-0);\n",
       "}\n",
       "\n",
       "#sk-container-id-1 input.sk-toggleable__control:checked~div.sk-toggleable__content {\n",
       "  /* Expand drop-down */\n",
       "  max-height: 200px;\n",
       "  max-width: 100%;\n",
       "  overflow: auto;\n",
       "}\n",
       "\n",
       "#sk-container-id-1 input.sk-toggleable__control:checked~label.sk-toggleable__label-arrow:before {\n",
       "  content: \"▾\";\n",
       "}\n",
       "\n",
       "/* Pipeline/ColumnTransformer-specific style */\n",
       "\n",
       "#sk-container-id-1 div.sk-label input.sk-toggleable__control:checked~label.sk-toggleable__label {\n",
       "  color: var(--sklearn-color-text);\n",
       "  background-color: var(--sklearn-color-unfitted-level-2);\n",
       "}\n",
       "\n",
       "#sk-container-id-1 div.sk-label.fitted input.sk-toggleable__control:checked~label.sk-toggleable__label {\n",
       "  background-color: var(--sklearn-color-fitted-level-2);\n",
       "}\n",
       "\n",
       "/* Estimator-specific style */\n",
       "\n",
       "/* Colorize estimator box */\n",
       "#sk-container-id-1 div.sk-estimator input.sk-toggleable__control:checked~label.sk-toggleable__label {\n",
       "  /* unfitted */\n",
       "  background-color: var(--sklearn-color-unfitted-level-2);\n",
       "}\n",
       "\n",
       "#sk-container-id-1 div.sk-estimator.fitted input.sk-toggleable__control:checked~label.sk-toggleable__label {\n",
       "  /* fitted */\n",
       "  background-color: var(--sklearn-color-fitted-level-2);\n",
       "}\n",
       "\n",
       "#sk-container-id-1 div.sk-label label.sk-toggleable__label,\n",
       "#sk-container-id-1 div.sk-label label {\n",
       "  /* The background is the default theme color */\n",
       "  color: var(--sklearn-color-text-on-default-background);\n",
       "}\n",
       "\n",
       "/* On hover, darken the color of the background */\n",
       "#sk-container-id-1 div.sk-label:hover label.sk-toggleable__label {\n",
       "  color: var(--sklearn-color-text);\n",
       "  background-color: var(--sklearn-color-unfitted-level-2);\n",
       "}\n",
       "\n",
       "/* Label box, darken color on hover, fitted */\n",
       "#sk-container-id-1 div.sk-label.fitted:hover label.sk-toggleable__label.fitted {\n",
       "  color: var(--sklearn-color-text);\n",
       "  background-color: var(--sklearn-color-fitted-level-2);\n",
       "}\n",
       "\n",
       "/* Estimator label */\n",
       "\n",
       "#sk-container-id-1 div.sk-label label {\n",
       "  font-family: monospace;\n",
       "  font-weight: bold;\n",
       "  display: inline-block;\n",
       "  line-height: 1.2em;\n",
       "}\n",
       "\n",
       "#sk-container-id-1 div.sk-label-container {\n",
       "  text-align: center;\n",
       "}\n",
       "\n",
       "/* Estimator-specific */\n",
       "#sk-container-id-1 div.sk-estimator {\n",
       "  font-family: monospace;\n",
       "  border: 1px dotted var(--sklearn-color-border-box);\n",
       "  border-radius: 0.25em;\n",
       "  box-sizing: border-box;\n",
       "  margin-bottom: 0.5em;\n",
       "  /* unfitted */\n",
       "  background-color: var(--sklearn-color-unfitted-level-0);\n",
       "}\n",
       "\n",
       "#sk-container-id-1 div.sk-estimator.fitted {\n",
       "  /* fitted */\n",
       "  background-color: var(--sklearn-color-fitted-level-0);\n",
       "}\n",
       "\n",
       "/* on hover */\n",
       "#sk-container-id-1 div.sk-estimator:hover {\n",
       "  /* unfitted */\n",
       "  background-color: var(--sklearn-color-unfitted-level-2);\n",
       "}\n",
       "\n",
       "#sk-container-id-1 div.sk-estimator.fitted:hover {\n",
       "  /* fitted */\n",
       "  background-color: var(--sklearn-color-fitted-level-2);\n",
       "}\n",
       "\n",
       "/* Specification for estimator info (e.g. \"i\" and \"?\") */\n",
       "\n",
       "/* Common style for \"i\" and \"?\" */\n",
       "\n",
       ".sk-estimator-doc-link,\n",
       "a:link.sk-estimator-doc-link,\n",
       "a:visited.sk-estimator-doc-link {\n",
       "  float: right;\n",
       "  font-size: smaller;\n",
       "  line-height: 1em;\n",
       "  font-family: monospace;\n",
       "  background-color: var(--sklearn-color-background);\n",
       "  border-radius: 1em;\n",
       "  height: 1em;\n",
       "  width: 1em;\n",
       "  text-decoration: none !important;\n",
       "  margin-left: 0.5em;\n",
       "  text-align: center;\n",
       "  /* unfitted */\n",
       "  border: var(--sklearn-color-unfitted-level-1) 1pt solid;\n",
       "  color: var(--sklearn-color-unfitted-level-1);\n",
       "}\n",
       "\n",
       ".sk-estimator-doc-link.fitted,\n",
       "a:link.sk-estimator-doc-link.fitted,\n",
       "a:visited.sk-estimator-doc-link.fitted {\n",
       "  /* fitted */\n",
       "  border: var(--sklearn-color-fitted-level-1) 1pt solid;\n",
       "  color: var(--sklearn-color-fitted-level-1);\n",
       "}\n",
       "\n",
       "/* On hover */\n",
       "div.sk-estimator:hover .sk-estimator-doc-link:hover,\n",
       ".sk-estimator-doc-link:hover,\n",
       "div.sk-label-container:hover .sk-estimator-doc-link:hover,\n",
       ".sk-estimator-doc-link:hover {\n",
       "  /* unfitted */\n",
       "  background-color: var(--sklearn-color-unfitted-level-3);\n",
       "  color: var(--sklearn-color-background);\n",
       "  text-decoration: none;\n",
       "}\n",
       "\n",
       "div.sk-estimator.fitted:hover .sk-estimator-doc-link.fitted:hover,\n",
       ".sk-estimator-doc-link.fitted:hover,\n",
       "div.sk-label-container:hover .sk-estimator-doc-link.fitted:hover,\n",
       ".sk-estimator-doc-link.fitted:hover {\n",
       "  /* fitted */\n",
       "  background-color: var(--sklearn-color-fitted-level-3);\n",
       "  color: var(--sklearn-color-background);\n",
       "  text-decoration: none;\n",
       "}\n",
       "\n",
       "/* Span, style for the box shown on hovering the info icon */\n",
       ".sk-estimator-doc-link span {\n",
       "  display: none;\n",
       "  z-index: 9999;\n",
       "  position: relative;\n",
       "  font-weight: normal;\n",
       "  right: .2ex;\n",
       "  padding: .5ex;\n",
       "  margin: .5ex;\n",
       "  width: min-content;\n",
       "  min-width: 20ex;\n",
       "  max-width: 50ex;\n",
       "  color: var(--sklearn-color-text);\n",
       "  box-shadow: 2pt 2pt 4pt #999;\n",
       "  /* unfitted */\n",
       "  background: var(--sklearn-color-unfitted-level-0);\n",
       "  border: .5pt solid var(--sklearn-color-unfitted-level-3);\n",
       "}\n",
       "\n",
       ".sk-estimator-doc-link.fitted span {\n",
       "  /* fitted */\n",
       "  background: var(--sklearn-color-fitted-level-0);\n",
       "  border: var(--sklearn-color-fitted-level-3);\n",
       "}\n",
       "\n",
       ".sk-estimator-doc-link:hover span {\n",
       "  display: block;\n",
       "}\n",
       "\n",
       "/* \"?\"-specific style due to the `<a>` HTML tag */\n",
       "\n",
       "#sk-container-id-1 a.estimator_doc_link {\n",
       "  float: right;\n",
       "  font-size: 1rem;\n",
       "  line-height: 1em;\n",
       "  font-family: monospace;\n",
       "  background-color: var(--sklearn-color-background);\n",
       "  border-radius: 1rem;\n",
       "  height: 1rem;\n",
       "  width: 1rem;\n",
       "  text-decoration: none;\n",
       "  /* unfitted */\n",
       "  color: var(--sklearn-color-unfitted-level-1);\n",
       "  border: var(--sklearn-color-unfitted-level-1) 1pt solid;\n",
       "}\n",
       "\n",
       "#sk-container-id-1 a.estimator_doc_link.fitted {\n",
       "  /* fitted */\n",
       "  border: var(--sklearn-color-fitted-level-1) 1pt solid;\n",
       "  color: var(--sklearn-color-fitted-level-1);\n",
       "}\n",
       "\n",
       "/* On hover */\n",
       "#sk-container-id-1 a.estimator_doc_link:hover {\n",
       "  /* unfitted */\n",
       "  background-color: var(--sklearn-color-unfitted-level-3);\n",
       "  color: var(--sklearn-color-background);\n",
       "  text-decoration: none;\n",
       "}\n",
       "\n",
       "#sk-container-id-1 a.estimator_doc_link.fitted:hover {\n",
       "  /* fitted */\n",
       "  background-color: var(--sklearn-color-fitted-level-3);\n",
       "}\n",
       "</style><div id=\"sk-container-id-1\" class=\"sk-top-container\"><div class=\"sk-text-repr-fallback\"><pre>XGBRegressor(base_score=None, booster=None, callbacks=None,\n",
       "             colsample_bylevel=None, colsample_bynode=None,\n",
       "             colsample_bytree=0.7, device=None, early_stopping_rounds=None,\n",
       "             enable_categorical=False, eval_metric=None, feature_types=None,\n",
       "             feature_weights=None, gamma=None, grow_policy=None,\n",
       "             importance_type=None, interaction_constraints=None,\n",
       "             learning_rate=0.3, max_bin=None, max_cat_threshold=None,\n",
       "             max_cat_to_onehot=None, max_delta_step=None, max_depth=5,\n",
       "             max_leaves=None, min_child_weight=None, missing=nan,\n",
       "             monotone_constraints=None, multi_strategy=None, n_estimators=200,\n",
       "             n_jobs=None, num_parallel_tree=None, ...)</pre><b>In a Jupyter environment, please rerun this cell to show the HTML representation or trust the notebook. <br />On GitHub, the HTML representation is unable to render, please try loading this page with nbviewer.org.</b></div><div class=\"sk-container\" hidden><div class=\"sk-item\"><div class=\"sk-estimator fitted sk-toggleable\"><input class=\"sk-toggleable__control sk-hidden--visually\" id=\"sk-estimator-id-1\" type=\"checkbox\" checked><label for=\"sk-estimator-id-1\" class=\"sk-toggleable__label fitted sk-toggleable__label-arrow\"><div><div>XGBRegressor</div></div><div><a class=\"sk-estimator-doc-link fitted\" rel=\"noreferrer\" target=\"_blank\" href=\"https://xgboost.readthedocs.io/en/release_3.0.0/python/python_api.html#xgboost.XGBRegressor\">?<span>Documentation for XGBRegressor</span></a><span class=\"sk-estimator-doc-link fitted\">i<span>Fitted</span></span></div></label><div class=\"sk-toggleable__content fitted\"><pre>XGBRegressor(base_score=None, booster=None, callbacks=None,\n",
       "             colsample_bylevel=None, colsample_bynode=None,\n",
       "             colsample_bytree=0.7, device=None, early_stopping_rounds=None,\n",
       "             enable_categorical=False, eval_metric=None, feature_types=None,\n",
       "             feature_weights=None, gamma=None, grow_policy=None,\n",
       "             importance_type=None, interaction_constraints=None,\n",
       "             learning_rate=0.3, max_bin=None, max_cat_threshold=None,\n",
       "             max_cat_to_onehot=None, max_delta_step=None, max_depth=5,\n",
       "             max_leaves=None, min_child_weight=None, missing=nan,\n",
       "             monotone_constraints=None, multi_strategy=None, n_estimators=200,\n",
       "             n_jobs=None, num_parallel_tree=None, ...)</pre></div> </div></div></div></div>"
      ],
      "text/plain": [
       "XGBRegressor(base_score=None, booster=None, callbacks=None,\n",
       "             colsample_bylevel=None, colsample_bynode=None,\n",
       "             colsample_bytree=0.7, device=None, early_stopping_rounds=None,\n",
       "             enable_categorical=False, eval_metric=None, feature_types=None,\n",
       "             feature_weights=None, gamma=None, grow_policy=None,\n",
       "             importance_type=None, interaction_constraints=None,\n",
       "             learning_rate=0.3, max_bin=None, max_cat_threshold=None,\n",
       "             max_cat_to_onehot=None, max_delta_step=None, max_depth=5,\n",
       "             max_leaves=None, min_child_weight=None, missing=nan,\n",
       "             monotone_constraints=None, multi_strategy=None, n_estimators=200,\n",
       "             n_jobs=None, num_parallel_tree=None, ...)"
      ]
     },
     "execution_count": 32,
     "metadata": {},
     "output_type": "execute_result"
    }
   ],
   "source": [
    "# RandomForestRegressor\n",
    "best_rf = RandomForestRegressor(**best_params_rf, random_state=42)\n",
    "best_rf.fit(X_train, y_train)\n",
    "\n",
    "# XGBRegressor\n",
    "best_xgb = XGBRegressor(**best_params_xgb, random_state=42)\n",
    "best_xgb.fit(X_train, y_train)"
   ]
  },
  {
   "cell_type": "code",
   "execution_count": 54,
   "id": "9655a710-6076-477d-b371-77c1c0c666b1",
   "metadata": {},
   "outputs": [
    {
     "name": "stdout",
     "output_type": "stream",
     "text": [
      "          Importance des variables :\n",
      "          variable  importance\n",
      "0           mstat    0.336183\n",
      "6  rev_total_mois    0.298435\n",
      "4     empl_formel    0.177482\n",
      "2       bancarise    0.159805\n",
      "1         age_grp    0.014301\n",
      "3     a_assurance    0.007634\n",
      "5           logem    0.006160\n"
     ]
    },
    {
     "data": {
      "image/png": "[encoded data removed]",
      "text/plain": [
       "<Figure size 1000x600 with 1 Axes>"
      ]
     },
     "metadata": {},
     "output_type": "display_data"
    }
   ],
   "source": [
    "\n",
    "if hasattr(best_xgb, \"feature_importances_\"):\n",
    "        importances = best_xgb.feature_importances_\n",
    "        import_df = pd.DataFrame({'variable': features, 'importance': importances}).sort_values(by='importance', ascending=False)\n",
    "        print(\"          Importance des variables :\\n\", import_df)\n",
    "        plt.figure(figsize=(10, 6))\n",
    "        plt.barh(import_df['variable'], import_df['importance'], color='steelblue')\n",
    "        plt.xlabel('Importance', fontsize=12)\n",
    "        plt.title(f'📊 Importance des Variables ({name})', fontsize=14, fontweight='bold')\n",
    "        plt.gca().invert_yaxis()\n",
    "        plt.tight_layout()\n",
    "        plt.savefig(f'feature_importance_{name}.png', dpi=300, bbox_inches='tight')\n",
    "        plt.show()"
   ]
  },
  {
   "cell_type": "markdown",
   "id": "9c564251-9716-493f-bd4f-e055e4222781",
   "metadata": {
    "jp-MarkdownHeadingCollapsed": true
   },
   "source": [
    "### **Evaluation with set test**"
   ]
  },
  {
   "cell_type": "code",
   "execution_count": 33,
   "id": "39ca2f65-8c63-4d21-b4b0-78a91c176126",
   "metadata": {
    "jupyter": {
     "source_hidden": true
    }
   },
   "outputs": [
    {
     "name": "stdout",
     "output_type": "stream",
     "text": [
      "RandomForestRegressor - RMSE: 0.2597, R2: 0.9996\n",
      "XGBRegressor - RMSE: 0.0888, R2: 1.0000\n"
     ]
    }
   ],
   "source": [
    "# Prédictions\n",
    "y_pred_rf = best_rf.predict(X_test)\n",
    "y_pred_xgb = best_xgb.predict(X_test)\n",
    "\n",
    "# Scores\n",
    "rmse_rf = np.sqrt(mean_squared_error(y_test, y_pred_rf))\n",
    "r2_rf = r2_score(y_test, y_pred_rf)\n",
    "\n",
    "rmse_xgb = np.sqrt(mean_squared_error(y_test, y_pred_xgb))\n",
    "r2_xgb = r2_score(y_test, y_pred_xgb)\n",
    "\n",
    "print(f\"RandomForestRegressor - RMSE: {rmse_rf:.4f}, R2: {r2_rf:.4f}\")\n",
    "print(f\"XGBRegressor - RMSE: {rmse_xgb:.4f}, R2: {r2_xgb:.4f}\")"
   ]
  },
  {
   "cell_type": "markdown",
   "id": "e5384cff-7467-4ee8-ba83-a4185aac670c",
   "metadata": {
    "jp-MarkdownHeadingCollapsed": true
   },
   "source": [
    "### **Use the loaded model to make predictions**"
   ]
  },
  {
   "cell_type": "code",
   "execution_count": 34,
   "id": "931756c3-cf0a-4426-a9dd-726981590243",
   "metadata": {},
   "outputs": [
    {
     "data": {
      "text/plain": [
       "['best_xgb.joblib']"
      ]
     },
     "execution_count": 34,
     "metadata": {},
     "output_type": "execute_result"
    }
   ],
   "source": [
    "joblib.dump(best_rf, \"best_rf.joblib\")\n",
    "joblib.dump(best_xgb, \"best_xgb.joblib\")"
   ]
  },
  {
   "cell_type": "code",
   "execution_count": 35,
   "id": "09cb1de7-a9d0-4e40-82d6-90ca103efcd9",
   "metadata": {},
   "outputs": [],
   "source": [
    "#model_load_rf = joblib.load('Random Regressor.joblib')\n",
    "#model_load_xgb = joblib.load('XGBRegressor.joblib')"
   ]
  },
  {
   "cell_type": "code",
   "execution_count": 36,
   "id": "bdcbe1c7-086b-4294-8bad-c240f6ebb789",
   "metadata": {},
   "outputs": [],
   "source": [
    "model_load_rf = joblib.load('best_rf.joblib')\n",
    "model_load_xgb = joblib.load('best_xgb.joblib')"
   ]
  },
  {
   "cell_type": "code",
   "execution_count": 37,
   "id": "d6406f04-4e55-47e2-b00a-62d00ba9b4dc",
   "metadata": {},
   "outputs": [
    {
     "data": {
      "text/html": [
       "<div>\n",
       "<style scoped>\n",
       "    .dataframe tbody tr th:only-of-type {\n",
       "        vertical-align: middle;\n",
       "    }\n",
       "\n",
       "    .dataframe tbody tr th {\n",
       "        vertical-align: top;\n",
       "    }\n",
       "\n",
       "    .dataframe thead th {\n",
       "        text-align: right;\n",
       "    }\n",
       "</style>\n",
       "<table border=\"1\" class=\"dataframe\">\n",
       "  <thead>\n",
       "    <tr style=\"text-align: right;\">\n",
       "      <th></th>\n",
       "      <th>mstat</th>\n",
       "      <th>rev_total_mois</th>\n",
       "      <th>age_grp</th>\n",
       "      <th>empl_formel</th>\n",
       "      <th>bancarise</th>\n",
       "      <th>a_assurance</th>\n",
       "      <th>logem</th>\n",
       "    </tr>\n",
       "  </thead>\n",
       "  <tbody>\n",
       "    <tr>\n",
       "      <th>0</th>\n",
       "      <td>0</td>\n",
       "      <td>279244.0</td>\n",
       "      <td>2</td>\n",
       "      <td>1</td>\n",
       "      <td>1</td>\n",
       "      <td>0</td>\n",
       "      <td>1</td>\n",
       "    </tr>\n",
       "  </tbody>\n",
       "</table>\n",
       "</div>"
      ],
      "text/plain": [
       "   mstat  rev_total_mois  age_grp  empl_formel  bancarise  a_assurance  logem\n",
       "0      0        279244.0        2            1          1            0      1"
      ]
     },
     "execution_count": 37,
     "metadata": {},
     "output_type": "execute_result"
    }
   ],
   "source": [
    "dat = pd.DataFrame([{'mstat':0, 'rev_total_mois':279244.0, 'age_grp':2, 'empl_formel':1, 'bancarise':1, 'a_assurance':0, 'logem':1}\n",
    "    ])\n",
    "dat"
   ]
  },
  {
   "cell_type": "code",
   "execution_count": 38,
   "id": "e12cccad-df23-4751-a0dd-b5ce1fb12e4f",
   "metadata": {},
   "outputs": [
    {
     "data": {
      "text/plain": [
       "array([[0., 0., 0., 0., 0., 0., 0.]])"
      ]
     },
     "execution_count": 38,
     "metadata": {},
     "output_type": "execute_result"
    }
   ],
   "source": [
    "scale = StandardScaler()\n",
    "scal = scale.fit_transform(dat)\n",
    "scal"
   ]
  },
  {
   "cell_type": "code",
   "execution_count": 39,
   "id": "fbc40a2c-2fe1-49e6-9215-98da0dda9b5a",
   "metadata": {},
   "outputs": [
    {
     "data": {
      "text/plain": [
       "array([45.015])"
      ]
     },
     "execution_count": 39,
     "metadata": {},
     "output_type": "execute_result"
    }
   ],
   "source": [
    "pre_rf = model_load_rf.predict(scal)\n",
    "pre_rf"
   ]
  },
  {
   "cell_type": "code",
   "execution_count": 40,
   "id": "0630b688-bb3e-453b-a6cf-62826806dee9",
   "metadata": {
    "jupyter": {
     "source_hidden": true
    },
    "scrolled": true
   },
   "outputs": [
    {
     "data": {
      "text/html": [
       "<div>\n",
       "<style scoped>\n",
       "    .dataframe tbody tr th:only-of-type {\n",
       "        vertical-align: middle;\n",
       "    }\n",
       "\n",
       "    .dataframe tbody tr th {\n",
       "        vertical-align: top;\n",
       "    }\n",
       "\n",
       "    .dataframe thead th {\n",
       "        text-align: right;\n",
       "    }\n",
       "</style>\n",
       "<table border=\"1\" class=\"dataframe\">\n",
       "  <thead>\n",
       "    <tr style=\"text-align: right;\">\n",
       "      <th></th>\n",
       "      <th>mstat</th>\n",
       "      <th>rev_total_mois</th>\n",
       "      <th>age_grp</th>\n",
       "      <th>empl_formel</th>\n",
       "      <th>bancarise</th>\n",
       "      <th>a_assurance</th>\n",
       "      <th>logem</th>\n",
       "      <th>Profil_Score</th>\n",
       "    </tr>\n",
       "  </thead>\n",
       "  <tbody>\n",
       "    <tr>\n",
       "      <th>0</th>\n",
       "      <td>0</td>\n",
       "      <td>0</td>\n",
       "      <td>0</td>\n",
       "      <td>0</td>\n",
       "      <td>0</td>\n",
       "      <td>0</td>\n",
       "      <td>1</td>\n",
       "      <td>28</td>\n",
       "    </tr>\n",
       "    <tr>\n",
       "      <th>1</th>\n",
       "      <td>1</td>\n",
       "      <td>50000</td>\n",
       "      <td>1</td>\n",
       "      <td>1</td>\n",
       "      <td>1</td>\n",
       "      <td>1</td>\n",
       "      <td>2</td>\n",
       "      <td>65</td>\n",
       "    </tr>\n",
       "    <tr>\n",
       "      <th>2</th>\n",
       "      <td>2</td>\n",
       "      <td>120000</td>\n",
       "      <td>2</td>\n",
       "      <td>0</td>\n",
       "      <td>1</td>\n",
       "      <td>0</td>\n",
       "      <td>3</td>\n",
       "      <td>78</td>\n",
       "    </tr>\n",
       "    <tr>\n",
       "      <th>3</th>\n",
       "      <td>3</td>\n",
       "      <td>250000</td>\n",
       "      <td>3</td>\n",
       "      <td>1</td>\n",
       "      <td>0</td>\n",
       "      <td>1</td>\n",
       "      <td>0</td>\n",
       "      <td>49</td>\n",
       "    </tr>\n",
       "    <tr>\n",
       "      <th>4</th>\n",
       "      <td>4</td>\n",
       "      <td>400000</td>\n",
       "      <td>4</td>\n",
       "      <td>0</td>\n",
       "      <td>1</td>\n",
       "      <td>1</td>\n",
       "      <td>2</td>\n",
       "      <td>85</td>\n",
       "    </tr>\n",
       "    <tr>\n",
       "      <th>5</th>\n",
       "      <td>5</td>\n",
       "      <td>30000</td>\n",
       "      <td>5</td>\n",
       "      <td>1</td>\n",
       "      <td>0</td>\n",
       "      <td>1</td>\n",
       "      <td>3</td>\n",
       "      <td>62</td>\n",
       "    </tr>\n",
       "    <tr>\n",
       "      <th>6</th>\n",
       "      <td>2</td>\n",
       "      <td>900000</td>\n",
       "      <td>6</td>\n",
       "      <td>0</td>\n",
       "      <td>1</td>\n",
       "      <td>0</td>\n",
       "      <td>2</td>\n",
       "      <td>91</td>\n",
       "    </tr>\n",
       "    <tr>\n",
       "      <th>7</th>\n",
       "      <td>0</td>\n",
       "      <td>150000</td>\n",
       "      <td>1</td>\n",
       "      <td>0</td>\n",
       "      <td>0</td>\n",
       "      <td>0</td>\n",
       "      <td>0</td>\n",
       "      <td>33</td>\n",
       "    </tr>\n",
       "    <tr>\n",
       "      <th>8</th>\n",
       "      <td>4</td>\n",
       "      <td>80000</td>\n",
       "      <td>5</td>\n",
       "      <td>1</td>\n",
       "      <td>1</td>\n",
       "      <td>1</td>\n",
       "      <td>1</td>\n",
       "      <td>72</td>\n",
       "    </tr>\n",
       "    <tr>\n",
       "      <th>9</th>\n",
       "      <td>1</td>\n",
       "      <td>1000000</td>\n",
       "      <td>0</td>\n",
       "      <td>0</td>\n",
       "      <td>0</td>\n",
       "      <td>0</td>\n",
       "      <td>2</td>\n",
       "      <td>38</td>\n",
       "    </tr>\n",
       "    <tr>\n",
       "      <th>10</th>\n",
       "      <td>5</td>\n",
       "      <td>290000</td>\n",
       "      <td>3</td>\n",
       "      <td>1</td>\n",
       "      <td>1</td>\n",
       "      <td>0</td>\n",
       "      <td>3</td>\n",
       "      <td>70</td>\n",
       "    </tr>\n",
       "    <tr>\n",
       "      <th>11</th>\n",
       "      <td>1</td>\n",
       "      <td>750000</td>\n",
       "      <td>4</td>\n",
       "      <td>1</td>\n",
       "      <td>1</td>\n",
       "      <td>1</td>\n",
       "      <td>0</td>\n",
       "      <td>82</td>\n",
       "    </tr>\n",
       "    <tr>\n",
       "      <th>12</th>\n",
       "      <td>2</td>\n",
       "      <td>330000</td>\n",
       "      <td>2</td>\n",
       "      <td>0</td>\n",
       "      <td>0</td>\n",
       "      <td>1</td>\n",
       "      <td>2</td>\n",
       "      <td>55</td>\n",
       "    </tr>\n",
       "    <tr>\n",
       "      <th>13</th>\n",
       "      <td>0</td>\n",
       "      <td>200000</td>\n",
       "      <td>1</td>\n",
       "      <td>1</td>\n",
       "      <td>0</td>\n",
       "      <td>1</td>\n",
       "      <td>1</td>\n",
       "      <td>60</td>\n",
       "    </tr>\n",
       "    <tr>\n",
       "      <th>14</th>\n",
       "      <td>5</td>\n",
       "      <td>50000</td>\n",
       "      <td>6</td>\n",
       "      <td>1</td>\n",
       "      <td>0</td>\n",
       "      <td>0</td>\n",
       "      <td>3</td>\n",
       "      <td>41</td>\n",
       "    </tr>\n",
       "    <tr>\n",
       "      <th>15</th>\n",
       "      <td>4</td>\n",
       "      <td>870000</td>\n",
       "      <td>0</td>\n",
       "      <td>0</td>\n",
       "      <td>1</td>\n",
       "      <td>1</td>\n",
       "      <td>1</td>\n",
       "      <td>78</td>\n",
       "    </tr>\n",
       "    <tr>\n",
       "      <th>16</th>\n",
       "      <td>3</td>\n",
       "      <td>20000</td>\n",
       "      <td>1</td>\n",
       "      <td>1</td>\n",
       "      <td>1</td>\n",
       "      <td>0</td>\n",
       "      <td>0</td>\n",
       "      <td>44</td>\n",
       "    </tr>\n",
       "    <tr>\n",
       "      <th>17</th>\n",
       "      <td>2</td>\n",
       "      <td>450000</td>\n",
       "      <td>3</td>\n",
       "      <td>0</td>\n",
       "      <td>1</td>\n",
       "      <td>1</td>\n",
       "      <td>3</td>\n",
       "      <td>80</td>\n",
       "    </tr>\n",
       "    <tr>\n",
       "      <th>18</th>\n",
       "      <td>0</td>\n",
       "      <td>35000</td>\n",
       "      <td>5</td>\n",
       "      <td>1</td>\n",
       "      <td>0</td>\n",
       "      <td>0</td>\n",
       "      <td>2</td>\n",
       "      <td>39</td>\n",
       "    </tr>\n",
       "    <tr>\n",
       "      <th>19</th>\n",
       "      <td>5</td>\n",
       "      <td>800000</td>\n",
       "      <td>6</td>\n",
       "      <td>1</td>\n",
       "      <td>1</td>\n",
       "      <td>1</td>\n",
       "      <td>2</td>\n",
       "      <td>95</td>\n",
       "    </tr>\n",
       "  </tbody>\n",
       "</table>\n",
       "</div>"
      ],
      "text/plain": [
       "    mstat  rev_total_mois  age_grp  empl_formel  bancarise  a_assurance  \\\n",
       "0       0               0        0            0          0            0   \n",
       "1       1           50000        1            1          1            1   \n",
       "2       2          120000        2            0          1            0   \n",
       "3       3          250000        3            1          0            1   \n",
       "4       4          400000        4            0          1            1   \n",
       "5       5           30000        5            1          0            1   \n",
       "6       2          900000        6            0          1            0   \n",
       "7       0          150000        1            0          0            0   \n",
       "8       4           80000        5            1          1            1   \n",
       "9       1         1000000        0            0          0            0   \n",
       "10      5          290000        3            1          1            0   \n",
       "11      1          750000        4            1          1            1   \n",
       "12      2          330000        2            0          0            1   \n",
       "13      0          200000        1            1          0            1   \n",
       "14      5           50000        6            1          0            0   \n",
       "15      4          870000        0            0          1            1   \n",
       "16      3           20000        1            1          1            0   \n",
       "17      2          450000        3            0          1            1   \n",
       "18      0           35000        5            1          0            0   \n",
       "19      5          800000        6            1          1            1   \n",
       "\n",
       "    logem  Profil_Score  \n",
       "0       1            28  \n",
       "1       2            65  \n",
       "2       3            78  \n",
       "3       0            49  \n",
       "4       2            85  \n",
       "5       3            62  \n",
       "6       2            91  \n",
       "7       0            33  \n",
       "8       1            72  \n",
       "9       2            38  \n",
       "10      3            70  \n",
       "11      0            82  \n",
       "12      2            55  \n",
       "13      1            60  \n",
       "14      3            41  \n",
       "15      1            78  \n",
       "16      0            44  \n",
       "17      3            80  \n",
       "18      2            39  \n",
       "19      2            95  "
      ]
     },
     "execution_count": 40,
     "metadata": {},
     "output_type": "execute_result"
    }
   ],
   "source": [
    "# Test intérieur du modèle extrait\n",
    "datas = pd.DataFrame([\n",
    "    {'mstat':0, 'rev_total_mois':0,        'age_grp':0, 'empl_formel':0, 'bancarise':0, 'a_assurance':0, 'logem':1, 'Profil_Score':28},\n",
    "    {'mstat':1, 'rev_total_mois':50000,    'age_grp':1, 'empl_formel':1, 'bancarise':1, 'a_assurance':1, 'logem':2, 'Profil_Score':65},\n",
    "    {'mstat':2, 'rev_total_mois':120000,   'age_grp':2, 'empl_formel':0, 'bancarise':1, 'a_assurance':0, 'logem':3, 'Profil_Score':78},\n",
    "    {'mstat':3, 'rev_total_mois':250000,   'age_grp':3, 'empl_formel':1, 'bancarise':0, 'a_assurance':1, 'logem':0, 'Profil_Score':49},\n",
    "    {'mstat':4, 'rev_total_mois':400000,   'age_grp':4, 'empl_formel':0, 'bancarise':1, 'a_assurance':1, 'logem':2, 'Profil_Score':85},\n",
    "    {'mstat':5, 'rev_total_mois':30000,    'age_grp':5, 'empl_formel':1, 'bancarise':0, 'a_assurance':1, 'logem':3, 'Profil_Score':62},\n",
    "    {'mstat':2, 'rev_total_mois':900000,   'age_grp':6, 'empl_formel':0, 'bancarise':1, 'a_assurance':0, 'logem':2, 'Profil_Score':91},\n",
    "    {'mstat':0, 'rev_total_mois':150000,   'age_grp':1, 'empl_formel':0, 'bancarise':0, 'a_assurance':0, 'logem':0, 'Profil_Score':33},\n",
    "    {'mstat':4, 'rev_total_mois':80000,    'age_grp':5, 'empl_formel':1, 'bancarise':1, 'a_assurance':1, 'logem':1, 'Profil_Score':72},\n",
    "    {'mstat':1, 'rev_total_mois':1000000,  'age_grp':0, 'empl_formel':0, 'bancarise':0, 'a_assurance':0, 'logem':2, 'Profil_Score':38},\n",
    "    {'mstat':5, 'rev_total_mois':290000,   'age_grp':3, 'empl_formel':1, 'bancarise':1, 'a_assurance':0, 'logem':3, 'Profil_Score':70},\n",
    "    {'mstat':1, 'rev_total_mois':750000,   'age_grp':4, 'empl_formel':1, 'bancarise':1, 'a_assurance':1, 'logem':0, 'Profil_Score':82},\n",
    "    {'mstat':2, 'rev_total_mois':330000,   'age_grp':2, 'empl_formel':0, 'bancarise':0, 'a_assurance':1, 'logem':2, 'Profil_Score':55},\n",
    "    {'mstat':0, 'rev_total_mois':200000,   'age_grp':1, 'empl_formel':1, 'bancarise':0, 'a_assurance':1, 'logem':1, 'Profil_Score':60},\n",
    "    {'mstat':5, 'rev_total_mois':50000,    'age_grp':6, 'empl_formel':1, 'bancarise':0, 'a_assurance':0, 'logem':3, 'Profil_Score':41},\n",
    "    {'mstat':4, 'rev_total_mois':870000,   'age_grp':0, 'empl_formel':0, 'bancarise':1, 'a_assurance':1, 'logem':1, 'Profil_Score':78},\n",
    "    {'mstat':3, 'rev_total_mois':20000,    'age_grp':1, 'empl_formel':1, 'bancarise':1, 'a_assurance':0, 'logem':0, 'Profil_Score':44},\n",
    "    {'mstat':2, 'rev_total_mois':450000,   'age_grp':3, 'empl_formel':0, 'bancarise':1, 'a_assurance':1, 'logem':3, 'Profil_Score':80},\n",
    "    {'mstat':0, 'rev_total_mois':35000,    'age_grp':5, 'empl_formel':1, 'bancarise':0, 'a_assurance':0, 'logem':2, 'Profil_Score':39},\n",
    "    {'mstat':5, 'rev_total_mois':800000,   'age_grp':6, 'empl_formel':1, 'bancarise':1, 'a_assurance':1, 'logem':2, 'Profil_Score':95}\n",
    "])\n",
    "datas"
   ]
  },
  {
   "cell_type": "code",
   "execution_count": 41,
   "id": "23aed2ce-c8f5-4622-90e8-bdabd053200a",
   "metadata": {},
   "outputs": [
    {
     "data": {
      "text/plain": [
       "0     28\n",
       "1     65\n",
       "2     78\n",
       "3     49\n",
       "4     85\n",
       "5     62\n",
       "6     91\n",
       "7     33\n",
       "8     72\n",
       "9     38\n",
       "10    70\n",
       "11    82\n",
       "12    55\n",
       "13    60\n",
       "14    41\n",
       "15    78\n",
       "16    44\n",
       "17    80\n",
       "18    39\n",
       "19    95\n",
       "Name: Profil_Score, dtype: int64"
      ]
     },
     "execution_count": 41,
     "metadata": {},
     "output_type": "execute_result"
    }
   ],
   "source": [
    "datas_p = datas.drop(columns=['Profil_Score'])\n",
    "y_datas = datas['Profil_Score']\n",
    "y_datas"
   ]
  },
  {
   "cell_type": "code",
   "execution_count": 42,
   "id": "bc5018be-1cc6-43a9-a2f4-a3315f239f47",
   "metadata": {},
   "outputs": [
    {
     "data": {
      "text/html": [
       "<div>\n",
       "<style scoped>\n",
       "    .dataframe tbody tr th:only-of-type {\n",
       "        vertical-align: middle;\n",
       "    }\n",
       "\n",
       "    .dataframe tbody tr th {\n",
       "        vertical-align: top;\n",
       "    }\n",
       "\n",
       "    .dataframe thead th {\n",
       "        text-align: right;\n",
       "    }\n",
       "</style>\n",
       "<table border=\"1\" class=\"dataframe\">\n",
       "  <thead>\n",
       "    <tr style=\"text-align: right;\">\n",
       "      <th></th>\n",
       "      <th>mstat</th>\n",
       "      <th>rev_total_mois</th>\n",
       "      <th>age_grp</th>\n",
       "      <th>empl_formel</th>\n",
       "      <th>bancarise</th>\n",
       "      <th>a_assurance</th>\n",
       "      <th>logem</th>\n",
       "    </tr>\n",
       "  </thead>\n",
       "  <tbody>\n",
       "    <tr>\n",
       "      <th>0</th>\n",
       "      <td>0</td>\n",
       "      <td>0</td>\n",
       "      <td>0</td>\n",
       "      <td>0</td>\n",
       "      <td>0</td>\n",
       "      <td>0</td>\n",
       "      <td>1</td>\n",
       "    </tr>\n",
       "    <tr>\n",
       "      <th>1</th>\n",
       "      <td>1</td>\n",
       "      <td>50000</td>\n",
       "      <td>1</td>\n",
       "      <td>1</td>\n",
       "      <td>1</td>\n",
       "      <td>1</td>\n",
       "      <td>2</td>\n",
       "    </tr>\n",
       "    <tr>\n",
       "      <th>2</th>\n",
       "      <td>2</td>\n",
       "      <td>120000</td>\n",
       "      <td>2</td>\n",
       "      <td>0</td>\n",
       "      <td>1</td>\n",
       "      <td>0</td>\n",
       "      <td>3</td>\n",
       "    </tr>\n",
       "    <tr>\n",
       "      <th>3</th>\n",
       "      <td>3</td>\n",
       "      <td>250000</td>\n",
       "      <td>3</td>\n",
       "      <td>1</td>\n",
       "      <td>0</td>\n",
       "      <td>1</td>\n",
       "      <td>0</td>\n",
       "    </tr>\n",
       "    <tr>\n",
       "      <th>4</th>\n",
       "      <td>4</td>\n",
       "      <td>400000</td>\n",
       "      <td>4</td>\n",
       "      <td>0</td>\n",
       "      <td>1</td>\n",
       "      <td>1</td>\n",
       "      <td>2</td>\n",
       "    </tr>\n",
       "    <tr>\n",
       "      <th>5</th>\n",
       "      <td>5</td>\n",
       "      <td>30000</td>\n",
       "      <td>5</td>\n",
       "      <td>1</td>\n",
       "      <td>0</td>\n",
       "      <td>1</td>\n",
       "      <td>3</td>\n",
       "    </tr>\n",
       "    <tr>\n",
       "      <th>6</th>\n",
       "      <td>2</td>\n",
       "      <td>900000</td>\n",
       "      <td>6</td>\n",
       "      <td>0</td>\n",
       "      <td>1</td>\n",
       "      <td>0</td>\n",
       "      <td>2</td>\n",
       "    </tr>\n",
       "    <tr>\n",
       "      <th>7</th>\n",
       "      <td>0</td>\n",
       "      <td>150000</td>\n",
       "      <td>1</td>\n",
       "      <td>0</td>\n",
       "      <td>0</td>\n",
       "      <td>0</td>\n",
       "      <td>0</td>\n",
       "    </tr>\n",
       "    <tr>\n",
       "      <th>8</th>\n",
       "      <td>4</td>\n",
       "      <td>80000</td>\n",
       "      <td>5</td>\n",
       "      <td>1</td>\n",
       "      <td>1</td>\n",
       "      <td>1</td>\n",
       "      <td>1</td>\n",
       "    </tr>\n",
       "    <tr>\n",
       "      <th>9</th>\n",
       "      <td>1</td>\n",
       "      <td>1000000</td>\n",
       "      <td>0</td>\n",
       "      <td>0</td>\n",
       "      <td>0</td>\n",
       "      <td>0</td>\n",
       "      <td>2</td>\n",
       "    </tr>\n",
       "    <tr>\n",
       "      <th>10</th>\n",
       "      <td>5</td>\n",
       "      <td>290000</td>\n",
       "      <td>3</td>\n",
       "      <td>1</td>\n",
       "      <td>1</td>\n",
       "      <td>0</td>\n",
       "      <td>3</td>\n",
       "    </tr>\n",
       "    <tr>\n",
       "      <th>11</th>\n",
       "      <td>1</td>\n",
       "      <td>750000</td>\n",
       "      <td>4</td>\n",
       "      <td>1</td>\n",
       "      <td>1</td>\n",
       "      <td>1</td>\n",
       "      <td>0</td>\n",
       "    </tr>\n",
       "    <tr>\n",
       "      <th>12</th>\n",
       "      <td>2</td>\n",
       "      <td>330000</td>\n",
       "      <td>2</td>\n",
       "      <td>0</td>\n",
       "      <td>0</td>\n",
       "      <td>1</td>\n",
       "      <td>2</td>\n",
       "    </tr>\n",
       "    <tr>\n",
       "      <th>13</th>\n",
       "      <td>0</td>\n",
       "      <td>200000</td>\n",
       "      <td>1</td>\n",
       "      <td>1</td>\n",
       "      <td>0</td>\n",
       "      <td>1</td>\n",
       "      <td>1</td>\n",
       "    </tr>\n",
       "    <tr>\n",
       "      <th>14</th>\n",
       "      <td>5</td>\n",
       "      <td>50000</td>\n",
       "      <td>6</td>\n",
       "      <td>1</td>\n",
       "      <td>0</td>\n",
       "      <td>0</td>\n",
       "      <td>3</td>\n",
       "    </tr>\n",
       "    <tr>\n",
       "      <th>15</th>\n",
       "      <td>4</td>\n",
       "      <td>870000</td>\n",
       "      <td>0</td>\n",
       "      <td>0</td>\n",
       "      <td>1</td>\n",
       "      <td>1</td>\n",
       "      <td>1</td>\n",
       "    </tr>\n",
       "    <tr>\n",
       "      <th>16</th>\n",
       "      <td>3</td>\n",
       "      <td>20000</td>\n",
       "      <td>1</td>\n",
       "      <td>1</td>\n",
       "      <td>1</td>\n",
       "      <td>0</td>\n",
       "      <td>0</td>\n",
       "    </tr>\n",
       "    <tr>\n",
       "      <th>17</th>\n",
       "      <td>2</td>\n",
       "      <td>450000</td>\n",
       "      <td>3</td>\n",
       "      <td>0</td>\n",
       "      <td>1</td>\n",
       "      <td>1</td>\n",
       "      <td>3</td>\n",
       "    </tr>\n",
       "    <tr>\n",
       "      <th>18</th>\n",
       "      <td>0</td>\n",
       "      <td>35000</td>\n",
       "      <td>5</td>\n",
       "      <td>1</td>\n",
       "      <td>0</td>\n",
       "      <td>0</td>\n",
       "      <td>2</td>\n",
       "    </tr>\n",
       "    <tr>\n",
       "      <th>19</th>\n",
       "      <td>5</td>\n",
       "      <td>800000</td>\n",
       "      <td>6</td>\n",
       "      <td>1</td>\n",
       "      <td>1</td>\n",
       "      <td>1</td>\n",
       "      <td>2</td>\n",
       "    </tr>\n",
       "  </tbody>\n",
       "</table>\n",
       "</div>"
      ],
      "text/plain": [
       "    mstat  rev_total_mois  age_grp  empl_formel  bancarise  a_assurance  logem\n",
       "0       0               0        0            0          0            0      1\n",
       "1       1           50000        1            1          1            1      2\n",
       "2       2          120000        2            0          1            0      3\n",
       "3       3          250000        3            1          0            1      0\n",
       "4       4          400000        4            0          1            1      2\n",
       "5       5           30000        5            1          0            1      3\n",
       "6       2          900000        6            0          1            0      2\n",
       "7       0          150000        1            0          0            0      0\n",
       "8       4           80000        5            1          1            1      1\n",
       "9       1         1000000        0            0          0            0      2\n",
       "10      5          290000        3            1          1            0      3\n",
       "11      1          750000        4            1          1            1      0\n",
       "12      2          330000        2            0          0            1      2\n",
       "13      0          200000        1            1          0            1      1\n",
       "14      5           50000        6            1          0            0      3\n",
       "15      4          870000        0            0          1            1      1\n",
       "16      3           20000        1            1          1            0      0\n",
       "17      2          450000        3            0          1            1      3\n",
       "18      0           35000        5            1          0            0      2\n",
       "19      5          800000        6            1          1            1      2"
      ]
     },
     "execution_count": 42,
     "metadata": {},
     "output_type": "execute_result"
    }
   ],
   "source": [
    "datas_p"
   ]
  },
  {
   "cell_type": "code",
   "execution_count": 43,
   "id": "8b8c5b0f-c135-4d74-99d3-f922c3f8664b",
   "metadata": {},
   "outputs": [
    {
     "data": {
      "text/plain": [
       "array([[-1.35953848, -1.0252934 , -1.40013319, -1.1055416 , -1.1055416 ,\n",
       "        -1.1055416 , -0.61214609],\n",
       "       [-0.80462482, -0.87395858, -0.91732864,  0.90453403,  0.90453403,\n",
       "         0.90453403,  0.32961713],\n",
       "       [-0.24971115, -0.66208983, -0.43452409, -1.1055416 ,  0.90453403,\n",
       "        -1.1055416 ,  1.27138035],\n",
       "       [ 0.30520252, -0.2686193 ,  0.04828045,  0.90453403, -1.1055416 ,\n",
       "         0.90453403, -1.55390931],\n",
       "       [ 0.86011618,  0.18538515,  0.531085  , -1.1055416 ,  0.90453403,\n",
       "         0.90453403,  0.32961713],\n",
       "       [ 1.41502985, -0.93449251,  1.01388955,  0.90453403, -1.1055416 ,\n",
       "         0.90453403,  1.27138035],\n",
       "       [-0.24971115,  1.69873335,  1.4966941 , -1.1055416 ,  0.90453403,\n",
       "        -1.1055416 ,  0.32961713],\n",
       "       [-1.35953848, -0.57128894, -0.91732864, -1.1055416 , -1.1055416 ,\n",
       "        -1.1055416 , -1.55390931],\n",
       "       [ 0.86011618, -0.78315769,  1.01388955,  0.90453403,  0.90453403,\n",
       "         0.90453403, -0.61214609],\n",
       "       [-0.80462482,  2.00140299, -1.40013319, -1.1055416 , -1.1055416 ,\n",
       "        -1.1055416 ,  0.32961713],\n",
       "       [ 1.41502985, -0.14755145,  0.04828045,  0.90453403,  0.90453403,\n",
       "        -1.1055416 ,  1.27138035],\n",
       "       [-0.80462482,  1.24472889,  0.531085  ,  0.90453403,  0.90453403,\n",
       "         0.90453403, -1.55390931],\n",
       "       [-0.24971115, -0.02648359, -0.43452409, -1.1055416 , -1.1055416 ,\n",
       "         0.90453403,  0.32961713],\n",
       "       [-1.35953848, -0.41995412, -0.91732864,  0.90453403, -1.1055416 ,\n",
       "         0.90453403, -0.61214609],\n",
       "       [ 1.41502985, -0.87395858,  1.4966941 ,  0.90453403, -1.1055416 ,\n",
       "        -1.1055416 ,  1.27138035],\n",
       "       [ 0.86011618,  1.60793245, -1.40013319, -1.1055416 ,  0.90453403,\n",
       "         0.90453403, -0.61214609],\n",
       "       [ 0.30520252, -0.96475947, -0.91732864,  0.90453403,  0.90453403,\n",
       "        -1.1055416 , -1.55390931],\n",
       "       [-0.24971115,  0.33671997,  0.04828045, -1.1055416 ,  0.90453403,\n",
       "         0.90453403,  1.27138035],\n",
       "       [-1.35953848, -0.91935903,  1.01388955,  0.90453403, -1.1055416 ,\n",
       "        -1.1055416 ,  0.32961713],\n",
       "       [ 1.41502985,  1.39606371,  1.4966941 ,  0.90453403,  0.90453403,\n",
       "         0.90453403,  0.32961713]])"
      ]
     },
     "execution_count": 43,
     "metadata": {},
     "output_type": "execute_result"
    }
   ],
   "source": [
    "scalers = StandardScaler()\n",
    "X_scal = scalers.fit_transform(datas_p)\n",
    "X_scal"
   ]
  },
  {
   "cell_type": "markdown",
   "id": "2054348c-1399-447c-98ee-232e5176745e",
   "metadata": {
    "jp-MarkdownHeadingCollapsed": true
   },
   "source": [
    "#### **Random Regressor**"
   ]
  },
  {
   "cell_type": "code",
   "execution_count": 44,
   "id": "14fda084-c2d6-4411-8645-72a9d98e69ec",
   "metadata": {},
   "outputs": [
    {
     "data": {
      "text/plain": [
       "array([40., 49., 59., ..., 40., 40., 40.])"
      ]
     },
     "execution_count": 44,
     "metadata": {},
     "output_type": "execute_result"
    }
   ],
   "source": [
    "# Test de prédiction\n",
    "prediction_rf = model_load_rf.predict(X_test)\n",
    "prediction_rf"
   ]
  },
  {
   "cell_type": "code",
   "execution_count": 45,
   "id": "722ddd2e-157b-426e-83d6-65e16630da04",
   "metadata": {
    "jupyter": {
     "source_hidden": true
    }
   },
   "outputs": [
    {
     "name": "stdout",
     "output_type": "stream",
     "text": [
      "RMSE modèle load : 0.2597\n",
      "R2 modèle load : 0.9996\n"
     ]
    }
   ],
   "source": [
    "rmse_rf_l = np.sqrt(mean_squared_error(y_test, prediction_rf))\n",
    "r2_rf_l = r2_score(y_test, prediction_rf)\n",
    "\n",
    "print(f\"RMSE modèle load : {rmse_rf_l:.4f}\")\n",
    "print(f\"R2 modèle load : {r2_rf_l:.4f}\")"
   ]
  },
  {
   "cell_type": "code",
   "execution_count": 46,
   "id": "abf425b4-0c1a-4647-bf78-1a24a4798c0f",
   "metadata": {},
   "outputs": [
    {
     "data": {
      "text/plain": [
       "array([30.   , 47.   , 52.   , 27.   , 66.   , 50.   , 62.   , 20.   ,\n",
       "       59.   , 45.   , 54.   , 39.   , 45.015, 30.   , 50.   , 59.   ,\n",
       "       27.   , 54.   , 50.   , 68.6  ])"
      ]
     },
     "execution_count": 46,
     "metadata": {},
     "output_type": "execute_result"
    }
   ],
   "source": [
    "pred_rf = model_load_rf.predict(X_scal)\n",
    "pred_rf"
   ]
  },
  {
   "cell_type": "code",
   "execution_count": 47,
   "id": "e1603d8f-4e45-4741-af4a-b0efa976fff7",
   "metadata": {},
   "outputs": [
    {
     "name": "stdout",
     "output_type": "stream",
     "text": [
      "RMSE sur test : 20.6769\n",
      "R2 sur test : -0.0748\n"
     ]
    }
   ],
   "source": [
    "rmse_rf_T = np.sqrt(mean_squared_error(y_datas, pred_rf))\n",
    "r2_rf_T = r2_score(y_datas, pred_rf)\n",
    "\n",
    "print(f\"RMSE sur test : {rmse_rf_T:.4f}\")\n",
    "print(f\"R2 sur test : {r2_rf_T:.4f}\")"
   ]
  },
  {
   "cell_type": "markdown",
   "id": "7e48dd51-8d46-4e74-8de1-672f6f3bdd31",
   "metadata": {
    "jp-MarkdownHeadingCollapsed": true
   },
   "source": [
    "#### **XGBRegressor**"
   ]
  },
  {
   "cell_type": "code",
   "execution_count": 48,
   "id": "cb68e900-2fc1-49a7-8356-2f211459367c",
   "metadata": {},
   "outputs": [
    {
     "data": {
      "text/plain": [
       "array([40.000217, 49.00064 , 58.98631 , ..., 39.99984 , 39.99984 ,\n",
       "       40.000217], dtype=float32)"
      ]
     },
     "execution_count": 48,
     "metadata": {},
     "output_type": "execute_result"
    }
   ],
   "source": [
    "# Test de prédiction\n",
    "prediction_xgb = model_load_xgb.predict(X_test)\n",
    "prediction_xgb"
   ]
  },
  {
   "cell_type": "code",
   "execution_count": 49,
   "id": "f712016d-7607-43c8-ac37-ac5a43dec9f9",
   "metadata": {},
   "outputs": [
    {
     "name": "stdout",
     "output_type": "stream",
     "text": [
      "RMSE modèle load : 0.0888\n",
      "R2 modèle load : 1.0000\n"
     ]
    }
   ],
   "source": [
    "rmse_xgb_l = np.sqrt(mean_squared_error(y_test, prediction_xgb))\n",
    "r2_xgb_l = r2_score(y_test, prediction_xgb)\n",
    "\n",
    "print(f\"RMSE modèle load : {rmse_xgb_l:.4f}\")\n",
    "print(f\"R2 modèle load : {r2_xgb_l:.4f}\")"
   ]
  },
  {
   "cell_type": "code",
   "execution_count": 51,
   "id": "a8bf5a63-f065-4395-8b95-655cc5479756",
   "metadata": {},
   "outputs": [
    {
     "data": {
      "text/plain": [
       "array([29.999567, 39.99984 , 40.000217, 25.839304, 46.903725, 62.003544,\n",
       "       55.08028 , 20.000673, 39.183205, 44.957767, 57.01011 , 32.03352 ,\n",
       "       39.99629 , 29.999567, 61.999756, 35.319927, 21.596977, 45.057438,\n",
       "       50.01148 , 66.9695  ], dtype=float32)"
      ]
     },
     "execution_count": 51,
     "metadata": {},
     "output_type": "execute_result"
    }
   ],
   "source": [
    "pred_xgb = model_load_xgb.predict(X_scal)\n",
    "pred_xgb"
   ]
  },
  {
   "cell_type": "code",
   "execution_count": 52,
   "id": "cc1a6c47-96c2-4f4f-bbb1-5cf339619d23",
   "metadata": {},
   "outputs": [
    {
     "name": "stdout",
     "output_type": "stream",
     "text": [
      "RMSE sur test : 27.6841\n",
      "R2 sur test : -0.9267\n"
     ]
    }
   ],
   "source": [
    "rmse_xgb_T = np.sqrt(mean_squared_error(y_datas, pred_xgb))\n",
    "r2_xgb_T = r2_score(y_datas, pred_xgb)\n",
    "\n",
    "print(f\"RMSE sur test : {rmse_xgb_T:.4f}\")\n",
    "print(f\"R2 sur test : {r2_xgb_T:.4f}\")"
   ]
  },
  {
   "cell_type": "markdown",
   "id": "a5c5722f-7193-424f-91ae-1ab14c8f7922",
   "metadata": {
    "jp-MarkdownHeadingCollapsed": true
   },
   "source": [
    "### **RESUME**"
   ]
  },
  {
   "cell_type": "markdown",
   "id": "6a1b2a66-2171-4ff5-96c8-da7ac684e282",
   "metadata": {},
   "source": [
    "Le modèle fait moins d'erreur avec les callibrages du meilleur hyper paramètre : \n",
    "    \n",
    "    Erreur quadratique RMSE = 30% et un score R2 = 99.95%. \n",
    "\n",
    "Les performances sont élévés donc -. Conclusion le modèle Random Forest Regressor est retenu pour la mise en production et la suite du scoring."
   ]
  },
  {
   "cell_type": "markdown",
   "id": "81af8c1a-2b4c-426d-9097-d747a1cd74ba",
   "metadata": {
    "jp-MarkdownHeadingCollapsed": true
   },
   "source": [
    "## **MODEL DEPLOYMENT: EXTRACTION**"
   ]
  },
  {
   "cell_type": "code",
   "execution_count": null,
   "id": "4d4174ff-ec23-430f-b99e-2771125e2cb3",
   "metadata": {},
   "outputs": [],
   "source": [
    "joblib.dump(best_rf, \"best_rf.joblib\")\n",
    "joblib.dump(best_xgb, \"best_xgb.joblib\")"
   ]
  },
  {
   "cell_type": "code",
   "execution_count": null,
   "id": "b48686fb-9288-4181-9519-e317daa6d579",
   "metadata": {},
   "outputs": [],
   "source": []
  }
 ],
 "metadata": {
  "kernelspec": {
   "display_name": "Python 3 (ipykernel)",
   "language": "python",
   "name": "python3"
  },
  "language_info": {
   "codemirror_mode": {
    "name": "ipython",
    "version": 3
   },
   "file_extension": ".py",
   "mimetype": "text/x-python",
   "name": "python",
   "nbconvert_exporter": "python",
   "pygments_lexer": "ipython3",
   "version": "3.13.5"
  }
 },
 "nbformat": 4,
 "nbformat_minor": 5
}
