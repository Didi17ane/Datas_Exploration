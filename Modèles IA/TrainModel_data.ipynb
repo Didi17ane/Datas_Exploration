{
 "cells": [
  {
   "cell_type": "markdown",
   "id": "082d08ae-fa36-4181-bfb7-92642e4eb771",
   "metadata": {},
   "source": [
    "# **TRAINING MODEL**"
   ]
  },
  {
   "cell_type": "markdown",
   "id": "4d3e64c3-3bc0-479c-b01e-3ef1496a114a",
   "metadata": {
    "jp-MarkdownHeadingCollapsed": true
   },
   "source": [
    "## **LOADING DATA**"
   ]
  },
  {
   "cell_type": "code",
   "execution_count": 2,
   "id": "f7d5b17b-5e3d-44b3-aa12-3d51acfc6d1b",
   "metadata": {},
   "outputs": [],
   "source": [
    "# Import dataset\n",
    "\n",
    "file_score = \"../DATAS/CleanALL_EHCVM_ML.csv\""
   ]
  },
  {
   "cell_type": "markdown",
   "id": "d6369a38-2580-4d89-8242-ffd258a12118",
   "metadata": {
    "jp-MarkdownHeadingCollapsed": true
   },
   "source": [
    "## **IMPORTS LIBRARIES**"
   ]
  },
  {
   "cell_type": "code",
   "execution_count": 3,
   "id": "277b7cd7-8283-443d-ab2c-e0ca3c4a821a",
   "metadata": {},
   "outputs": [],
   "source": [
    "# Imports Libairies\n",
    "\n",
    "import numpy as np\n",
    "import pandas as pd\n",
    "import matplotlib.pyplot as plt\n",
    "import seaborn as sns\n",
    "\n",
    "import sklearn\n",
    "import joblib\n",
    "\n",
    "import warnings\n",
    "\n",
    "from sklearn.datasets import make_classification\n",
    "from sklearn.model_selection import train_test_split\n",
    "from sklearn.preprocessing import StandardScaler, MinMaxScaler, LabelEncoder, LabelBinarizer, label_binarize\n",
    "from sklearn.model_selection import RandomizedSearchCV, cross_val_score\n",
    "\n",
    "from sklearn.metrics import roc_curve, auc, precision_recall_fscore_support\n",
    "from sklearn.metrics import accuracy_score, precision_score, recall_score, r2_score, mean_squared_error, confusion_matrix, classification_report, ConfusionMatrixDisplay\n",
    "from sklearn.model_selection import GridSearchCV \n"
   ]
  },
  {
   "cell_type": "code",
   "execution_count": 4,
   "id": "408e3dca-7eb0-4355-9455-ab18730af2cd",
   "metadata": {},
   "outputs": [],
   "source": [
    "# Import Modèles\n",
    "\n",
    "from sklearn.svm import SVC\n",
    "\n",
    "from sklearn.inspection import DecisionBoundaryDisplay\n",
    "\n",
    "from sklearn.ensemble import RandomForestClassifier, RandomForestRegressor\n",
    "\n",
    "warnings.filterwarnings('ignore')"
   ]
  },
  {
   "cell_type": "markdown",
   "id": "e1ca1dd8-9811-4084-a606-da8c9fa2fe85",
   "metadata": {
    "jp-MarkdownHeadingCollapsed": true
   },
   "source": [
    "## **READ DATA**"
   ]
  },
  {
   "cell_type": "code",
   "execution_count": 34,
   "id": "4d51f87b-b76e-44aa-9f03-6733d0d7c8e0",
   "metadata": {},
   "outputs": [
    {
     "data": {
      "text/html": [
       "<div>\n",
       "<style scoped>\n",
       "    .dataframe tbody tr th:only-of-type {\n",
       "        vertical-align: middle;\n",
       "    }\n",
       "\n",
       "    .dataframe tbody tr th {\n",
       "        vertical-align: top;\n",
       "    }\n",
       "\n",
       "    .dataframe thead th {\n",
       "        text-align: right;\n",
       "    }\n",
       "</style>\n",
       "<table border=\"1\" class=\"dataframe\">\n",
       "  <thead>\n",
       "    <tr style=\"text-align: right;\">\n",
       "      <th></th>\n",
       "      <th>mstat</th>\n",
       "      <th>rev_total_mois</th>\n",
       "      <th>age_grp</th>\n",
       "      <th>empl_formel</th>\n",
       "      <th>bancarise</th>\n",
       "      <th>a_assurance</th>\n",
       "      <th>logem</th>\n",
       "    </tr>\n",
       "  </thead>\n",
       "  <tbody>\n",
       "    <tr>\n",
       "      <th>0</th>\n",
       "      <td>Célibataire</td>\n",
       "      <td>279244.0</td>\n",
       "      <td>25-34</td>\n",
       "      <td>1</td>\n",
       "      <td>1</td>\n",
       "      <td>0</td>\n",
       "      <td>Locataire</td>\n",
       "    </tr>\n",
       "    <tr>\n",
       "      <th>1</th>\n",
       "      <td>Célibataire</td>\n",
       "      <td>0.0</td>\n",
       "      <td>0-17</td>\n",
       "      <td>0</td>\n",
       "      <td>0</td>\n",
       "      <td>0</td>\n",
       "      <td>Locataire</td>\n",
       "    </tr>\n",
       "    <tr>\n",
       "      <th>2</th>\n",
       "      <td>Célibataire</td>\n",
       "      <td>0.0</td>\n",
       "      <td>0-17</td>\n",
       "      <td>0</td>\n",
       "      <td>0</td>\n",
       "      <td>0</td>\n",
       "      <td>Locataire</td>\n",
       "    </tr>\n",
       "    <tr>\n",
       "      <th>3</th>\n",
       "      <td>Célibataire</td>\n",
       "      <td>0.0</td>\n",
       "      <td>0-17</td>\n",
       "      <td>0</td>\n",
       "      <td>0</td>\n",
       "      <td>0</td>\n",
       "      <td>Locataire</td>\n",
       "    </tr>\n",
       "    <tr>\n",
       "      <th>4</th>\n",
       "      <td>Marié(e)</td>\n",
       "      <td>0.0</td>\n",
       "      <td>25-34</td>\n",
       "      <td>0</td>\n",
       "      <td>0</td>\n",
       "      <td>0</td>\n",
       "      <td>Locataire</td>\n",
       "    </tr>\n",
       "    <tr>\n",
       "      <th>...</th>\n",
       "      <td>...</td>\n",
       "      <td>...</td>\n",
       "      <td>...</td>\n",
       "      <td>...</td>\n",
       "      <td>...</td>\n",
       "      <td>...</td>\n",
       "      <td>...</td>\n",
       "    </tr>\n",
       "    <tr>\n",
       "      <th>64469</th>\n",
       "      <td>Célibataire</td>\n",
       "      <td>0.0</td>\n",
       "      <td>0-17</td>\n",
       "      <td>0</td>\n",
       "      <td>0</td>\n",
       "      <td>0</td>\n",
       "      <td>Proprietaire titre</td>\n",
       "    </tr>\n",
       "    <tr>\n",
       "      <th>64470</th>\n",
       "      <td>Célibataire</td>\n",
       "      <td>0.0</td>\n",
       "      <td>0-17</td>\n",
       "      <td>0</td>\n",
       "      <td>0</td>\n",
       "      <td>0</td>\n",
       "      <td>Proprietaire titre</td>\n",
       "    </tr>\n",
       "    <tr>\n",
       "      <th>64471</th>\n",
       "      <td>Célibataire</td>\n",
       "      <td>0.0</td>\n",
       "      <td>0-17</td>\n",
       "      <td>0</td>\n",
       "      <td>0</td>\n",
       "      <td>0</td>\n",
       "      <td>Proprietaire titre</td>\n",
       "    </tr>\n",
       "    <tr>\n",
       "      <th>64472</th>\n",
       "      <td>Célibataire</td>\n",
       "      <td>0.0</td>\n",
       "      <td>0-17</td>\n",
       "      <td>0</td>\n",
       "      <td>0</td>\n",
       "      <td>0</td>\n",
       "      <td>Proprietaire titre</td>\n",
       "    </tr>\n",
       "    <tr>\n",
       "      <th>64473</th>\n",
       "      <td>Marié(e)</td>\n",
       "      <td>0.0</td>\n",
       "      <td>35-44</td>\n",
       "      <td>0</td>\n",
       "      <td>1</td>\n",
       "      <td>0</td>\n",
       "      <td>Proprietaire titre</td>\n",
       "    </tr>\n",
       "  </tbody>\n",
       "</table>\n",
       "<p>64474 rows × 7 columns</p>\n",
       "</div>"
      ],
      "text/plain": [
       "             mstat  rev_total_mois age_grp  empl_formel  bancarise  \\\n",
       "0      Célibataire        279244.0   25-34            1          1   \n",
       "1      Célibataire             0.0    0-17            0          0   \n",
       "2      Célibataire             0.0    0-17            0          0   \n",
       "3      Célibataire             0.0    0-17            0          0   \n",
       "4         Marié(e)             0.0   25-34            0          0   \n",
       "...            ...             ...     ...          ...        ...   \n",
       "64469  Célibataire             0.0    0-17            0          0   \n",
       "64470  Célibataire             0.0    0-17            0          0   \n",
       "64471  Célibataire             0.0    0-17            0          0   \n",
       "64472  Célibataire             0.0    0-17            0          0   \n",
       "64473     Marié(e)             0.0   35-44            0          1   \n",
       "\n",
       "       a_assurance               logem  \n",
       "0                0           Locataire  \n",
       "1                0           Locataire  \n",
       "2                0           Locataire  \n",
       "3                0           Locataire  \n",
       "4                0           Locataire  \n",
       "...            ...                 ...  \n",
       "64469            0  Proprietaire titre  \n",
       "64470            0  Proprietaire titre  \n",
       "64471            0  Proprietaire titre  \n",
       "64472            0  Proprietaire titre  \n",
       "64473            0  Proprietaire titre  \n",
       "\n",
       "[64474 rows x 7 columns]"
      ]
     },
     "execution_count": 34,
     "metadata": {},
     "output_type": "execute_result"
    }
   ],
   "source": [
    "df_score = pd.read_csv(file_score)\n",
    "C_df_score = df_score.copy()\n",
    "C_df_score"
   ]
  },
  {
   "cell_type": "markdown",
   "id": "e754eb94-07f2-427c-9fce-c356ec5d593f",
   "metadata": {
    "jp-MarkdownHeadingCollapsed": true
   },
   "source": [
    "## **COURBE KDE (Kernel Density Estimator) : Approximation of the probability density of each variable**"
   ]
  },
  {
   "cell_type": "code",
   "execution_count": 40,
   "id": "72391e18-4e98-4c56-abd9-a90666880254",
   "metadata": {
    "collapsed": true,
    "jupyter": {
     "outputs_hidden": true
    },
    "scrolled": true
   },
   "outputs": [
    {
     "name": "stdout",
     "output_type": "stream",
     "text": [
      "Differentes catégories\n"
     ]
    },
    {
     "data": {
      "image/png": "[encoded data removed]",
      "text/plain": [
       "<Figure size 2000x2000 with 9 Axes>"
      ]
     },
     "metadata": {},
     "output_type": "display_data"
    }
   ],
   "source": [
    "fig, ax = plt.subplots(3, 3, figsize=(20, 20))\n",
    "ax = ax.flatten()\n",
    "i = 0\n",
    "C_df_score.replace([np.inf, -np.inf], np.nan, inplace=True)\n",
    "for col in C_df_score.columns:\n",
    "    sns.histplot(data = C_df_score, x=col,kde = True ,ax = ax[i])\n",
    "    i += 1\n",
    "plt.tight_layout(rect=[0, 0, 1, 0.96])\n",
    "print(\"Differentes catégories\")\n",
    "plt.show()"
   ]
  },
  {
   "cell_type": "markdown",
   "id": "b909c53d-8a4b-4194-99f6-a82f12a597f3",
   "metadata": {},
   "source": [
    "**INTEPRETATIONS DES GRAPHS :** \n",
    "\n",
    "**mstat (Situation matrimoniale)**\n",
    "\n",
    "    La variable montre une majorité d'individus célibataires et mariés, avec beaucoup moins d'unions libres, veufs, divorcés ou séparés. La distribution est très déséquilibrée, reflétant probablement la structure habituelle de la population adulte dans l'échantillon.\n",
    "\n",
    "**rev_total_mois (Revenu total mensuel)**\n",
    "\n",
    "    La répartition du revenu est très asymétrique à droite : la plupart des individus ont des revenus faibles, avec une toute petite proportion ayant des revenus très élevés. Cela suggère une forte inégalité économique ou sociale dans la population analysée.\n",
    "\n",
    "**age_grp (Groupe d'âge)**\n",
    "\n",
    "    On observe une concentration importante dans certains groupes d'âge (“0-17”, “25-34”) et moins de personnes dans les classes plus âgées (“65+”). Cette distribution est typique d’une population jeune.\n",
    "\n",
    "**empl_formel (Emploi formel)**\n",
    "\n",
    "    La majorité des individus n'ont pas d'emploi formel (valeur proche de zéro majoritaire). Cela traduit une forte prévalence de l’informel dans l’emploi.\n",
    "\n",
    "**bancarise (Bancarisation)**\n",
    "\n",
    "    On distingue deux pics distincts (0 et 1) : une part significative de la population n’a pas accès à la bancarisation. Cela confirme une faible inclusion financière “officielle” dans l’échantillon.\n",
    "\n",
    "**a_assurance (Accès à une assurance maladie)**\n",
    "\n",
    "    La tendance est similaire à la bancarisation : très peu de personnes disposent d'une assurance. La couverture reste très marginale.\n",
    "\n",
    "**logem (Statut logement)**\n",
    "\n",
    "    La distribution est légèrement inégale, avec une préférence claire pour certains statuts (propriétaire sans titre et locataire dominant), ce qui reflète les situations courantes de logement.\n",
    "\n",
    "**Profil_Score (Score d’inclusion financière)**\n",
    "\n",
    "    La variable se concentre autour de certains scores typiques, avec des pics répétés : cela reflète la segmentation introduite par tes règles de scoring. On note une diversité mais une polarisation sur quelques profils dominants.\n",
    "\n",
    "**OBSERVATION**\n",
    "    \n",
    "**Ces observations faites des tendances de la population ont un impact sur les critères du profil.**"
   ]
  },
  {
   "cell_type": "markdown",
   "id": "d94063f7-8016-455b-b8bc-48e21180d641",
   "metadata": {
    "jp-MarkdownHeadingCollapsed": true
   },
   "source": [
    "## **CREATION OF THE TARGET**"
   ]
  },
  {
   "cell_type": "code",
   "execution_count": 35,
   "id": "1de7d2c9-eb0d-43d7-8bd7-6e1d28a9cc12",
   "metadata": {},
   "outputs": [],
   "source": [
    "\n",
    "def score_inclusion_financiere(row):\n",
    "    score = 0\n",
    "       \n",
    "    #print(f\"\\n---------------------Data {row.name}------------------\\n\")\n",
    "\n",
    "    # Situation Matrimoniale (20 points)\n",
    "    if row['mstat'] in [\"Marié(e)\", \"Union libre\"]:\n",
    "        score += 20\n",
    "    elif row['mstat'] in [\"Célibataire\", \"Divorcé(e)\", \"Séparé\"]:\n",
    "        score += 8\n",
    "    elif row['mstat'] == \"Veuf(ve)\":\n",
    "        score += 10\n",
    "    \n",
    "    #print(f\"1 - {score}\")\n",
    "    \n",
    "    # Groupe d'Âge (10 points)\n",
    "    if row['age_grp'] in [\"18-24\", \"65+\"]:\n",
    "        score += 5\n",
    "    elif row['age_grp'] in [\"35-44\", \"45-54\"]:\n",
    "        score += 10\n",
    "    elif row['age_grp'] in [\"25-34\", \"55-64\"]:\n",
    "        score += 7\n",
    "    \n",
    "    #print(f\"2 - {score}\")\n",
    "    \n",
    "    # Bancarisation (15 points)\n",
    "    if row['bancarise'] == 1:\n",
    "        score += 15\n",
    "    elif row['bancarise'] == 0:\n",
    "        score += 8\n",
    "\n",
    "    #print(f\"3 - {score}\")\n",
    "    \n",
    "    # Assurance (5 points)\n",
    "    if row['a_assurance'] == 1:\n",
    "        score += 5\n",
    "    elif row['a_assurance'] == 0:\n",
    "        score += 2\n",
    "\n",
    "    #print(f\"4 - {score}\")\n",
    "    \n",
    "    # Emploi formel (5 points)\n",
    "    if row['empl_formel'] == 1:\n",
    "        score += 5\n",
    "    elif row['empl_formel'] == 0:\n",
    "        score += 2\n",
    "\n",
    "    #print(f\"5 - {score}\")\n",
    "\n",
    "    # Logement (20 points)\n",
    "    if row['logem'] in [\"Proprietaire sans titre\", \"Proprietaire titre\"]:\n",
    "        score += 20\n",
    "    elif row['logem'] == \"Locataire\":\n",
    "        score += 10\n",
    "\n",
    "    #print(f\"6 - {score}\")\n",
    "\n",
    "    # Revenu (25 points)\n",
    "    if (row['rev_total_mois'] >= 50000) and (row['rev_total_mois'] < 300000):\n",
    "        score += 5\n",
    "    elif (row['rev_total_mois'] >= 300000) and (row['rev_total_mois'] < 500000):\n",
    "        score += 10\n",
    "    elif (row['rev_total_mois'] >= 500000) and (row['rev_total_mois'] < 1000000):\n",
    "        score += 20\n",
    "    elif row['rev_total_mois'] >= 1000000:\n",
    "        score += 25\n",
    "\n",
    "    #print(f\"7 - {score}\")\n",
    "    #print(f\"\\n---------------------------------------\\n\")\n",
    "\n",
    "    return score\n"
   ]
  },
  {
   "cell_type": "code",
   "execution_count": 36,
   "id": "8bcc794b-9352-40b1-8ea8-359607a0740b",
   "metadata": {
    "scrolled": true
   },
   "outputs": [
    {
     "name": "stdout",
     "output_type": "stream",
     "text": [
      "-------------- FIN DE LA CREATION DU TARGET --------------\n"
     ]
    }
   ],
   "source": [
    "C_df_score['Profil_Score'] = C_df_score.apply(score_inclusion_financiere, axis=1)\n",
    "print(\"-------------- FIN DE LA CREATION DU TARGET --------------\")"
   ]
  },
  {
   "cell_type": "code",
   "execution_count": 37,
   "id": "8eac4605-4fc8-4b52-90c3-3bd6f87ba29e",
   "metadata": {},
   "outputs": [
    {
     "data": {
      "text/plain": [
       "array([ 52,  30,  49,  59,  56,  42,  44,  47,  37,  33,  45,  75,  70,\n",
       "        62,  20,  34,  27,  65,  35,  23,  25,  32,  60,  57,  50,  55,\n",
       "        64,  54,  40,  71,  74,  39,  46,  61,  68,  69,  43,  66,  85,\n",
       "        77,  67,  38,  72,  51,  36,  63,  82,  88,  92,  73,  87,  48,\n",
       "        94,  95, 100,  80,  79,  89,  90,  83,  84,  53,  28,  58,  76,\n",
       "        41,  29])"
      ]
     },
     "execution_count": 37,
     "metadata": {},
     "output_type": "execute_result"
    }
   ],
   "source": [
    "classes = C_df_score['Profil_Score'].unique()\n",
    "classes"
   ]
  },
  {
   "cell_type": "code",
   "execution_count": 38,
   "id": "872ac9c5-b35b-4f29-a232-29b536714e95",
   "metadata": {},
   "outputs": [
    {
     "data": {
      "text/plain": [
       "67"
      ]
     },
     "execution_count": 38,
     "metadata": {},
     "output_type": "execute_result"
    }
   ],
   "source": [
    "C_df_score['Profil_Score'].nunique()"
   ]
  },
  {
   "cell_type": "markdown",
   "id": "a3abfffc-1358-4306-80cb-b78a1afa7902",
   "metadata": {
    "jp-MarkdownHeadingCollapsed": true
   },
   "source": [
    "## **LABELING OF VARIABLES**"
   ]
  },
  {
   "cell_type": "code",
   "execution_count": 18,
   "id": "4b52aa3f-e753-438d-953d-19152559d6b2",
   "metadata": {
    "scrolled": true
   },
   "outputs": [
    {
     "data": {
      "text/html": [
       "<div>\n",
       "<style scoped>\n",
       "    .dataframe tbody tr th:only-of-type {\n",
       "        vertical-align: middle;\n",
       "    }\n",
       "\n",
       "    .dataframe tbody tr th {\n",
       "        vertical-align: top;\n",
       "    }\n",
       "\n",
       "    .dataframe thead th {\n",
       "        text-align: right;\n",
       "    }\n",
       "</style>\n",
       "<table border=\"1\" class=\"dataframe\">\n",
       "  <thead>\n",
       "    <tr style=\"text-align: right;\">\n",
       "      <th></th>\n",
       "      <th>mstat</th>\n",
       "      <th>rev_total_mois</th>\n",
       "      <th>age_grp</th>\n",
       "      <th>empl_formel</th>\n",
       "      <th>bancarise</th>\n",
       "      <th>a_assurance</th>\n",
       "      <th>logem</th>\n",
       "      <th>Profil_Score</th>\n",
       "    </tr>\n",
       "  </thead>\n",
       "  <tbody>\n",
       "    <tr>\n",
       "      <th>0</th>\n",
       "      <td>0</td>\n",
       "      <td>279244.0</td>\n",
       "      <td>2</td>\n",
       "      <td>1</td>\n",
       "      <td>1</td>\n",
       "      <td>0</td>\n",
       "      <td>1</td>\n",
       "      <td>52</td>\n",
       "    </tr>\n",
       "    <tr>\n",
       "      <th>1</th>\n",
       "      <td>0</td>\n",
       "      <td>0.0</td>\n",
       "      <td>0</td>\n",
       "      <td>0</td>\n",
       "      <td>0</td>\n",
       "      <td>0</td>\n",
       "      <td>1</td>\n",
       "      <td>30</td>\n",
       "    </tr>\n",
       "    <tr>\n",
       "      <th>2</th>\n",
       "      <td>0</td>\n",
       "      <td>0.0</td>\n",
       "      <td>0</td>\n",
       "      <td>0</td>\n",
       "      <td>0</td>\n",
       "      <td>0</td>\n",
       "      <td>1</td>\n",
       "      <td>30</td>\n",
       "    </tr>\n",
       "    <tr>\n",
       "      <th>3</th>\n",
       "      <td>0</td>\n",
       "      <td>0.0</td>\n",
       "      <td>0</td>\n",
       "      <td>0</td>\n",
       "      <td>0</td>\n",
       "      <td>0</td>\n",
       "      <td>1</td>\n",
       "      <td>30</td>\n",
       "    </tr>\n",
       "    <tr>\n",
       "      <th>4</th>\n",
       "      <td>2</td>\n",
       "      <td>0.0</td>\n",
       "      <td>2</td>\n",
       "      <td>0</td>\n",
       "      <td>0</td>\n",
       "      <td>0</td>\n",
       "      <td>1</td>\n",
       "      <td>49</td>\n",
       "    </tr>\n",
       "    <tr>\n",
       "      <th>...</th>\n",
       "      <td>...</td>\n",
       "      <td>...</td>\n",
       "      <td>...</td>\n",
       "      <td>...</td>\n",
       "      <td>...</td>\n",
       "      <td>...</td>\n",
       "      <td>...</td>\n",
       "      <td>...</td>\n",
       "    </tr>\n",
       "    <tr>\n",
       "      <th>64469</th>\n",
       "      <td>0</td>\n",
       "      <td>0.0</td>\n",
       "      <td>0</td>\n",
       "      <td>0</td>\n",
       "      <td>0</td>\n",
       "      <td>0</td>\n",
       "      <td>3</td>\n",
       "      <td>40</td>\n",
       "    </tr>\n",
       "    <tr>\n",
       "      <th>64470</th>\n",
       "      <td>0</td>\n",
       "      <td>0.0</td>\n",
       "      <td>0</td>\n",
       "      <td>0</td>\n",
       "      <td>0</td>\n",
       "      <td>0</td>\n",
       "      <td>3</td>\n",
       "      <td>40</td>\n",
       "    </tr>\n",
       "    <tr>\n",
       "      <th>64471</th>\n",
       "      <td>0</td>\n",
       "      <td>0.0</td>\n",
       "      <td>0</td>\n",
       "      <td>0</td>\n",
       "      <td>0</td>\n",
       "      <td>0</td>\n",
       "      <td>3</td>\n",
       "      <td>40</td>\n",
       "    </tr>\n",
       "    <tr>\n",
       "      <th>64472</th>\n",
       "      <td>0</td>\n",
       "      <td>0.0</td>\n",
       "      <td>0</td>\n",
       "      <td>0</td>\n",
       "      <td>0</td>\n",
       "      <td>0</td>\n",
       "      <td>3</td>\n",
       "      <td>40</td>\n",
       "    </tr>\n",
       "    <tr>\n",
       "      <th>64473</th>\n",
       "      <td>2</td>\n",
       "      <td>0.0</td>\n",
       "      <td>3</td>\n",
       "      <td>0</td>\n",
       "      <td>1</td>\n",
       "      <td>0</td>\n",
       "      <td>3</td>\n",
       "      <td>69</td>\n",
       "    </tr>\n",
       "  </tbody>\n",
       "</table>\n",
       "<p>64474 rows × 8 columns</p>\n",
       "</div>"
      ],
      "text/plain": [
       "       mstat  rev_total_mois  age_grp  empl_formel  bancarise  a_assurance  \\\n",
       "0          0        279244.0        2            1          1            0   \n",
       "1          0             0.0        0            0          0            0   \n",
       "2          0             0.0        0            0          0            0   \n",
       "3          0             0.0        0            0          0            0   \n",
       "4          2             0.0        2            0          0            0   \n",
       "...      ...             ...      ...          ...        ...          ...   \n",
       "64469      0             0.0        0            0          0            0   \n",
       "64470      0             0.0        0            0          0            0   \n",
       "64471      0             0.0        0            0          0            0   \n",
       "64472      0             0.0        0            0          0            0   \n",
       "64473      2             0.0        3            0          1            0   \n",
       "\n",
       "       logem  Profil_Score  \n",
       "0          1            52  \n",
       "1          1            30  \n",
       "2          1            30  \n",
       "3          1            30  \n",
       "4          1            49  \n",
       "...      ...           ...  \n",
       "64469      3            40  \n",
       "64470      3            40  \n",
       "64471      3            40  \n",
       "64472      3            40  \n",
       "64473      3            69  \n",
       "\n",
       "[64474 rows x 8 columns]"
      ]
     },
     "execution_count": 18,
     "metadata": {},
     "output_type": "execute_result"
    }
   ],
   "source": [
    "label_encoders = {}\n",
    "\n",
    "# Variables catégorielles à encoder\n",
    "cat_cols = ['mstat', 'age_grp', 'logem']\n",
    "\n",
    "for col in cat_cols:\n",
    "    le = LabelEncoder()\n",
    "    C_df_score[col] = le.fit_transform(C_df_score[col])\n",
    "    label_encoders[col] = le\n",
    "C_df_score"
   ]
  },
  {
   "cell_type": "code",
   "execution_count": 19,
   "id": "791367c8-4bd4-40cf-bbb3-aaa00397fef4",
   "metadata": {
    "jupyter": {
     "source_hidden": true
    }
   },
   "outputs": [
    {
     "name": "stdout",
     "output_type": "stream",
     "text": [
      "Mapping 'mstat':\n",
      "  Célibataire -> 0\n",
      "  Divorcé(e) -> 1\n",
      "  Marié(e) -> 2\n",
      "  Séparé -> 3\n",
      "  Union libre -> 4\n",
      "  Veuf(ve) -> 5\n",
      "------------------------------\n",
      "Mapping 'age_grp':\n",
      "  0-17 -> 0\n",
      "  18-24 -> 1\n",
      "  25-34 -> 2\n",
      "  35-44 -> 3\n",
      "  45-54 -> 4\n",
      "  55-64 -> 5\n",
      "  65+ -> 6\n",
      "------------------------------\n",
      "Mapping 'logem':\n",
      "  Autre -> 0\n",
      "  Locataire -> 1\n",
      "  Proprietaire sans titre -> 2\n",
      "  Proprietaire titre -> 3\n",
      "------------------------------\n"
     ]
    }
   ],
   "source": [
    "# Afficher les mappings pour chaque variable\n",
    "for col in cat_cols:\n",
    "    le = label_encoders[col]\n",
    "    mapping = dict(zip(le.classes_, le.transform(le.classes_)))\n",
    "    print(f\"Mapping '{col}':\")\n",
    "    for k, v in mapping.items():\n",
    "        print(f\"  {k} -> {v}\")\n",
    "    print(\"-\" * 30)"
   ]
  },
  {
   "cell_type": "code",
   "execution_count": 20,
   "id": "6f46ad1a-9e59-4834-846b-8196e006928d",
   "metadata": {
    "collapsed": true,
    "jupyter": {
     "outputs_hidden": true
    }
   },
   "outputs": [
    {
     "data": {
      "text/html": [
       "<div>\n",
       "<style scoped>\n",
       "    .dataframe tbody tr th:only-of-type {\n",
       "        vertical-align: middle;\n",
       "    }\n",
       "\n",
       "    .dataframe tbody tr th {\n",
       "        vertical-align: top;\n",
       "    }\n",
       "\n",
       "    .dataframe thead th {\n",
       "        text-align: right;\n",
       "    }\n",
       "</style>\n",
       "<table border=\"1\" class=\"dataframe\">\n",
       "  <thead>\n",
       "    <tr style=\"text-align: right;\">\n",
       "      <th></th>\n",
       "      <th>mstat</th>\n",
       "      <th>rev_total_mois</th>\n",
       "      <th>age_grp</th>\n",
       "      <th>empl_formel</th>\n",
       "      <th>bancarise</th>\n",
       "      <th>a_assurance</th>\n",
       "      <th>logem</th>\n",
       "      <th>Profil_Score</th>\n",
       "    </tr>\n",
       "  </thead>\n",
       "  <tbody>\n",
       "    <tr>\n",
       "      <th>0</th>\n",
       "      <td>0</td>\n",
       "      <td>279244.0</td>\n",
       "      <td>2</td>\n",
       "      <td>1</td>\n",
       "      <td>1</td>\n",
       "      <td>0</td>\n",
       "      <td>1</td>\n",
       "      <td>52</td>\n",
       "    </tr>\n",
       "    <tr>\n",
       "      <th>1</th>\n",
       "      <td>0</td>\n",
       "      <td>0.0</td>\n",
       "      <td>0</td>\n",
       "      <td>0</td>\n",
       "      <td>0</td>\n",
       "      <td>0</td>\n",
       "      <td>1</td>\n",
       "      <td>30</td>\n",
       "    </tr>\n",
       "    <tr>\n",
       "      <th>2</th>\n",
       "      <td>0</td>\n",
       "      <td>0.0</td>\n",
       "      <td>0</td>\n",
       "      <td>0</td>\n",
       "      <td>0</td>\n",
       "      <td>0</td>\n",
       "      <td>1</td>\n",
       "      <td>30</td>\n",
       "    </tr>\n",
       "    <tr>\n",
       "      <th>3</th>\n",
       "      <td>0</td>\n",
       "      <td>0.0</td>\n",
       "      <td>0</td>\n",
       "      <td>0</td>\n",
       "      <td>0</td>\n",
       "      <td>0</td>\n",
       "      <td>1</td>\n",
       "      <td>30</td>\n",
       "    </tr>\n",
       "    <tr>\n",
       "      <th>4</th>\n",
       "      <td>2</td>\n",
       "      <td>0.0</td>\n",
       "      <td>2</td>\n",
       "      <td>0</td>\n",
       "      <td>0</td>\n",
       "      <td>0</td>\n",
       "      <td>1</td>\n",
       "      <td>49</td>\n",
       "    </tr>\n",
       "    <tr>\n",
       "      <th>...</th>\n",
       "      <td>...</td>\n",
       "      <td>...</td>\n",
       "      <td>...</td>\n",
       "      <td>...</td>\n",
       "      <td>...</td>\n",
       "      <td>...</td>\n",
       "      <td>...</td>\n",
       "      <td>...</td>\n",
       "    </tr>\n",
       "    <tr>\n",
       "      <th>64469</th>\n",
       "      <td>0</td>\n",
       "      <td>0.0</td>\n",
       "      <td>0</td>\n",
       "      <td>0</td>\n",
       "      <td>0</td>\n",
       "      <td>0</td>\n",
       "      <td>3</td>\n",
       "      <td>40</td>\n",
       "    </tr>\n",
       "    <tr>\n",
       "      <th>64470</th>\n",
       "      <td>0</td>\n",
       "      <td>0.0</td>\n",
       "      <td>0</td>\n",
       "      <td>0</td>\n",
       "      <td>0</td>\n",
       "      <td>0</td>\n",
       "      <td>3</td>\n",
       "      <td>40</td>\n",
       "    </tr>\n",
       "    <tr>\n",
       "      <th>64471</th>\n",
       "      <td>0</td>\n",
       "      <td>0.0</td>\n",
       "      <td>0</td>\n",
       "      <td>0</td>\n",
       "      <td>0</td>\n",
       "      <td>0</td>\n",
       "      <td>3</td>\n",
       "      <td>40</td>\n",
       "    </tr>\n",
       "    <tr>\n",
       "      <th>64472</th>\n",
       "      <td>0</td>\n",
       "      <td>0.0</td>\n",
       "      <td>0</td>\n",
       "      <td>0</td>\n",
       "      <td>0</td>\n",
       "      <td>0</td>\n",
       "      <td>3</td>\n",
       "      <td>40</td>\n",
       "    </tr>\n",
       "    <tr>\n",
       "      <th>64473</th>\n",
       "      <td>2</td>\n",
       "      <td>0.0</td>\n",
       "      <td>3</td>\n",
       "      <td>0</td>\n",
       "      <td>1</td>\n",
       "      <td>0</td>\n",
       "      <td>3</td>\n",
       "      <td>69</td>\n",
       "    </tr>\n",
       "  </tbody>\n",
       "</table>\n",
       "<p>64474 rows × 8 columns</p>\n",
       "</div>"
      ],
      "text/plain": [
       "       mstat  rev_total_mois  age_grp  empl_formel  bancarise  a_assurance  \\\n",
       "0          0        279244.0        2            1          1            0   \n",
       "1          0             0.0        0            0          0            0   \n",
       "2          0             0.0        0            0          0            0   \n",
       "3          0             0.0        0            0          0            0   \n",
       "4          2             0.0        2            0          0            0   \n",
       "...      ...             ...      ...          ...        ...          ...   \n",
       "64469      0             0.0        0            0          0            0   \n",
       "64470      0             0.0        0            0          0            0   \n",
       "64471      0             0.0        0            0          0            0   \n",
       "64472      0             0.0        0            0          0            0   \n",
       "64473      2             0.0        3            0          1            0   \n",
       "\n",
       "       logem  Profil_Score  \n",
       "0          1            52  \n",
       "1          1            30  \n",
       "2          1            30  \n",
       "3          1            30  \n",
       "4          1            49  \n",
       "...      ...           ...  \n",
       "64469      3            40  \n",
       "64470      3            40  \n",
       "64471      3            40  \n",
       "64472      3            40  \n",
       "64473      3            69  \n",
       "\n",
       "[64474 rows x 8 columns]"
      ]
     },
     "execution_count": 20,
     "metadata": {},
     "output_type": "execute_result"
    }
   ],
   "source": [
    "C_df_score"
   ]
  },
  {
   "cell_type": "markdown",
   "id": "da22eaf4-1947-4562-a204-9970bc21a7c7",
   "metadata": {
    "jp-MarkdownHeadingCollapsed": true
   },
   "source": [
    "### **Correlation Matrix**"
   ]
  },
  {
   "cell_type": "code",
   "execution_count": 21,
   "id": "a2572b39-3a2d-49fb-937a-88e6a3afa62b",
   "metadata": {},
   "outputs": [
    {
     "data": {
      "image/png": "[encoded data removed]",
      "text/plain": [
       "<Figure size 1200x600 with 2 Axes>"
      ]
     },
     "metadata": {},
     "output_type": "display_data"
    }
   ],
   "source": [
    "df_subset = C_df_score\n",
    "corr_matrix = df_subset.corr()\n",
    "plt.figure(figsize = (12,6))\n",
    "sns.heatmap(corr_matrix, annot=True, cmap='coolwarm', fmt=\".2f\", linewidths=0.5)\n",
    "plt.title(\"Correlation Matrix\")\n",
    "plt.show()"
   ]
  },
  {
   "cell_type": "markdown",
   "id": "930ea6a9-4148-4814-82c1-16d4f8a12c82",
   "metadata": {},
   "source": [
    "#### Les méthodes de filtrage comme la corrélation ou le seuil de variance sont excellentes quand nous avons beaucoup de caractéristiques et voulons supprimer rapidement celles qui ne sont pas pertinentes et voir le comportement des caractérisques par rapport à la variable cible. Cependant, si nous voulons maximiser les performances du modèle et avoir les ressources de calcul, nous pourrions vouloir explorer des méthodes d'emballage comme RFE ou des méthodes intégrées comme Lasso. \n",
    "\n",
    "#### La matrice de correlation permet aussi d'observer les variables qui sont corrélées entre elles et celles qui ont un impact sur la variable cible. Ainsi l'on à une idée de comment maximiser les performances du modèle et optimiser à l'avance les erreurs possibles du modèle.\n",
    "\n",
    "#### OBSERVATION : Les variables ne sont pas corrélées entre elles et à la variable cible. Pas de problème à ce niveau. "
   ]
  },
  {
   "cell_type": "markdown",
   "id": "a8fa676c-ab2c-465d-a75a-ee4bebba3157",
   "metadata": {
    "jp-MarkdownHeadingCollapsed": true
   },
   "source": [
    "## **SEPARATE THE FEATURES FROM THE TARGET**"
   ]
  },
  {
   "cell_type": "code",
   "execution_count": 22,
   "id": "bc52714b-f741-4c0a-bf86-fde9beb0e1e8",
   "metadata": {},
   "outputs": [],
   "source": [
    "# Separation des caractérisques et de la cible\n",
    "\n",
    "X = C_df_score.drop(columns=['Profil_Score'])\n",
    "y = C_df_score['Profil_Score']"
   ]
  },
  {
   "cell_type": "code",
   "execution_count": 23,
   "id": "82a4934d-0eba-4e50-b3fa-797be0601409",
   "metadata": {
    "collapsed": true,
    "jupyter": {
     "outputs_hidden": true
    },
    "scrolled": true
   },
   "outputs": [
    {
     "data": {
      "text/html": [
       "<div>\n",
       "<style scoped>\n",
       "    .dataframe tbody tr th:only-of-type {\n",
       "        vertical-align: middle;\n",
       "    }\n",
       "\n",
       "    .dataframe tbody tr th {\n",
       "        vertical-align: top;\n",
       "    }\n",
       "\n",
       "    .dataframe thead th {\n",
       "        text-align: right;\n",
       "    }\n",
       "</style>\n",
       "<table border=\"1\" class=\"dataframe\">\n",
       "  <thead>\n",
       "    <tr style=\"text-align: right;\">\n",
       "      <th></th>\n",
       "      <th>mstat</th>\n",
       "      <th>rev_total_mois</th>\n",
       "      <th>age_grp</th>\n",
       "      <th>empl_formel</th>\n",
       "      <th>bancarise</th>\n",
       "      <th>a_assurance</th>\n",
       "      <th>logem</th>\n",
       "    </tr>\n",
       "  </thead>\n",
       "  <tbody>\n",
       "    <tr>\n",
       "      <th>0</th>\n",
       "      <td>0</td>\n",
       "      <td>279244.0</td>\n",
       "      <td>2</td>\n",
       "      <td>1</td>\n",
       "      <td>1</td>\n",
       "      <td>0</td>\n",
       "      <td>1</td>\n",
       "    </tr>\n",
       "    <tr>\n",
       "      <th>1</th>\n",
       "      <td>0</td>\n",
       "      <td>0.0</td>\n",
       "      <td>0</td>\n",
       "      <td>0</td>\n",
       "      <td>0</td>\n",
       "      <td>0</td>\n",
       "      <td>1</td>\n",
       "    </tr>\n",
       "    <tr>\n",
       "      <th>2</th>\n",
       "      <td>0</td>\n",
       "      <td>0.0</td>\n",
       "      <td>0</td>\n",
       "      <td>0</td>\n",
       "      <td>0</td>\n",
       "      <td>0</td>\n",
       "      <td>1</td>\n",
       "    </tr>\n",
       "    <tr>\n",
       "      <th>3</th>\n",
       "      <td>0</td>\n",
       "      <td>0.0</td>\n",
       "      <td>0</td>\n",
       "      <td>0</td>\n",
       "      <td>0</td>\n",
       "      <td>0</td>\n",
       "      <td>1</td>\n",
       "    </tr>\n",
       "    <tr>\n",
       "      <th>4</th>\n",
       "      <td>2</td>\n",
       "      <td>0.0</td>\n",
       "      <td>2</td>\n",
       "      <td>0</td>\n",
       "      <td>0</td>\n",
       "      <td>0</td>\n",
       "      <td>1</td>\n",
       "    </tr>\n",
       "    <tr>\n",
       "      <th>...</th>\n",
       "      <td>...</td>\n",
       "      <td>...</td>\n",
       "      <td>...</td>\n",
       "      <td>...</td>\n",
       "      <td>...</td>\n",
       "      <td>...</td>\n",
       "      <td>...</td>\n",
       "    </tr>\n",
       "    <tr>\n",
       "      <th>64469</th>\n",
       "      <td>0</td>\n",
       "      <td>0.0</td>\n",
       "      <td>0</td>\n",
       "      <td>0</td>\n",
       "      <td>0</td>\n",
       "      <td>0</td>\n",
       "      <td>3</td>\n",
       "    </tr>\n",
       "    <tr>\n",
       "      <th>64470</th>\n",
       "      <td>0</td>\n",
       "      <td>0.0</td>\n",
       "      <td>0</td>\n",
       "      <td>0</td>\n",
       "      <td>0</td>\n",
       "      <td>0</td>\n",
       "      <td>3</td>\n",
       "    </tr>\n",
       "    <tr>\n",
       "      <th>64471</th>\n",
       "      <td>0</td>\n",
       "      <td>0.0</td>\n",
       "      <td>0</td>\n",
       "      <td>0</td>\n",
       "      <td>0</td>\n",
       "      <td>0</td>\n",
       "      <td>3</td>\n",
       "    </tr>\n",
       "    <tr>\n",
       "      <th>64472</th>\n",
       "      <td>0</td>\n",
       "      <td>0.0</td>\n",
       "      <td>0</td>\n",
       "      <td>0</td>\n",
       "      <td>0</td>\n",
       "      <td>0</td>\n",
       "      <td>3</td>\n",
       "    </tr>\n",
       "    <tr>\n",
       "      <th>64473</th>\n",
       "      <td>2</td>\n",
       "      <td>0.0</td>\n",
       "      <td>3</td>\n",
       "      <td>0</td>\n",
       "      <td>1</td>\n",
       "      <td>0</td>\n",
       "      <td>3</td>\n",
       "    </tr>\n",
       "  </tbody>\n",
       "</table>\n",
       "<p>64474 rows × 7 columns</p>\n",
       "</div>"
      ],
      "text/plain": [
       "       mstat  rev_total_mois  age_grp  empl_formel  bancarise  a_assurance  \\\n",
       "0          0        279244.0        2            1          1            0   \n",
       "1          0             0.0        0            0          0            0   \n",
       "2          0             0.0        0            0          0            0   \n",
       "3          0             0.0        0            0          0            0   \n",
       "4          2             0.0        2            0          0            0   \n",
       "...      ...             ...      ...          ...        ...          ...   \n",
       "64469      0             0.0        0            0          0            0   \n",
       "64470      0             0.0        0            0          0            0   \n",
       "64471      0             0.0        0            0          0            0   \n",
       "64472      0             0.0        0            0          0            0   \n",
       "64473      2             0.0        3            0          1            0   \n",
       "\n",
       "       logem  \n",
       "0          1  \n",
       "1          1  \n",
       "2          1  \n",
       "3          1  \n",
       "4          1  \n",
       "...      ...  \n",
       "64469      3  \n",
       "64470      3  \n",
       "64471      3  \n",
       "64472      3  \n",
       "64473      3  \n",
       "\n",
       "[64474 rows x 7 columns]"
      ]
     },
     "execution_count": 23,
     "metadata": {},
     "output_type": "execute_result"
    }
   ],
   "source": [
    "X"
   ]
  },
  {
   "cell_type": "code",
   "execution_count": 24,
   "id": "3a92fabc-068c-4132-8425-bb9877285908",
   "metadata": {
    "collapsed": true,
    "jupyter": {
     "outputs_hidden": true
    }
   },
   "outputs": [
    {
     "data": {
      "text/plain": [
       "0        52\n",
       "1        30\n",
       "2        30\n",
       "3        30\n",
       "4        49\n",
       "         ..\n",
       "64469    40\n",
       "64470    40\n",
       "64471    40\n",
       "64472    40\n",
       "64473    69\n",
       "Name: Profil_Score, Length: 64474, dtype: int64"
      ]
     },
     "execution_count": 24,
     "metadata": {},
     "output_type": "execute_result"
    }
   ],
   "source": [
    "y"
   ]
  },
  {
   "cell_type": "markdown",
   "id": "f7fa2823-61fd-4a71-8970-0f7d9cd85072",
   "metadata": {
    "jp-MarkdownHeadingCollapsed": true
   },
   "source": [
    "## **STANDARDIZATION OF VARIABLES**"
   ]
  },
  {
   "cell_type": "code",
   "execution_count": 25,
   "id": "af1cd538-42be-400b-ac13-d806180507e3",
   "metadata": {},
   "outputs": [],
   "source": [
    "scaler = StandardScaler()\n",
    "X_scaled = scaler.fit_transform(X)"
   ]
  },
  {
   "cell_type": "code",
   "execution_count": 26,
   "id": "25c5ee53-671c-4fec-be7b-4005b825408d",
   "metadata": {},
   "outputs": [
    {
     "data": {
      "text/plain": [
       "array([[-0.67203399,  5.59637273,  0.3093478 , ...,  1.65510041,\n",
       "        -0.18989412, -0.67477797],\n",
       "       [-0.67203399, -0.18247058, -0.8007677 , ..., -0.60419295,\n",
       "        -0.18989412, -0.67477797],\n",
       "       [-0.67203399, -0.18247058, -0.8007677 , ..., -0.60419295,\n",
       "        -0.18989412, -0.67477797],\n",
       "       ...,\n",
       "       [-0.67203399, -0.18247058, -0.8007677 , ..., -0.60419295,\n",
       "        -0.18989412,  1.23177511],\n",
       "       [-0.67203399, -0.18247058, -0.8007677 , ..., -0.60419295,\n",
       "        -0.18989412,  1.23177511],\n",
       "       [ 0.8735435 , -0.18247058,  0.86440555, ...,  1.65510041,\n",
       "        -0.18989412,  1.23177511]])"
      ]
     },
     "execution_count": 26,
     "metadata": {},
     "output_type": "execute_result"
    }
   ],
   "source": [
    "X_scaled"
   ]
  },
  {
   "cell_type": "markdown",
   "id": "e90fbae2-ba92-441c-81f4-ff83a9299161",
   "metadata": {
    "jp-MarkdownHeadingCollapsed": true
   },
   "source": [
    "## **SEPARATION OF TRAINING AND TESTING**"
   ]
  },
  {
   "cell_type": "code",
   "execution_count": 27,
   "id": "bd2ae76f-02fe-48b3-bdf6-6e7da0e5a511",
   "metadata": {},
   "outputs": [],
   "source": [
    "features = ['mstat', 'age_grp', 'bancarise', 'a_assurance', 'empl_formel', 'logem', 'rev_total_mois']\n",
    "target = 'Profil_Score'"
   ]
  },
  {
   "cell_type": "code",
   "execution_count": 28,
   "id": "08d1aa6f-fe75-4b7d-9f22-f544f1bff749",
   "metadata": {},
   "outputs": [
    {
     "name": "stdout",
     "output_type": "stream",
     "text": [
      "X_train :(51579, 7)\n",
      "y_train :(51579,)\n",
      "X_test :(12895, 7)\n",
      "y_test :(12895,)\n"
     ]
    }
   ],
   "source": [
    "# Données d'entrainement et de test\n",
    "\n",
    "X_train, X_test, y_train, y_test = train_test_split(X_scaled, y, test_size=0.2, random_state=40)\n",
    "print(f\"X_train :{X_train.shape}\")\n",
    "print(f\"y_train :{y_train.shape}\")\n",
    "print(f\"X_test :{X_test.shape}\")\n",
    "print(f\"y_test :{y_test.shape}\")"
   ]
  },
  {
   "cell_type": "code",
   "execution_count": 29,
   "id": "21e593da-50d6-446f-b040-94c2ac77a0d9",
   "metadata": {},
   "outputs": [
    {
     "data": {
      "text/plain": [
       "array([[ 0.8735435 , -0.18247058,  1.4194633 , ..., -0.60419295,\n",
       "        -0.18989412,  0.27849857],\n",
       "       [-0.67203399, -0.18247058, -0.8007677 , ..., -0.60419295,\n",
       "        -0.18989412, -0.67477797],\n",
       "       [-0.67203399, -0.18247058, -0.8007677 , ..., -0.60419295,\n",
       "        -0.18989412,  0.27849857],\n",
       "       ...,\n",
       "       [ 0.8735435 , -0.18247058,  0.3093478 , ...,  1.65510041,\n",
       "        -0.18989412, -0.67477797],\n",
       "       [-0.67203399, -0.18247058, -0.8007677 , ..., -0.60419295,\n",
       "        -0.18989412,  0.27849857],\n",
       "       [-0.67203399, -0.18247058, -0.8007677 , ..., -0.60419295,\n",
       "        -0.18989412,  1.23177511]])"
      ]
     },
     "execution_count": 29,
     "metadata": {},
     "output_type": "execute_result"
    }
   ],
   "source": [
    "X_train"
   ]
  },
  {
   "cell_type": "markdown",
   "id": "7322af30-ced3-4294-96fa-4db20b08e08d",
   "metadata": {},
   "source": [
    "## **MODEL TRAINING PROCESS**"
   ]
  },
  {
   "cell_type": "markdown",
   "id": "af0388b0-9621-4ebf-8d68-e4d64dedec90",
   "metadata": {
    "jp-MarkdownHeadingCollapsed": true
   },
   "source": [
    "### **Choice The Best Model**"
   ]
  },
  {
   "cell_type": "code",
   "execution_count": 116,
   "id": "110ede9d-d412-4ca5-bc32-8c7eb0493774",
   "metadata": {},
   "outputs": [],
   "source": [
    "models = {\n",
    "    \"Random Classifier\": RandomForestClassifier(n_estimators=100, random_state=42, max_depth=10),\n",
    "    \"Random Regressor\" : RandomForestRegressor(n_estimators=100, random_state=42, max_depth=10),\n",
    "    \"Support Vector Machine\": SVC(),\n",
    "}\n",
    "\n",
    "results = {}"
   ]
  },
  {
   "cell_type": "code",
   "execution_count": 117,
   "id": "7b902d0a-36c8-469c-8d6f-9f208740aa0f",
   "metadata": {},
   "outputs": [
    {
     "name": "stdout",
     "output_type": "stream",
     "text": [
      "\n",
      "🏆 Random Classifier\n",
      "\n",
      "          - Accuracy: 0.9898\n",
      "          - Pression score: 0.9895\n",
      "          - Recall score: 0.9898\n",
      "\n",
      "              precision    recall  f1-score   support\n",
      "\n",
      "          20       1.00      1.00      1.00      1134\n",
      "          23       1.00      1.00      1.00        39\n",
      "          25       1.00      0.97      0.99        69\n",
      "          27       1.00      0.99      0.99        75\n",
      "          28       1.00      1.00      1.00         4\n",
      "          29       1.00      1.00      1.00        19\n",
      "          30       1.00      1.00      1.00       953\n",
      "          32       0.98      0.97      0.97        88\n",
      "          33       1.00      1.00      1.00        97\n",
      "          34       0.97      0.95      0.96        65\n",
      "          35       1.00      0.96      0.98       111\n",
      "          36       1.00      1.00      1.00         7\n",
      "          37       1.00      0.96      0.98       204\n",
      "          38       1.00      1.00      1.00         3\n",
      "          39       0.99      0.99      0.99       150\n",
      "          40       1.00      1.00      1.00      4196\n",
      "          42       0.97      1.00      0.98       227\n",
      "          43       1.00      0.85      0.92        33\n",
      "          44       0.98      0.99      0.98        97\n",
      "          45       1.00      1.00      1.00       351\n",
      "          46       0.98      0.99      0.99       146\n",
      "          47       0.99      0.97      0.98       400\n",
      "          48       1.00      0.50      0.67         2\n",
      "          49       0.98      0.99      0.99       308\n",
      "          50       0.99      0.95      0.97        85\n",
      "          51       1.00      0.87      0.93        23\n",
      "          52       0.97      0.99      0.98       343\n",
      "          53       1.00      0.50      0.67         2\n",
      "          54       0.97      0.95      0.96       203\n",
      "          55       0.94      0.94      0.94        17\n",
      "          56       0.99      1.00      1.00       132\n",
      "          57       0.99      0.98      0.99       382\n",
      "          58       1.00      0.75      0.86         4\n",
      "          59       0.99      0.99      0.99       787\n",
      "          60       0.86      0.92      0.89        13\n",
      "          61       0.97      0.90      0.93        31\n",
      "          62       0.99      1.00      1.00       671\n",
      "          63       1.00      0.67      0.80         3\n",
      "          64       0.95      0.98      0.97       213\n",
      "          65       1.00      0.81      0.90        16\n",
      "          66       0.97      1.00      0.98       389\n",
      "          67       0.80      0.97      0.88        34\n",
      "          69       0.99      0.99      0.99       617\n",
      "          70       0.73      0.85      0.79        13\n",
      "          71       0.92      1.00      0.96        22\n",
      "          72       0.84      0.91      0.88        23\n",
      "          73       0.00      0.00      0.00         0\n",
      "          74       0.96      1.00      0.98        43\n",
      "          75       0.81      0.87      0.84        15\n",
      "          76       0.00      0.00      0.00         1\n",
      "          77       0.75      0.50      0.60         6\n",
      "          79       0.50      0.25      0.33         4\n",
      "          80       0.00      0.00      0.00         3\n",
      "          82       0.60      0.43      0.50         7\n",
      "          83       0.00      0.00      0.00         1\n",
      "          85       0.80      1.00      0.89         8\n",
      "          87       0.00      0.00      0.00         1\n",
      "          89       0.00      0.00      0.00         1\n",
      "          90       0.00      0.00      0.00         1\n",
      "          92       0.60      1.00      0.75         3\n",
      "\n",
      "    accuracy                           0.99     12895\n",
      "   macro avg       0.83      0.80      0.81     12895\n",
      "weighted avg       0.99      0.99      0.99     12895\n",
      "\n",
      "          Importance des variables :\n",
      "          variable  importance\n",
      "6  rev_total_mois    0.344312\n",
      "2       bancarise    0.341012\n",
      "0           mstat    0.127023\n",
      "4     empl_formel    0.106258\n",
      "1         age_grp    0.042432\n",
      "5           logem    0.034344\n",
      "3     a_assurance    0.004620\n",
      "\n",
      "🏆 Random Regressor\n",
      "\n",
      "          - R2 score: 0.9986\n",
      "          - RMSE: 0.5096\n",
      "\n",
      "          Importance des variables :\n",
      "          variable  importance\n",
      "0           mstat    0.558936\n",
      "6  rev_total_mois    0.311043\n",
      "2       bancarise    0.061986\n",
      "4     empl_formel    0.048085\n",
      "1         age_grp    0.017272\n",
      "5           logem    0.001512\n",
      "3     a_assurance    0.001166\n",
      "\n",
      "🏆 Support Vector Machine\n",
      "\n",
      "          - Accuracy: 0.9674\n",
      "          - Pression score: 0.9677\n",
      "          - Recall score: 0.9674\n",
      "\n",
      "              precision    recall  f1-score   support\n",
      "\n",
      "          20       1.00      1.00      1.00      1134\n",
      "          23       0.91      1.00      0.95        39\n",
      "          25       1.00      0.88      0.94        69\n",
      "          27       0.98      0.83      0.90        75\n",
      "          28       0.00      0.00      0.00         4\n",
      "          29       0.95      0.95      0.95        19\n",
      "          30       0.98      0.99      0.99       953\n",
      "          32       0.99      0.88      0.93        88\n",
      "          33       1.00      1.00      1.00        97\n",
      "          34       0.95      0.85      0.89        65\n",
      "          35       0.94      0.95      0.94       111\n",
      "          36       1.00      1.00      1.00         7\n",
      "          37       0.93      0.93      0.93       204\n",
      "          38       0.75      1.00      0.86         3\n",
      "          39       0.95      0.98      0.96       150\n",
      "          40       1.00      1.00      1.00      4196\n",
      "          42       0.94      0.95      0.95       227\n",
      "          43       1.00      0.85      0.92        33\n",
      "          44       0.98      0.84      0.90        97\n",
      "          45       0.98      0.94      0.96       351\n",
      "          46       0.98      0.99      0.98       146\n",
      "          47       0.96      0.95      0.95       400\n",
      "          48       0.00      0.00      0.00         2\n",
      "          49       0.94      0.91      0.92       308\n",
      "          50       0.75      0.82      0.79        85\n",
      "          51       0.82      0.78      0.80        23\n",
      "          52       0.86      0.96      0.91       343\n",
      "          53       0.00      0.00      0.00         2\n",
      "          54       0.96      0.85      0.90       203\n",
      "          55       0.44      0.41      0.42        17\n",
      "          56       0.99      0.98      0.99       132\n",
      "          57       0.93      0.95      0.94       382\n",
      "          58       1.00      0.25      0.40         4\n",
      "          59       0.98      0.97      0.98       787\n",
      "          60       0.45      0.77      0.57        13\n",
      "          61       0.93      0.84      0.88        31\n",
      "          62       0.97      0.99      0.98       671\n",
      "          63       0.50      0.67      0.57         3\n",
      "          64       0.93      0.91      0.92       213\n",
      "          65       1.00      0.44      0.61        16\n",
      "          66       0.97      0.99      0.98       389\n",
      "          67       0.61      0.79      0.69        34\n",
      "          69       0.98      0.99      0.98       617\n",
      "          70       0.69      0.85      0.76        13\n",
      "          71       0.60      0.41      0.49        22\n",
      "          72       0.75      0.78      0.77        23\n",
      "          73       0.00      0.00      0.00         0\n",
      "          74       0.75      0.93      0.83        43\n",
      "          75       0.65      0.87      0.74        15\n",
      "          76       0.00      0.00      0.00         1\n",
      "          77       0.33      0.50      0.40         6\n",
      "          79       0.00      0.00      0.00         4\n",
      "          80       0.00      0.00      0.00         3\n",
      "          82       0.25      0.29      0.27         7\n",
      "          83       0.00      0.00      0.00         1\n",
      "          85       0.54      0.88      0.67         8\n",
      "          87       0.00      0.00      0.00         1\n",
      "          89       0.00      0.00      0.00         1\n",
      "          90       0.00      0.00      0.00         1\n",
      "          92       0.67      0.67      0.67         3\n",
      "\n",
      "    accuracy                           0.97     12895\n",
      "   macro avg       0.69      0.69      0.68     12895\n",
      "weighted avg       0.97      0.97      0.97     12895\n",
      "\n"
     ]
    }
   ],
   "source": [
    "for name, model in models.items():\n",
    "    model.fit(X_train, y_train)  \n",
    "    y_pred = model.predict(X_test) \n",
    "    joblib.dump(model, f'{name}.joblib')\n",
    "\n",
    "    print(f\"\\n🏆 {name}\\n\")\n",
    "    \n",
    "    if \"Classifier\" in name or \"Support Vector Machine\" in name:\n",
    "        acc = accuracy_score(y_test, y_pred)\n",
    "        pres = precision_score(y_test, y_pred, average='weighted', zero_division=0)\n",
    "        rec = recall_score(y_test, y_pred, average='weighted', zero_division=0)\n",
    "        print(f\"          - Accuracy: {acc:.4f}\")\n",
    "        print(f\"          - Pression score: {pres:.4f}\")\n",
    "        print(f\"          - Recall score: {rec:.4f}\\n\")\n",
    "        print(classification_report(y_test, y_pred))\n",
    "\n",
    "        results[name] = acc \n",
    "    else:\n",
    "        rmse = np.sqrt(mean_squared_error(y_test, y_pred))\n",
    "        r2 = r2_score(y_test, y_pred)\n",
    "        print(f\"          - R2 score: {r2:.4f}\")\n",
    "        print(f\"          - RMSE: {rmse:.4f}\\n\")\n",
    "\n",
    "        results[name] = r2 \n",
    "\n",
    "    # Analyse d'importance des variables\n",
    "    if hasattr(model, \"feature_importances_\"):\n",
    "        importances = model.feature_importances_\n",
    "        importance_df = pd.DataFrame({'variable': features, 'importance': importances}).sort_values(by='importance', ascending=False)\n",
    "        print(\"          Importance des variables :\\n\", importance_df)"
   ]
  },
  {
   "cell_type": "markdown",
   "id": "0a4f9696-2a9e-4fb0-b828-b46c1185b867",
   "metadata": {
    "jp-MarkdownHeadingCollapsed": true
   },
   "source": [
    "### **Vizualisation Models**"
   ]
  },
  {
   "cell_type": "code",
   "execution_count": 118,
   "id": "fe6a7b69-3f31-4ae7-8ab5-676ff8baed2f",
   "metadata": {},
   "outputs": [
    {
     "data": {
      "image/png": "[encoded data removed]",
      "text/plain": [
       "<Figure size 800x500 with 1 Axes>"
      ]
     },
     "metadata": {},
     "output_type": "display_data"
    }
   ],
   "source": [
    "results_df = pd.DataFrame(results.items(), columns=[\"Model\", \"Score\"])\n",
    "plt.figure(figsize=(8, 5))\n",
    "sns.barplot(x=\"Score\", y=\"Model\", data=results_df, palette=\"viridis\")\n",
    "plt.xlabel(\" Score\")\n",
    "plt.ylabel(\"Model\")\n",
    "plt.title(\"Compare Accuracy Score of 3 Model\")\n",
    "plt.xlim(0, 1)\n",
    "plt.show()"
   ]
  },
  {
   "cell_type": "markdown",
   "id": "2544630e-afe0-4736-9389-2c8f74ee1ebd",
   "metadata": {},
   "source": [
    "### **Search for the Hyperparameter of the Best Model**"
   ]
  },
  {
   "cell_type": "code",
   "execution_count": 119,
   "id": "f1d9de97-da07-4dc3-bf57-ff3888cfcf4d",
   "metadata": {},
   "outputs": [],
   "source": [
    "rf = RandomForestRegressor(random_state=42)\n",
    "\n",
    "# Grille d'hyperparamètres\n",
    "param_grid = {\n",
    "    'n_estimators': [100, 200],\n",
    "    'max_depth': [None, 10, 20],\n",
    "    'min_samples_split': [2, 5],\n",
    "    'min_samples_leaf': [1, 2]\n",
    "}"
   ]
  },
  {
   "cell_type": "markdown",
   "id": "08be4ed7-529f-4366-bf60-1e3d444e241d",
   "metadata": {},
   "source": [
    "**GridSearchCV with RMSE**"
   ]
  },
  {
   "cell_type": "code",
   "execution_count": 135,
   "id": "5379f925-7bf0-4599-a93b-c4ccf371dd70",
   "metadata": {},
   "outputs": [
    {
     "name": "stdout",
     "output_type": "stream",
     "text": [
      "Meilleurs paramètres : {'max_depth': None, 'min_samples_leaf': 1, 'min_samples_split': 2, 'n_estimators': 200}\n"
     ]
    }
   ],
   "source": [
    "# GridSearchCV avec RMSE comme métric\n",
    "grid_search = GridSearchCV(\n",
    "    estimator=rf,\n",
    "    param_grid=param_grid,\n",
    "    cv=5,         # 5-fold cross validation\n",
    "    scoring='neg_root_mean_squared_error', # RMSE\n",
    "    n_jobs=-1,\n",
    "    verbose=0\n",
    ")\n",
    "\n",
    "# Entraînement sur le train set\n",
    "grid_search.fit(X_train, y_train)\n",
    "\n",
    "print(\"Meilleurs paramètres :\", grid_search.best_params_)"
   ]
  },
  {
   "cell_type": "code",
   "execution_count": 163,
   "id": "84763b8a-c567-4dff-a5c7-b3dea380f2e8",
   "metadata": {},
   "outputs": [
    {
     "name": "stdout",
     "output_type": "stream",
     "text": [
      "RMSE moyen (CV): 0.33 ± 0.05\n"
     ]
    }
   ],
   "source": [
    "results = grid_search.cv_results_\n",
    "\n",
    "# Pour la meilleure combinaison d'hyperparamètres :\n",
    "best_idx = grid_search.best_index_\n",
    "mean_rmse = -results['mean_test_score'][best_idx]  # négatif car scoring='neg_root_mean_squared_error'\n",
    "std_rmse = results['std_test_score'][best_idx]\n",
    "\n",
    "print(f\"RMSE moyen (CV): {mean_rmse:.2f} ± {std_rmse:.2f}\")"
   ]
  },
  {
   "cell_type": "markdown",
   "id": "91248578-4589-403c-a19a-001fc996c4c8",
   "metadata": {},
   "source": [
    "**GridSearchCV with R2**"
   ]
  },
  {
   "cell_type": "code",
   "execution_count": 166,
   "id": "df203880-a2d0-4499-a8a8-1ed3ee722b5a",
   "metadata": {},
   "outputs": [
    {
     "name": "stdout",
     "output_type": "stream",
     "text": [
      "Meilleurs paramètres : {'max_depth': None, 'min_samples_leaf': 1, 'min_samples_split': 2, 'n_estimators': 200}\n",
      "R² moyen (CV): 0.999 ± 0.000\n"
     ]
    }
   ],
   "source": [
    "# GridSearchCV avec R2 comme métric\n",
    "grid_search_r2 = GridSearchCV(\n",
    "    estimator=rf,\n",
    "    param_grid=param_grid,\n",
    "    cv=5,\n",
    "    scoring='r2',\n",
    "    n_jobs=-1,\n",
    "    verbose=0\n",
    ")\n",
    "grid_search_r2.fit(X_train, y_train)\n",
    "results_r2 = grid_search_r2.cv_results_\n",
    "best_idx_r2 = grid_search_r2.best_index_\n",
    "mean_r2 = results_r2['mean_test_score'][best_idx_r2]\n",
    "std_r2 = results_r2['std_test_score'][best_idx_r2]\n",
    "\n",
    "print(\"Meilleurs paramètres :\", grid_search_r2.best_params_)\n",
    "print(f\"R² moyen (CV): {mean_r2:.3f} ± {std_r2:.3f}\")"
   ]
  },
  {
   "cell_type": "markdown",
   "id": "03487aeb-d611-461a-bf41-b5e0d188f9af",
   "metadata": {
    "jupyter": {
     "source_hidden": true
    }
   },
   "source": [
    "**Principes de recherches des hypers paramètres**\n",
    "\n",
    "**estimator=rf**\n",
    "\n",
    "        Modèle de base que tu souhaites entraîner et optimiser, ici un Random Forest Regressor\n",
    "**param_grid=param_grid**\n",
    "\n",
    "    Un dictionnaire contenant les hyperparamètres et leurs différentes valeurs possibles.\n",
    "    GridSearchCV essaiera toutes les combinaisons possibles listées pour trouver la meilleure\n",
    "**cv=5**\n",
    "\n",
    "    Le nombre de folds dans la validation croisée.Ici, le dataset est divisé en 5 parties différentes.\n",
    "    4 parts servent à l'entraînement, 1 à la validation, et ce, 5 fois en changeant la partie de validation.\n",
    "**scoring='neg_root_mean_squared_error'**\n",
    "    \n",
    "    RMSE : La métrique utilisée pour évaluer la performance du modèle\n",
    "**n_jobs=-1**\n",
    "    \n",
    "    Utilisation de tous les cœurs CPU disponibles pour paralléliser le calcul\n",
    "**verbose**\n",
    "    \n",
    "    Contrôle le niveau de verbosité (affichage d'informations pendant l'exécution) \n",
    "    0 = Aucunes infos\n",
    "    2 = Infos détaillés"
   ]
  },
  {
   "cell_type": "markdown",
   "id": "6346802f-0f39-45ad-80a4-1beb168ba569",
   "metadata": {},
   "source": [
    "### **Retraining the model with the hyperparameter**"
   ]
  },
  {
   "cell_type": "code",
   "execution_count": 169,
   "id": "9c183c0f-c3d2-4c10-95f0-25d25c210bd6",
   "metadata": {},
   "outputs": [
    {
     "name": "stdout",
     "output_type": "stream",
     "text": [
      "RMSE sur test : 0.3134\n"
     ]
    }
   ],
   "source": [
    "# Évaluation sur le test set avec meilleur modèle\n",
    "best_model = grid_search.best_estimator_\n",
    "y_pred = best_model.predict(X_test)\n",
    "\n",
    "rmse_S = np.sqrt(mean_squared_error(y_test, y_pred))\n",
    "\n",
    "print(f\"RMSE sur test : {rmse_S:.4f}\")"
   ]
  },
  {
   "cell_type": "code",
   "execution_count": 171,
   "id": "914f90de-dfc3-4886-aa94-872433f6e3de",
   "metadata": {},
   "outputs": [
    {
     "name": "stdout",
     "output_type": "stream",
     "text": [
      "R2 sur test : 0.9995\n"
     ]
    }
   ],
   "source": [
    "# Évaluation sur le test set avec meilleur modèle\n",
    "best_model_r = grid_search_r2.best_estimator_\n",
    "y_pred_r = best_model_r.predict(X_test)\n",
    "\n",
    "r2_S = r2_score(y_test, y_pred_r)\n",
    "\n",
    "print(f\"R2 sur test : {r2_S:.4f}\")"
   ]
  },
  {
   "cell_type": "markdown",
   "id": "e5384cff-7467-4ee8-ba83-a4185aac670c",
   "metadata": {
    "jp-MarkdownHeadingCollapsed": true
   },
   "source": [
    "### **Use the loaded model to make predictions**"
   ]
  },
  {
   "cell_type": "code",
   "execution_count": 152,
   "id": "09cb1de7-a9d0-4e40-82d6-90ca103efcd9",
   "metadata": {},
   "outputs": [],
   "source": [
    "model_load = joblib.load('ProductModel.joblib')"
   ]
  },
  {
   "cell_type": "code",
   "execution_count": 153,
   "id": "14fda084-c2d6-4411-8645-72a9d98e69ec",
   "metadata": {},
   "outputs": [
    {
     "data": {
      "text/plain": [
       "array([37., 66., 62., ..., 42., 40., 40.])"
      ]
     },
     "execution_count": 153,
     "metadata": {},
     "output_type": "execute_result"
    }
   ],
   "source": [
    "# Test de prédiction\n",
    "prediction = model_load.predict(X_test)\n",
    "prediction"
   ]
  },
  {
   "cell_type": "code",
   "execution_count": 154,
   "id": "722ddd2e-157b-426e-83d6-65e16630da04",
   "metadata": {},
   "outputs": [
    {
     "name": "stdout",
     "output_type": "stream",
     "text": [
      "RMSE modèle load : 0.3145\n",
      "R2 modèle load : 0.9995\n"
     ]
    }
   ],
   "source": [
    "rmse_l = np.sqrt(mean_squared_error(y_test, prediction))\n",
    "r2_l = r2_score(y_test, prediction)\n",
    "\n",
    "print(f\"RMSE modèle load : {rmse_l:.4f}\")\n",
    "print(f\"R2 modèle load : {r2_l:.4f}\")"
   ]
  },
  {
   "cell_type": "code",
   "execution_count": 155,
   "id": "0630b688-bb3e-453b-a6cf-62826806dee9",
   "metadata": {
    "collapsed": true,
    "jupyter": {
     "outputs_hidden": true,
     "source_hidden": true
    }
   },
   "outputs": [
    {
     "data": {
      "text/html": [
       "<div>\n",
       "<style scoped>\n",
       "    .dataframe tbody tr th:only-of-type {\n",
       "        vertical-align: middle;\n",
       "    }\n",
       "\n",
       "    .dataframe tbody tr th {\n",
       "        vertical-align: top;\n",
       "    }\n",
       "\n",
       "    .dataframe thead th {\n",
       "        text-align: right;\n",
       "    }\n",
       "</style>\n",
       "<table border=\"1\" class=\"dataframe\">\n",
       "  <thead>\n",
       "    <tr style=\"text-align: right;\">\n",
       "      <th></th>\n",
       "      <th>mstat</th>\n",
       "      <th>rev_total_mois</th>\n",
       "      <th>age_grp</th>\n",
       "      <th>empl_formel</th>\n",
       "      <th>bancarise</th>\n",
       "      <th>a_assurance</th>\n",
       "      <th>logem</th>\n",
       "      <th>Profil_Score</th>\n",
       "    </tr>\n",
       "  </thead>\n",
       "  <tbody>\n",
       "    <tr>\n",
       "      <th>0</th>\n",
       "      <td>0</td>\n",
       "      <td>0</td>\n",
       "      <td>0</td>\n",
       "      <td>0</td>\n",
       "      <td>0</td>\n",
       "      <td>0</td>\n",
       "      <td>1</td>\n",
       "      <td>28</td>\n",
       "    </tr>\n",
       "    <tr>\n",
       "      <th>1</th>\n",
       "      <td>1</td>\n",
       "      <td>50000</td>\n",
       "      <td>1</td>\n",
       "      <td>1</td>\n",
       "      <td>1</td>\n",
       "      <td>1</td>\n",
       "      <td>2</td>\n",
       "      <td>65</td>\n",
       "    </tr>\n",
       "    <tr>\n",
       "      <th>2</th>\n",
       "      <td>2</td>\n",
       "      <td>120000</td>\n",
       "      <td>2</td>\n",
       "      <td>0</td>\n",
       "      <td>1</td>\n",
       "      <td>0</td>\n",
       "      <td>3</td>\n",
       "      <td>78</td>\n",
       "    </tr>\n",
       "    <tr>\n",
       "      <th>3</th>\n",
       "      <td>3</td>\n",
       "      <td>250000</td>\n",
       "      <td>3</td>\n",
       "      <td>1</td>\n",
       "      <td>0</td>\n",
       "      <td>1</td>\n",
       "      <td>0</td>\n",
       "      <td>49</td>\n",
       "    </tr>\n",
       "    <tr>\n",
       "      <th>4</th>\n",
       "      <td>4</td>\n",
       "      <td>400000</td>\n",
       "      <td>4</td>\n",
       "      <td>0</td>\n",
       "      <td>1</td>\n",
       "      <td>1</td>\n",
       "      <td>2</td>\n",
       "      <td>85</td>\n",
       "    </tr>\n",
       "    <tr>\n",
       "      <th>5</th>\n",
       "      <td>5</td>\n",
       "      <td>30000</td>\n",
       "      <td>5</td>\n",
       "      <td>1</td>\n",
       "      <td>0</td>\n",
       "      <td>1</td>\n",
       "      <td>3</td>\n",
       "      <td>62</td>\n",
       "    </tr>\n",
       "    <tr>\n",
       "      <th>6</th>\n",
       "      <td>2</td>\n",
       "      <td>900000</td>\n",
       "      <td>6</td>\n",
       "      <td>0</td>\n",
       "      <td>1</td>\n",
       "      <td>0</td>\n",
       "      <td>2</td>\n",
       "      <td>91</td>\n",
       "    </tr>\n",
       "    <tr>\n",
       "      <th>7</th>\n",
       "      <td>0</td>\n",
       "      <td>150000</td>\n",
       "      <td>1</td>\n",
       "      <td>0</td>\n",
       "      <td>0</td>\n",
       "      <td>0</td>\n",
       "      <td>0</td>\n",
       "      <td>33</td>\n",
       "    </tr>\n",
       "    <tr>\n",
       "      <th>8</th>\n",
       "      <td>4</td>\n",
       "      <td>80000</td>\n",
       "      <td>5</td>\n",
       "      <td>1</td>\n",
       "      <td>1</td>\n",
       "      <td>1</td>\n",
       "      <td>1</td>\n",
       "      <td>72</td>\n",
       "    </tr>\n",
       "    <tr>\n",
       "      <th>9</th>\n",
       "      <td>1</td>\n",
       "      <td>1000000</td>\n",
       "      <td>0</td>\n",
       "      <td>0</td>\n",
       "      <td>0</td>\n",
       "      <td>0</td>\n",
       "      <td>2</td>\n",
       "      <td>38</td>\n",
       "    </tr>\n",
       "    <tr>\n",
       "      <th>10</th>\n",
       "      <td>5</td>\n",
       "      <td>290000</td>\n",
       "      <td>3</td>\n",
       "      <td>1</td>\n",
       "      <td>1</td>\n",
       "      <td>0</td>\n",
       "      <td>3</td>\n",
       "      <td>70</td>\n",
       "    </tr>\n",
       "    <tr>\n",
       "      <th>11</th>\n",
       "      <td>1</td>\n",
       "      <td>750000</td>\n",
       "      <td>4</td>\n",
       "      <td>1</td>\n",
       "      <td>1</td>\n",
       "      <td>1</td>\n",
       "      <td>0</td>\n",
       "      <td>82</td>\n",
       "    </tr>\n",
       "    <tr>\n",
       "      <th>12</th>\n",
       "      <td>2</td>\n",
       "      <td>330000</td>\n",
       "      <td>2</td>\n",
       "      <td>0</td>\n",
       "      <td>0</td>\n",
       "      <td>1</td>\n",
       "      <td>2</td>\n",
       "      <td>55</td>\n",
       "    </tr>\n",
       "    <tr>\n",
       "      <th>13</th>\n",
       "      <td>0</td>\n",
       "      <td>200000</td>\n",
       "      <td>1</td>\n",
       "      <td>1</td>\n",
       "      <td>0</td>\n",
       "      <td>1</td>\n",
       "      <td>1</td>\n",
       "      <td>60</td>\n",
       "    </tr>\n",
       "    <tr>\n",
       "      <th>14</th>\n",
       "      <td>5</td>\n",
       "      <td>50000</td>\n",
       "      <td>6</td>\n",
       "      <td>1</td>\n",
       "      <td>0</td>\n",
       "      <td>0</td>\n",
       "      <td>3</td>\n",
       "      <td>41</td>\n",
       "    </tr>\n",
       "    <tr>\n",
       "      <th>15</th>\n",
       "      <td>4</td>\n",
       "      <td>870000</td>\n",
       "      <td>0</td>\n",
       "      <td>0</td>\n",
       "      <td>1</td>\n",
       "      <td>1</td>\n",
       "      <td>1</td>\n",
       "      <td>78</td>\n",
       "    </tr>\n",
       "    <tr>\n",
       "      <th>16</th>\n",
       "      <td>3</td>\n",
       "      <td>20000</td>\n",
       "      <td>1</td>\n",
       "      <td>1</td>\n",
       "      <td>1</td>\n",
       "      <td>0</td>\n",
       "      <td>0</td>\n",
       "      <td>44</td>\n",
       "    </tr>\n",
       "    <tr>\n",
       "      <th>17</th>\n",
       "      <td>2</td>\n",
       "      <td>450000</td>\n",
       "      <td>3</td>\n",
       "      <td>0</td>\n",
       "      <td>1</td>\n",
       "      <td>1</td>\n",
       "      <td>3</td>\n",
       "      <td>80</td>\n",
       "    </tr>\n",
       "    <tr>\n",
       "      <th>18</th>\n",
       "      <td>0</td>\n",
       "      <td>35000</td>\n",
       "      <td>5</td>\n",
       "      <td>1</td>\n",
       "      <td>0</td>\n",
       "      <td>0</td>\n",
       "      <td>2</td>\n",
       "      <td>39</td>\n",
       "    </tr>\n",
       "    <tr>\n",
       "      <th>19</th>\n",
       "      <td>5</td>\n",
       "      <td>800000</td>\n",
       "      <td>6</td>\n",
       "      <td>1</td>\n",
       "      <td>1</td>\n",
       "      <td>1</td>\n",
       "      <td>2</td>\n",
       "      <td>95</td>\n",
       "    </tr>\n",
       "  </tbody>\n",
       "</table>\n",
       "</div>"
      ],
      "text/plain": [
       "    mstat  rev_total_mois  age_grp  empl_formel  bancarise  a_assurance  \\\n",
       "0       0               0        0            0          0            0   \n",
       "1       1           50000        1            1          1            1   \n",
       "2       2          120000        2            0          1            0   \n",
       "3       3          250000        3            1          0            1   \n",
       "4       4          400000        4            0          1            1   \n",
       "5       5           30000        5            1          0            1   \n",
       "6       2          900000        6            0          1            0   \n",
       "7       0          150000        1            0          0            0   \n",
       "8       4           80000        5            1          1            1   \n",
       "9       1         1000000        0            0          0            0   \n",
       "10      5          290000        3            1          1            0   \n",
       "11      1          750000        4            1          1            1   \n",
       "12      2          330000        2            0          0            1   \n",
       "13      0          200000        1            1          0            1   \n",
       "14      5           50000        6            1          0            0   \n",
       "15      4          870000        0            0          1            1   \n",
       "16      3           20000        1            1          1            0   \n",
       "17      2          450000        3            0          1            1   \n",
       "18      0           35000        5            1          0            0   \n",
       "19      5          800000        6            1          1            1   \n",
       "\n",
       "    logem  Profil_Score  \n",
       "0       1            28  \n",
       "1       2            65  \n",
       "2       3            78  \n",
       "3       0            49  \n",
       "4       2            85  \n",
       "5       3            62  \n",
       "6       2            91  \n",
       "7       0            33  \n",
       "8       1            72  \n",
       "9       2            38  \n",
       "10      3            70  \n",
       "11      0            82  \n",
       "12      2            55  \n",
       "13      1            60  \n",
       "14      3            41  \n",
       "15      1            78  \n",
       "16      0            44  \n",
       "17      3            80  \n",
       "18      2            39  \n",
       "19      2            95  "
      ]
     },
     "execution_count": 155,
     "metadata": {},
     "output_type": "execute_result"
    }
   ],
   "source": [
    "# Test intérieur du modèle extrait\n",
    "datas = pd.DataFrame([\n",
    "    {'mstat':0, 'rev_total_mois':0,        'age_grp':0, 'empl_formel':0, 'bancarise':0, 'a_assurance':0, 'logem':1, 'Profil_Score':28},\n",
    "    {'mstat':1, 'rev_total_mois':50000,    'age_grp':1, 'empl_formel':1, 'bancarise':1, 'a_assurance':1, 'logem':2, 'Profil_Score':65},\n",
    "    {'mstat':2, 'rev_total_mois':120000,   'age_grp':2, 'empl_formel':0, 'bancarise':1, 'a_assurance':0, 'logem':3, 'Profil_Score':78},\n",
    "    {'mstat':3, 'rev_total_mois':250000,   'age_grp':3, 'empl_formel':1, 'bancarise':0, 'a_assurance':1, 'logem':0, 'Profil_Score':49},\n",
    "    {'mstat':4, 'rev_total_mois':400000,   'age_grp':4, 'empl_formel':0, 'bancarise':1, 'a_assurance':1, 'logem':2, 'Profil_Score':85},\n",
    "    {'mstat':5, 'rev_total_mois':30000,    'age_grp':5, 'empl_formel':1, 'bancarise':0, 'a_assurance':1, 'logem':3, 'Profil_Score':62},\n",
    "    {'mstat':2, 'rev_total_mois':900000,   'age_grp':6, 'empl_formel':0, 'bancarise':1, 'a_assurance':0, 'logem':2, 'Profil_Score':91},\n",
    "    {'mstat':0, 'rev_total_mois':150000,   'age_grp':1, 'empl_formel':0, 'bancarise':0, 'a_assurance':0, 'logem':0, 'Profil_Score':33},\n",
    "    {'mstat':4, 'rev_total_mois':80000,    'age_grp':5, 'empl_formel':1, 'bancarise':1, 'a_assurance':1, 'logem':1, 'Profil_Score':72},\n",
    "    {'mstat':1, 'rev_total_mois':1000000,  'age_grp':0, 'empl_formel':0, 'bancarise':0, 'a_assurance':0, 'logem':2, 'Profil_Score':38},\n",
    "    {'mstat':5, 'rev_total_mois':290000,   'age_grp':3, 'empl_formel':1, 'bancarise':1, 'a_assurance':0, 'logem':3, 'Profil_Score':70},\n",
    "    {'mstat':1, 'rev_total_mois':750000,   'age_grp':4, 'empl_formel':1, 'bancarise':1, 'a_assurance':1, 'logem':0, 'Profil_Score':82},\n",
    "    {'mstat':2, 'rev_total_mois':330000,   'age_grp':2, 'empl_formel':0, 'bancarise':0, 'a_assurance':1, 'logem':2, 'Profil_Score':55},\n",
    "    {'mstat':0, 'rev_total_mois':200000,   'age_grp':1, 'empl_formel':1, 'bancarise':0, 'a_assurance':1, 'logem':1, 'Profil_Score':60},\n",
    "    {'mstat':5, 'rev_total_mois':50000,    'age_grp':6, 'empl_formel':1, 'bancarise':0, 'a_assurance':0, 'logem':3, 'Profil_Score':41},\n",
    "    {'mstat':4, 'rev_total_mois':870000,   'age_grp':0, 'empl_formel':0, 'bancarise':1, 'a_assurance':1, 'logem':1, 'Profil_Score':78},\n",
    "    {'mstat':3, 'rev_total_mois':20000,    'age_grp':1, 'empl_formel':1, 'bancarise':1, 'a_assurance':0, 'logem':0, 'Profil_Score':44},\n",
    "    {'mstat':2, 'rev_total_mois':450000,   'age_grp':3, 'empl_formel':0, 'bancarise':1, 'a_assurance':1, 'logem':3, 'Profil_Score':80},\n",
    "    {'mstat':0, 'rev_total_mois':35000,    'age_grp':5, 'empl_formel':1, 'bancarise':0, 'a_assurance':0, 'logem':2, 'Profil_Score':39},\n",
    "    {'mstat':5, 'rev_total_mois':800000,   'age_grp':6, 'empl_formel':1, 'bancarise':1, 'a_assurance':1, 'logem':2, 'Profil_Score':95}\n",
    "])\n",
    "datas"
   ]
  },
  {
   "cell_type": "code",
   "execution_count": 156,
   "id": "23aed2ce-c8f5-4622-90e8-bdabd053200a",
   "metadata": {
    "collapsed": true,
    "jupyter": {
     "outputs_hidden": true
    }
   },
   "outputs": [
    {
     "data": {
      "text/plain": [
       "0     28\n",
       "1     65\n",
       "2     78\n",
       "3     49\n",
       "4     85\n",
       "5     62\n",
       "6     91\n",
       "7     33\n",
       "8     72\n",
       "9     38\n",
       "10    70\n",
       "11    82\n",
       "12    55\n",
       "13    60\n",
       "14    41\n",
       "15    78\n",
       "16    44\n",
       "17    80\n",
       "18    39\n",
       "19    95\n",
       "Name: Profil_Score, dtype: int64"
      ]
     },
     "execution_count": 156,
     "metadata": {},
     "output_type": "execute_result"
    }
   ],
   "source": [
    "datas_p = datas.drop(columns=['Profil_Score'])\n",
    "y_datas = datas['Profil_Score']\n",
    "y_datas"
   ]
  },
  {
   "cell_type": "code",
   "execution_count": 157,
   "id": "bc5018be-1cc6-43a9-a2f4-a3315f239f47",
   "metadata": {
    "collapsed": true,
    "jupyter": {
     "outputs_hidden": true
    }
   },
   "outputs": [
    {
     "data": {
      "text/html": [
       "<div>\n",
       "<style scoped>\n",
       "    .dataframe tbody tr th:only-of-type {\n",
       "        vertical-align: middle;\n",
       "    }\n",
       "\n",
       "    .dataframe tbody tr th {\n",
       "        vertical-align: top;\n",
       "    }\n",
       "\n",
       "    .dataframe thead th {\n",
       "        text-align: right;\n",
       "    }\n",
       "</style>\n",
       "<table border=\"1\" class=\"dataframe\">\n",
       "  <thead>\n",
       "    <tr style=\"text-align: right;\">\n",
       "      <th></th>\n",
       "      <th>mstat</th>\n",
       "      <th>rev_total_mois</th>\n",
       "      <th>age_grp</th>\n",
       "      <th>empl_formel</th>\n",
       "      <th>bancarise</th>\n",
       "      <th>a_assurance</th>\n",
       "      <th>logem</th>\n",
       "    </tr>\n",
       "  </thead>\n",
       "  <tbody>\n",
       "    <tr>\n",
       "      <th>0</th>\n",
       "      <td>0</td>\n",
       "      <td>0</td>\n",
       "      <td>0</td>\n",
       "      <td>0</td>\n",
       "      <td>0</td>\n",
       "      <td>0</td>\n",
       "      <td>1</td>\n",
       "    </tr>\n",
       "    <tr>\n",
       "      <th>1</th>\n",
       "      <td>1</td>\n",
       "      <td>50000</td>\n",
       "      <td>1</td>\n",
       "      <td>1</td>\n",
       "      <td>1</td>\n",
       "      <td>1</td>\n",
       "      <td>2</td>\n",
       "    </tr>\n",
       "    <tr>\n",
       "      <th>2</th>\n",
       "      <td>2</td>\n",
       "      <td>120000</td>\n",
       "      <td>2</td>\n",
       "      <td>0</td>\n",
       "      <td>1</td>\n",
       "      <td>0</td>\n",
       "      <td>3</td>\n",
       "    </tr>\n",
       "    <tr>\n",
       "      <th>3</th>\n",
       "      <td>3</td>\n",
       "      <td>250000</td>\n",
       "      <td>3</td>\n",
       "      <td>1</td>\n",
       "      <td>0</td>\n",
       "      <td>1</td>\n",
       "      <td>0</td>\n",
       "    </tr>\n",
       "    <tr>\n",
       "      <th>4</th>\n",
       "      <td>4</td>\n",
       "      <td>400000</td>\n",
       "      <td>4</td>\n",
       "      <td>0</td>\n",
       "      <td>1</td>\n",
       "      <td>1</td>\n",
       "      <td>2</td>\n",
       "    </tr>\n",
       "    <tr>\n",
       "      <th>5</th>\n",
       "      <td>5</td>\n",
       "      <td>30000</td>\n",
       "      <td>5</td>\n",
       "      <td>1</td>\n",
       "      <td>0</td>\n",
       "      <td>1</td>\n",
       "      <td>3</td>\n",
       "    </tr>\n",
       "    <tr>\n",
       "      <th>6</th>\n",
       "      <td>2</td>\n",
       "      <td>900000</td>\n",
       "      <td>6</td>\n",
       "      <td>0</td>\n",
       "      <td>1</td>\n",
       "      <td>0</td>\n",
       "      <td>2</td>\n",
       "    </tr>\n",
       "    <tr>\n",
       "      <th>7</th>\n",
       "      <td>0</td>\n",
       "      <td>150000</td>\n",
       "      <td>1</td>\n",
       "      <td>0</td>\n",
       "      <td>0</td>\n",
       "      <td>0</td>\n",
       "      <td>0</td>\n",
       "    </tr>\n",
       "    <tr>\n",
       "      <th>8</th>\n",
       "      <td>4</td>\n",
       "      <td>80000</td>\n",
       "      <td>5</td>\n",
       "      <td>1</td>\n",
       "      <td>1</td>\n",
       "      <td>1</td>\n",
       "      <td>1</td>\n",
       "    </tr>\n",
       "    <tr>\n",
       "      <th>9</th>\n",
       "      <td>1</td>\n",
       "      <td>1000000</td>\n",
       "      <td>0</td>\n",
       "      <td>0</td>\n",
       "      <td>0</td>\n",
       "      <td>0</td>\n",
       "      <td>2</td>\n",
       "    </tr>\n",
       "    <tr>\n",
       "      <th>10</th>\n",
       "      <td>5</td>\n",
       "      <td>290000</td>\n",
       "      <td>3</td>\n",
       "      <td>1</td>\n",
       "      <td>1</td>\n",
       "      <td>0</td>\n",
       "      <td>3</td>\n",
       "    </tr>\n",
       "    <tr>\n",
       "      <th>11</th>\n",
       "      <td>1</td>\n",
       "      <td>750000</td>\n",
       "      <td>4</td>\n",
       "      <td>1</td>\n",
       "      <td>1</td>\n",
       "      <td>1</td>\n",
       "      <td>0</td>\n",
       "    </tr>\n",
       "    <tr>\n",
       "      <th>12</th>\n",
       "      <td>2</td>\n",
       "      <td>330000</td>\n",
       "      <td>2</td>\n",
       "      <td>0</td>\n",
       "      <td>0</td>\n",
       "      <td>1</td>\n",
       "      <td>2</td>\n",
       "    </tr>\n",
       "    <tr>\n",
       "      <th>13</th>\n",
       "      <td>0</td>\n",
       "      <td>200000</td>\n",
       "      <td>1</td>\n",
       "      <td>1</td>\n",
       "      <td>0</td>\n",
       "      <td>1</td>\n",
       "      <td>1</td>\n",
       "    </tr>\n",
       "    <tr>\n",
       "      <th>14</th>\n",
       "      <td>5</td>\n",
       "      <td>50000</td>\n",
       "      <td>6</td>\n",
       "      <td>1</td>\n",
       "      <td>0</td>\n",
       "      <td>0</td>\n",
       "      <td>3</td>\n",
       "    </tr>\n",
       "    <tr>\n",
       "      <th>15</th>\n",
       "      <td>4</td>\n",
       "      <td>870000</td>\n",
       "      <td>0</td>\n",
       "      <td>0</td>\n",
       "      <td>1</td>\n",
       "      <td>1</td>\n",
       "      <td>1</td>\n",
       "    </tr>\n",
       "    <tr>\n",
       "      <th>16</th>\n",
       "      <td>3</td>\n",
       "      <td>20000</td>\n",
       "      <td>1</td>\n",
       "      <td>1</td>\n",
       "      <td>1</td>\n",
       "      <td>0</td>\n",
       "      <td>0</td>\n",
       "    </tr>\n",
       "    <tr>\n",
       "      <th>17</th>\n",
       "      <td>2</td>\n",
       "      <td>450000</td>\n",
       "      <td>3</td>\n",
       "      <td>0</td>\n",
       "      <td>1</td>\n",
       "      <td>1</td>\n",
       "      <td>3</td>\n",
       "    </tr>\n",
       "    <tr>\n",
       "      <th>18</th>\n",
       "      <td>0</td>\n",
       "      <td>35000</td>\n",
       "      <td>5</td>\n",
       "      <td>1</td>\n",
       "      <td>0</td>\n",
       "      <td>0</td>\n",
       "      <td>2</td>\n",
       "    </tr>\n",
       "    <tr>\n",
       "      <th>19</th>\n",
       "      <td>5</td>\n",
       "      <td>800000</td>\n",
       "      <td>6</td>\n",
       "      <td>1</td>\n",
       "      <td>1</td>\n",
       "      <td>1</td>\n",
       "      <td>2</td>\n",
       "    </tr>\n",
       "  </tbody>\n",
       "</table>\n",
       "</div>"
      ],
      "text/plain": [
       "    mstat  rev_total_mois  age_grp  empl_formel  bancarise  a_assurance  logem\n",
       "0       0               0        0            0          0            0      1\n",
       "1       1           50000        1            1          1            1      2\n",
       "2       2          120000        2            0          1            0      3\n",
       "3       3          250000        3            1          0            1      0\n",
       "4       4          400000        4            0          1            1      2\n",
       "5       5           30000        5            1          0            1      3\n",
       "6       2          900000        6            0          1            0      2\n",
       "7       0          150000        1            0          0            0      0\n",
       "8       4           80000        5            1          1            1      1\n",
       "9       1         1000000        0            0          0            0      2\n",
       "10      5          290000        3            1          1            0      3\n",
       "11      1          750000        4            1          1            1      0\n",
       "12      2          330000        2            0          0            1      2\n",
       "13      0          200000        1            1          0            1      1\n",
       "14      5           50000        6            1          0            0      3\n",
       "15      4          870000        0            0          1            1      1\n",
       "16      3           20000        1            1          1            0      0\n",
       "17      2          450000        3            0          1            1      3\n",
       "18      0           35000        5            1          0            0      2\n",
       "19      5          800000        6            1          1            1      2"
      ]
     },
     "execution_count": 157,
     "metadata": {},
     "output_type": "execute_result"
    }
   ],
   "source": [
    "datas_p"
   ]
  },
  {
   "cell_type": "code",
   "execution_count": 158,
   "id": "8b8c5b0f-c135-4d74-99d3-f922c3f8664b",
   "metadata": {
    "collapsed": true,
    "jupyter": {
     "outputs_hidden": true
    }
   },
   "outputs": [
    {
     "data": {
      "text/plain": [
       "array([[-1.35953848, -1.0252934 , -1.40013319, -1.1055416 , -1.1055416 ,\n",
       "        -1.1055416 , -0.61214609],\n",
       "       [-0.80462482, -0.87395858, -0.91732864,  0.90453403,  0.90453403,\n",
       "         0.90453403,  0.32961713],\n",
       "       [-0.24971115, -0.66208983, -0.43452409, -1.1055416 ,  0.90453403,\n",
       "        -1.1055416 ,  1.27138035],\n",
       "       [ 0.30520252, -0.2686193 ,  0.04828045,  0.90453403, -1.1055416 ,\n",
       "         0.90453403, -1.55390931],\n",
       "       [ 0.86011618,  0.18538515,  0.531085  , -1.1055416 ,  0.90453403,\n",
       "         0.90453403,  0.32961713],\n",
       "       [ 1.41502985, -0.93449251,  1.01388955,  0.90453403, -1.1055416 ,\n",
       "         0.90453403,  1.27138035],\n",
       "       [-0.24971115,  1.69873335,  1.4966941 , -1.1055416 ,  0.90453403,\n",
       "        -1.1055416 ,  0.32961713],\n",
       "       [-1.35953848, -0.57128894, -0.91732864, -1.1055416 , -1.1055416 ,\n",
       "        -1.1055416 , -1.55390931],\n",
       "       [ 0.86011618, -0.78315769,  1.01388955,  0.90453403,  0.90453403,\n",
       "         0.90453403, -0.61214609],\n",
       "       [-0.80462482,  2.00140299, -1.40013319, -1.1055416 , -1.1055416 ,\n",
       "        -1.1055416 ,  0.32961713],\n",
       "       [ 1.41502985, -0.14755145,  0.04828045,  0.90453403,  0.90453403,\n",
       "        -1.1055416 ,  1.27138035],\n",
       "       [-0.80462482,  1.24472889,  0.531085  ,  0.90453403,  0.90453403,\n",
       "         0.90453403, -1.55390931],\n",
       "       [-0.24971115, -0.02648359, -0.43452409, -1.1055416 , -1.1055416 ,\n",
       "         0.90453403,  0.32961713],\n",
       "       [-1.35953848, -0.41995412, -0.91732864,  0.90453403, -1.1055416 ,\n",
       "         0.90453403, -0.61214609],\n",
       "       [ 1.41502985, -0.87395858,  1.4966941 ,  0.90453403, -1.1055416 ,\n",
       "        -1.1055416 ,  1.27138035],\n",
       "       [ 0.86011618,  1.60793245, -1.40013319, -1.1055416 ,  0.90453403,\n",
       "         0.90453403, -0.61214609],\n",
       "       [ 0.30520252, -0.96475947, -0.91732864,  0.90453403,  0.90453403,\n",
       "        -1.1055416 , -1.55390931],\n",
       "       [-0.24971115,  0.33671997,  0.04828045, -1.1055416 ,  0.90453403,\n",
       "         0.90453403,  1.27138035],\n",
       "       [-1.35953848, -0.91935903,  1.01388955,  0.90453403, -1.1055416 ,\n",
       "        -1.1055416 ,  0.32961713],\n",
       "       [ 1.41502985,  1.39606371,  1.4966941 ,  0.90453403,  0.90453403,\n",
       "         0.90453403,  0.32961713]])"
      ]
     },
     "execution_count": 158,
     "metadata": {},
     "output_type": "execute_result"
    }
   ],
   "source": [
    "scalers = StandardScaler()\n",
    "X_scal = scalers.fit_transform(datas_p)\n",
    "X_scal"
   ]
  },
  {
   "cell_type": "code",
   "execution_count": 159,
   "id": "dae1932a-4d5f-435f-8278-884961f27ead",
   "metadata": {},
   "outputs": [
    {
     "data": {
      "text/plain": [
       "array([30. , 47. , 52. , 27. , 66. , 50. , 62. , 20. , 59. , 45. , 54. ,\n",
       "       39. , 45. , 30. , 50. , 59. , 27. , 54. , 50. , 69.5])"
      ]
     },
     "execution_count": 159,
     "metadata": {},
     "output_type": "execute_result"
    }
   ],
   "source": [
    "pred = model_load.predict(X_scal)\n",
    "pred"
   ]
  },
  {
   "cell_type": "code",
   "execution_count": 160,
   "id": "ce5ea052-9e1f-4b9a-ab36-e5d3b3f1bca1",
   "metadata": {
    "collapsed": true,
    "jupyter": {
     "outputs_hidden": true
    }
   },
   "outputs": [
    {
     "name": "stdout",
     "output_type": "stream",
     "text": [
      "Valeurs prédites : [45.    96.82  95.77  47.    59.53  47.    95.77  55.    59.53  61.975\n",
      " 59.53  95.77  57.965 55.    47.    59.24  59.12  95.77  51.615 59.53 ]\n",
      "Valeurs réelles   : [28 65 78 49 85 62 91 33 72 38 70 82 55 60 41 78 44 80 39 95]\n",
      "Ligne 0: Prédiction=45.00 -- Vrai=28\n",
      "Ligne 1: Prédiction=96.82 -- Vrai=65\n",
      "Ligne 2: Prédiction=95.77 -- Vrai=78\n",
      "Ligne 3: Prédiction=47.00 -- Vrai=49\n",
      "Ligne 4: Prédiction=59.53 -- Vrai=85\n",
      "Ligne 5: Prédiction=47.00 -- Vrai=62\n",
      "Ligne 6: Prédiction=95.77 -- Vrai=91\n",
      "Ligne 7: Prédiction=55.00 -- Vrai=33\n",
      "Ligne 8: Prédiction=59.53 -- Vrai=72\n",
      "Ligne 9: Prédiction=61.98 -- Vrai=38\n",
      "Ligne 10: Prédiction=59.53 -- Vrai=70\n",
      "Ligne 11: Prédiction=95.77 -- Vrai=82\n",
      "Ligne 12: Prédiction=57.97 -- Vrai=55\n",
      "Ligne 13: Prédiction=55.00 -- Vrai=60\n",
      "Ligne 14: Prédiction=47.00 -- Vrai=41\n",
      "Ligne 15: Prédiction=59.24 -- Vrai=78\n",
      "Ligne 16: Prédiction=59.12 -- Vrai=44\n",
      "Ligne 17: Prédiction=95.77 -- Vrai=80\n",
      "Ligne 18: Prédiction=51.62 -- Vrai=39\n",
      "Ligne 19: Prédiction=59.53 -- Vrai=95\n"
     ]
    }
   ],
   "source": [
    "ypred = model_load.predict(datas.drop(\"Profil_Score\", axis=1))\n",
    "print(\"Valeurs prédites :\", ypred)\n",
    "print(\"Valeurs réelles   :\", datas[\"Profil_Score\"].values)\n",
    "\n",
    "# Vérification de l'alignement\n",
    "for i, (pre, vrai) in enumerate(zip(ypred, datas[\"Profil_Score\"].values)):\n",
    "    print(f\"Ligne {i}: Prédiction={pre:.2f} -- Vrai={vrai}\")"
   ]
  },
  {
   "cell_type": "code",
   "execution_count": 161,
   "id": "e1603d8f-4e45-4741-af4a-b0efa976fff7",
   "metadata": {},
   "outputs": [
    {
     "name": "stdout",
     "output_type": "stream",
     "text": [
      "RMSE sur test : 20.6207\n",
      "R2 sur test : -0.0689\n"
     ]
    }
   ],
   "source": [
    "rmse_T = np.sqrt(mean_squared_error(y_datas, pred))\n",
    "r2_T = r2_score(y_datas, pred)\n",
    "\n",
    "print(f\"RMSE sur test : {rmse_T:.4f}\")\n",
    "print(f\"R2 sur test : {r2_T:.4f}\")"
   ]
  },
  {
   "cell_type": "code",
   "execution_count": 162,
   "id": "9c209925-7743-428f-b3af-22a0d221bb9f",
   "metadata": {},
   "outputs": [
    {
     "name": "stdout",
     "output_type": "stream",
     "text": [
      "RMSE sur test : 17.8151\n",
      "R2 sur test : 0.2021\n"
     ]
    }
   ],
   "source": [
    "rmse_T = np.sqrt(mean_squared_error(y_datas, ypred))\n",
    "r2_T = r2_score(y_datas, ypred)\n",
    "\n",
    "print(f\"RMSE sur test : {rmse_T:.4f}\")\n",
    "print(f\"R2 sur test : {r2_T:.4f}\")"
   ]
  },
  {
   "cell_type": "markdown",
   "id": "a5c5722f-7193-424f-91ae-1ab14c8f7922",
   "metadata": {
    "jp-MarkdownHeadingCollapsed": true
   },
   "source": [
    "### **RESUME**"
   ]
  },
  {
   "cell_type": "markdown",
   "id": "6a1b2a66-2171-4ff5-96c8-da7ac684e282",
   "metadata": {},
   "source": [
    "Le modèle fait moins d'erreur avec les callibrages du meilleur hyper paramètre : \n",
    "    \n",
    "    Erreur quadratique RMSE = 30% et un score R2 = 99.95%. \n",
    "\n",
    "Les performances sont élévés donc -. Conclusion le modèle Random Forest Regressor est retenu pour la mise en production et la suite du scoring."
   ]
  },
  {
   "cell_type": "markdown",
   "id": "81af8c1a-2b4c-426d-9097-d747a1cd74ba",
   "metadata": {
    "jp-MarkdownHeadingCollapsed": true
   },
   "source": [
    "## **MODEL DEPLOYMENT: EXTRACTION**"
   ]
  },
  {
   "cell_type": "code",
   "execution_count": 31,
   "id": "4d4174ff-ec23-430f-b99e-2771125e2cb3",
   "metadata": {
    "collapsed": true,
    "jupyter": {
     "outputs_hidden": true
    }
   },
   "outputs": [
    {
     "data": {
      "text/plain": [
       "['ProductModel.joblib']"
      ]
     },
     "execution_count": 31,
     "metadata": {},
     "output_type": "execute_result"
    },
    {
     "name": "stdout",
     "output_type": "stream",
     "text": [
      "[CV] END max_depth=None, min_samples_leaf=1, min_samples_split=2, n_estimators=100; total time=  23.9s\n",
      "[CV] END max_depth=None, min_samples_leaf=1, min_samples_split=5, n_estimators=100; total time=  31.3s\n",
      "[CV] END max_depth=None, min_samples_leaf=1, min_samples_split=5, n_estimators=200; total time=  46.4s\n",
      "[CV] END max_depth=None, min_samples_leaf=2, min_samples_split=2, n_estimators=100; total time=  26.6s\n",
      "[CV] END max_depth=None, min_samples_leaf=2, min_samples_split=5, n_estimators=100; total time=  25.1s\n",
      "[CV] END max_depth=None, min_samples_leaf=2, min_samples_split=5, n_estimators=200; total time=  51.2s\n",
      "[CV] END max_depth=10, min_samples_leaf=1, min_samples_split=2, n_estimators=200; total time=  44.4s\n",
      "[CV] END max_depth=10, min_samples_leaf=1, min_samples_split=5, n_estimators=200; total time=  52.3s\n",
      "[CV] END max_depth=10, min_samples_leaf=2, min_samples_split=2, n_estimators=200; total time=  53.1s\n",
      "[CV] END max_depth=10, min_samples_leaf=2, min_samples_split=5, n_estimators=200; total time=  49.1s\n",
      "[CV] END max_depth=20, min_samples_leaf=1, min_samples_split=2, n_estimators=200; total time=  44.7s\n",
      "[CV] END max_depth=20, min_samples_leaf=1, min_samples_split=5, n_estimators=200; total time=  56.4s\n",
      "[CV] END max_depth=20, min_samples_leaf=2, min_samples_split=5, n_estimators=100; total time=  24.0s\n",
      "[CV] END max_depth=20, min_samples_leaf=2, min_samples_split=5, n_estimators=100; total time=  20.9s\n"
     ]
    },
    {
     "name": "stderr",
     "output_type": "stream",
     "text": [
      "Exception ignored in: <function ResourceTracker.__del__ at 0x76c3e3995c60>\n",
      "Traceback (most recent call last):\n",
      "  File \"/home/didi/anaconda3/lib/python3.13/multiprocessing/resource_tracker.py\", line 82, in __del__\n",
      "  File \"/home/didi/anaconda3/lib/python3.13/multiprocessing/resource_tracker.py\", line 91, in _stop\n",
      "  File \"/home/didi/anaconda3/lib/python3.13/multiprocessing/resource_tracker.py\", line 116, in _stop_locked\n",
      "ChildProcessError: [Errno 10] No child processes\n"
     ]
    },
    {
     "name": "stdout",
     "output_type": "stream",
     "text": [
      "[CV] END max_depth=None, min_samples_leaf=1, min_samples_split=2, n_estimators=100; total time=  31.6s\n",
      "[CV] END max_depth=None, min_samples_leaf=1, min_samples_split=5, n_estimators=100; total time=  27.3s\n",
      "[CV] END max_depth=None, min_samples_leaf=1, min_samples_split=5, n_estimators=200; total time= 1.0min\n",
      "[CV] END max_depth=None, min_samples_leaf=2, min_samples_split=2, n_estimators=200; total time=  42.3s\n",
      "[CV] END max_depth=None, min_samples_leaf=2, min_samples_split=5, n_estimators=200; total time=  51.2s\n",
      "[CV] END max_depth=10, min_samples_leaf=1, min_samples_split=2, n_estimators=200; total time=  45.8s\n",
      "[CV] END max_depth=10, min_samples_leaf=1, min_samples_split=5, n_estimators=200; total time=  52.3s\n",
      "[CV] END max_depth=10, min_samples_leaf=2, min_samples_split=2, n_estimators=200; total time=  47.1s\n",
      "[CV] END max_depth=10, min_samples_leaf=2, min_samples_split=5, n_estimators=200; total time=  53.8s\n",
      "[CV] END max_depth=20, min_samples_leaf=1, min_samples_split=2, n_estimators=200; total time=  50.0s\n",
      "[CV] END max_depth=20, min_samples_leaf=1, min_samples_split=5, n_estimators=200; total time=  45.6s\n",
      "[CV] END max_depth=20, min_samples_leaf=2, min_samples_split=2, n_estimators=200; total time=  49.1s\n"
     ]
    },
    {
     "name": "stderr",
     "output_type": "stream",
     "text": [
      "Exception ignored in: <function ResourceTracker.__del__ at 0x730331791c60>\n",
      "Traceback (most recent call last):\n",
      "  File \"/home/didi/anaconda3/lib/python3.13/multiprocessing/resource_tracker.py\", line 82, in __del__\n",
      "  File \"/home/didi/anaconda3/lib/python3.13/multiprocessing/resource_tracker.py\", line 91, in _stop\n",
      "  File \"/home/didi/anaconda3/lib/python3.13/multiprocessing/resource_tracker.py\", line 116, in _stop_locked\n",
      "ChildProcessError: [Errno 10] No child processes\n"
     ]
    },
    {
     "name": "stdout",
     "output_type": "stream",
     "text": [
      "[CV] END max_depth=None, min_samples_leaf=1, min_samples_split=2, n_estimators=100; total time=  20.1s\n",
      "[CV] END max_depth=None, min_samples_leaf=1, min_samples_split=2, n_estimators=200; total time= 1.1min\n",
      "[CV] END max_depth=None, min_samples_leaf=2, min_samples_split=2, n_estimators=100; total time=  26.9s\n",
      "[CV] END max_depth=None, min_samples_leaf=2, min_samples_split=2, n_estimators=100; total time=  24.0s\n",
      "[CV] END max_depth=None, min_samples_leaf=2, min_samples_split=5, n_estimators=100; total time=  18.9s\n",
      "[CV] END max_depth=None, min_samples_leaf=2, min_samples_split=5, n_estimators=100; total time=  21.0s\n",
      "[CV] END max_depth=10, min_samples_leaf=1, min_samples_split=2, n_estimators=100; total time=  33.4s\n",
      "[CV] END max_depth=10, min_samples_leaf=1, min_samples_split=2, n_estimators=200; total time=  51.7s\n",
      "[CV] END max_depth=10, min_samples_leaf=1, min_samples_split=5, n_estimators=200; total time= 1.1min\n",
      "[CV] END max_depth=10, min_samples_leaf=2, min_samples_split=5, n_estimators=100; total time=  33.7s\n",
      "[CV] END max_depth=20, min_samples_leaf=1, min_samples_split=2, n_estimators=100; total time=  26.7s\n",
      "[CV] END max_depth=20, min_samples_leaf=1, min_samples_split=2, n_estimators=100; total time=  25.4s\n",
      "[CV] END max_depth=20, min_samples_leaf=1, min_samples_split=5, n_estimators=100; total time=  25.4s\n",
      "[CV] END max_depth=20, min_samples_leaf=1, min_samples_split=5, n_estimators=200; total time=  50.8s\n",
      "[CV] END max_depth=20, min_samples_leaf=2, min_samples_split=2, n_estimators=200; total time=  42.1s\n",
      "[CV] END max_depth=20, min_samples_leaf=2, min_samples_split=5, n_estimators=100; total time=  23.9s\n"
     ]
    },
    {
     "name": "stderr",
     "output_type": "stream",
     "text": [
      "Exception ignored in: <function ResourceTracker.__del__ at 0x76da62d91c60>\n",
      "Traceback (most recent call last):\n",
      "  File \"/home/didi/anaconda3/lib/python3.13/multiprocessing/resource_tracker.py\", line 82, in __del__\n",
      "  File \"/home/didi/anaconda3/lib/python3.13/multiprocessing/resource_tracker.py\", line 91, in _stop\n",
      "  File \"/home/didi/anaconda3/lib/python3.13/multiprocessing/resource_tracker.py\", line 116, in _stop_locked\n",
      "ChildProcessError: [Errno 10] No child processes\n"
     ]
    },
    {
     "name": "stdout",
     "output_type": "stream",
     "text": [
      "[CV] END max_depth=None, min_samples_leaf=1, min_samples_split=2, n_estimators=100; total time=  28.9s\n",
      "[CV] END max_depth=None, min_samples_leaf=1, min_samples_split=2, n_estimators=200; total time=  58.2s\n",
      "[CV] END max_depth=None, min_samples_leaf=1, min_samples_split=5, n_estimators=200; total time=  43.7s\n",
      "[CV] END max_depth=None, min_samples_leaf=2, min_samples_split=2, n_estimators=200; total time=  50.3s\n",
      "[CV] END max_depth=10, min_samples_leaf=1, min_samples_split=2, n_estimators=100; total time=  32.3s\n",
      "[CV] END max_depth=10, min_samples_leaf=1, min_samples_split=2, n_estimators=200; total time=  44.5s\n",
      "[CV] END max_depth=10, min_samples_leaf=1, min_samples_split=5, n_estimators=200; total time=  45.6s\n",
      "[CV] END max_depth=10, min_samples_leaf=2, min_samples_split=2, n_estimators=200; total time=  55.3s\n",
      "[CV] END max_depth=10, min_samples_leaf=2, min_samples_split=5, n_estimators=200; total time=  57.7s\n",
      "[CV] END max_depth=20, min_samples_leaf=1, min_samples_split=2, n_estimators=200; total time=  50.2s\n",
      "[CV] END max_depth=20, min_samples_leaf=2, min_samples_split=2, n_estimators=100; total time=  25.9s\n",
      "[CV] END max_depth=20, min_samples_leaf=2, min_samples_split=2, n_estimators=200; total time=  49.5s\n",
      "[CV] END max_depth=20, min_samples_leaf=2, min_samples_split=5, n_estimators=200; total time=  34.2s\n"
     ]
    },
    {
     "name": "stderr",
     "output_type": "stream",
     "text": [
      "Exception ignored in: <function ResourceTracker.__del__ at 0x7148c7391c60>\n",
      "Traceback (most recent call last):\n",
      "  File \"/home/didi/anaconda3/lib/python3.13/multiprocessing/resource_tracker.py\", line 82, in __del__\n",
      "  File \"/home/didi/anaconda3/lib/python3.13/multiprocessing/resource_tracker.py\", line 91, in _stop\n",
      "  File \"/home/didi/anaconda3/lib/python3.13/multiprocessing/resource_tracker.py\", line 116, in _stop_locked\n",
      "ChildProcessError: [Errno 10] No child processes\n"
     ]
    },
    {
     "name": "stdout",
     "output_type": "stream",
     "text": [
      "[CV] END max_depth=None, min_samples_leaf=1, min_samples_split=2, n_estimators=200; total time=  59.6s\n",
      "[CV] END max_depth=None, min_samples_leaf=1, min_samples_split=5, n_estimators=200; total time=  57.2s\n",
      "[CV] END max_depth=None, min_samples_leaf=2, min_samples_split=2, n_estimators=200; total time=  46.2s\n",
      "[CV] END max_depth=None, min_samples_leaf=2, min_samples_split=5, n_estimators=200; total time=  38.8s\n",
      "[CV] END max_depth=10, min_samples_leaf=1, min_samples_split=2, n_estimators=100; total time=  22.7s\n",
      "[CV] END max_depth=10, min_samples_leaf=1, min_samples_split=5, n_estimators=100; total time=  18.9s\n",
      "[CV] END max_depth=10, min_samples_leaf=1, min_samples_split=5, n_estimators=100; total time=  23.5s\n",
      "[CV] END max_depth=10, min_samples_leaf=2, min_samples_split=2, n_estimators=100; total time=  28.6s\n",
      "[CV] END max_depth=10, min_samples_leaf=2, min_samples_split=2, n_estimators=100; total time=  26.5s\n",
      "[CV] END max_depth=10, min_samples_leaf=2, min_samples_split=5, n_estimators=100; total time=  22.8s\n",
      "[CV] END max_depth=10, min_samples_leaf=2, min_samples_split=5, n_estimators=100; total time=  22.5s\n",
      "[CV] END max_depth=20, min_samples_leaf=1, min_samples_split=2, n_estimators=100; total time=  22.3s\n",
      "[CV] END max_depth=20, min_samples_leaf=1, min_samples_split=2, n_estimators=100; total time=  28.8s\n",
      "[CV] END max_depth=20, min_samples_leaf=1, min_samples_split=5, n_estimators=100; total time=  22.9s\n",
      "[CV] END max_depth=20, min_samples_leaf=1, min_samples_split=5, n_estimators=200; total time=  43.3s\n",
      "[CV] END max_depth=20, min_samples_leaf=2, min_samples_split=2, n_estimators=100; total time=  26.6s\n",
      "[CV] END max_depth=20, min_samples_leaf=2, min_samples_split=5, n_estimators=100; total time=  24.5s\n",
      "[CV] END max_depth=20, min_samples_leaf=2, min_samples_split=5, n_estimators=200; total time=  35.0s\n"
     ]
    },
    {
     "name": "stderr",
     "output_type": "stream",
     "text": [
      "Exception ignored in: <function ResourceTracker.__del__ at 0x7a241d789c60>\n",
      "Traceback (most recent call last):\n",
      "  File \"/home/didi/anaconda3/lib/python3.13/multiprocessing/resource_tracker.py\", line 82, in __del__\n",
      "  File \"/home/didi/anaconda3/lib/python3.13/multiprocessing/resource_tracker.py\", line 91, in _stop\n",
      "  File \"/home/didi/anaconda3/lib/python3.13/multiprocessing/resource_tracker.py\", line 116, in _stop_locked\n",
      "ChildProcessError: [Errno 10] No child processes\n"
     ]
    },
    {
     "name": "stdout",
     "output_type": "stream",
     "text": [
      "[CV] END max_depth=None, min_samples_leaf=1, min_samples_split=2, n_estimators=200; total time= 1.0min\n",
      "[CV] END max_depth=None, min_samples_leaf=1, min_samples_split=5, n_estimators=200; total time=  57.4s\n",
      "[CV] END max_depth=None, min_samples_leaf=2, min_samples_split=2, n_estimators=200; total time=  47.7s\n",
      "[CV] END max_depth=None, min_samples_leaf=2, min_samples_split=5, n_estimators=200; total time=  54.3s\n",
      "[CV] END max_depth=10, min_samples_leaf=1, min_samples_split=2, n_estimators=200; total time=  55.5s\n",
      "[CV] END max_depth=10, min_samples_leaf=2, min_samples_split=2, n_estimators=100; total time=  25.9s\n",
      "[CV] END max_depth=10, min_samples_leaf=2, min_samples_split=2, n_estimators=200; total time=  56.2s\n",
      "[CV] END max_depth=10, min_samples_leaf=2, min_samples_split=5, n_estimators=200; total time=  56.2s\n",
      "[CV] END max_depth=20, min_samples_leaf=1, min_samples_split=5, n_estimators=100; total time=  24.4s\n",
      "[CV] END max_depth=20, min_samples_leaf=1, min_samples_split=5, n_estimators=100; total time=  26.2s\n",
      "[CV] END max_depth=20, min_samples_leaf=2, min_samples_split=2, n_estimators=100; total time=  23.9s\n",
      "[CV] END max_depth=20, min_samples_leaf=2, min_samples_split=2, n_estimators=200; total time=  55.6s\n",
      "[CV] END max_depth=20, min_samples_leaf=2, min_samples_split=5, n_estimators=200; total time=  31.5s\n"
     ]
    },
    {
     "name": "stderr",
     "output_type": "stream",
     "text": [
      "Exception ignored in: <function ResourceTracker.__del__ at 0x79704c591c60>\n",
      "Traceback (most recent call last):\n",
      "  File \"/home/didi/anaconda3/lib/python3.13/multiprocessing/resource_tracker.py\", line 82, in __del__\n",
      "  File \"/home/didi/anaconda3/lib/python3.13/multiprocessing/resource_tracker.py\", line 91, in _stop\n",
      "  File \"/home/didi/anaconda3/lib/python3.13/multiprocessing/resource_tracker.py\", line 116, in _stop_locked\n",
      "ChildProcessError: [Errno 10] No child processes\n"
     ]
    },
    {
     "name": "stdout",
     "output_type": "stream",
     "text": [
      "[CV] END max_depth=None, min_samples_leaf=1, min_samples_split=2, n_estimators=100; total time=  24.9s\n",
      "[CV] END max_depth=None, min_samples_leaf=1, min_samples_split=5, n_estimators=100; total time=  24.2s\n",
      "[CV] END max_depth=None, min_samples_leaf=1, min_samples_split=5, n_estimators=100; total time=  30.6s\n",
      "[CV] END max_depth=None, min_samples_leaf=2, min_samples_split=2, n_estimators=100; total time=  32.3s\n",
      "[CV] END max_depth=None, min_samples_leaf=2, min_samples_split=2, n_estimators=200; total time=  50.7s\n",
      "[CV] END max_depth=None, min_samples_leaf=2, min_samples_split=5, n_estimators=200; total time=  57.5s\n",
      "[CV] END max_depth=10, min_samples_leaf=1, min_samples_split=5, n_estimators=100; total time=  21.7s\n",
      "[CV] END max_depth=10, min_samples_leaf=1, min_samples_split=5, n_estimators=100; total time=  25.1s\n",
      "[CV] END max_depth=10, min_samples_leaf=2, min_samples_split=2, n_estimators=100; total time=  27.9s\n",
      "[CV] END max_depth=10, min_samples_leaf=2, min_samples_split=2, n_estimators=100; total time=  24.5s\n",
      "[CV] END max_depth=10, min_samples_leaf=2, min_samples_split=5, n_estimators=100; total time=  25.0s\n",
      "[CV] END max_depth=10, min_samples_leaf=2, min_samples_split=5, n_estimators=100; total time=  24.9s\n",
      "[CV] END max_depth=20, min_samples_leaf=1, min_samples_split=2, n_estimators=100; total time=  23.4s\n",
      "[CV] END max_depth=20, min_samples_leaf=1, min_samples_split=2, n_estimators=200; total time=  42.8s\n",
      "[CV] END max_depth=20, min_samples_leaf=1, min_samples_split=5, n_estimators=100; total time=  19.5s\n",
      "[CV] END max_depth=20, min_samples_leaf=1, min_samples_split=5, n_estimators=200; total time=  46.9s\n",
      "[CV] END max_depth=20, min_samples_leaf=2, min_samples_split=2, n_estimators=200; total time=  45.6s\n",
      "[CV] END max_depth=20, min_samples_leaf=2, min_samples_split=5, n_estimators=200; total time=  26.6s\n"
     ]
    },
    {
     "name": "stderr",
     "output_type": "stream",
     "text": [
      "Exception ignored in: <function ResourceTracker.__del__ at 0x7b7629b8dc60>\n",
      "Traceback (most recent call last):\n",
      "  File \"/home/didi/anaconda3/lib/python3.13/multiprocessing/resource_tracker.py\", line 82, in __del__\n",
      "  File \"/home/didi/anaconda3/lib/python3.13/multiprocessing/resource_tracker.py\", line 91, in _stop\n",
      "  File \"/home/didi/anaconda3/lib/python3.13/multiprocessing/resource_tracker.py\", line 116, in _stop_locked\n",
      "ChildProcessError: [Errno 10] No child processes\n"
     ]
    },
    {
     "name": "stdout",
     "output_type": "stream",
     "text": [
      "[CV] END max_depth=None, min_samples_leaf=1, min_samples_split=2, n_estimators=200; total time=  54.8s\n",
      "[CV] END max_depth=None, min_samples_leaf=1, min_samples_split=5, n_estimators=100; total time=  42.0s\n",
      "[CV] END max_depth=None, min_samples_leaf=2, min_samples_split=2, n_estimators=100; total time=  31.2s\n",
      "[CV] END max_depth=None, min_samples_leaf=2, min_samples_split=5, n_estimators=100; total time=  22.1s\n",
      "[CV] END max_depth=None, min_samples_leaf=2, min_samples_split=5, n_estimators=100; total time=  21.4s\n",
      "[CV] END max_depth=10, min_samples_leaf=1, min_samples_split=2, n_estimators=100; total time=  25.6s\n",
      "[CV] END max_depth=10, min_samples_leaf=1, min_samples_split=2, n_estimators=100; total time=  25.6s\n",
      "[CV] END max_depth=10, min_samples_leaf=1, min_samples_split=5, n_estimators=100; total time=  24.3s\n",
      "[CV] END max_depth=10, min_samples_leaf=1, min_samples_split=5, n_estimators=200; total time=  51.9s\n",
      "[CV] END max_depth=10, min_samples_leaf=2, min_samples_split=2, n_estimators=200; total time=  51.8s\n",
      "[CV] END max_depth=10, min_samples_leaf=2, min_samples_split=5, n_estimators=200; total time=  53.5s\n",
      "[CV] END max_depth=20, min_samples_leaf=1, min_samples_split=2, n_estimators=200; total time=  56.7s\n",
      "[CV] END max_depth=20, min_samples_leaf=2, min_samples_split=2, n_estimators=100; total time=  24.5s\n",
      "[CV] END max_depth=20, min_samples_leaf=2, min_samples_split=2, n_estimators=100; total time=  32.9s\n",
      "[CV] END max_depth=20, min_samples_leaf=2, min_samples_split=5, n_estimators=100; total time=  29.7s\n",
      "[CV] END max_depth=20, min_samples_leaf=2, min_samples_split=5, n_estimators=200; total time=  28.5s\n"
     ]
    },
    {
     "name": "stderr",
     "output_type": "stream",
     "text": [
      "Exception ignored in: <function ResourceTracker.__del__ at 0x709b0b791c60>\n",
      "Traceback (most recent call last):\n",
      "  File \"/home/didi/anaconda3/lib/python3.13/multiprocessing/resource_tracker.py\", line 82, in __del__\n",
      "  File \"/home/didi/anaconda3/lib/python3.13/multiprocessing/resource_tracker.py\", line 91, in _stop\n",
      "  File \"/home/didi/anaconda3/lib/python3.13/multiprocessing/resource_tracker.py\", line 116, in _stop_locked\n",
      "ChildProcessError: [Errno 10] No child processes\n"
     ]
    }
   ],
   "source": [
    "joblib.dump(best_model, \"ProductModel.joblib\")"
   ]
  },
  {
   "cell_type": "code",
   "execution_count": null,
   "id": "b48686fb-9288-4181-9519-e317daa6d579",
   "metadata": {},
   "outputs": [],
   "source": []
  }
 ],
 "metadata": {
  "kernelspec": {
   "display_name": "Python 3 (ipykernel)",
   "language": "python",
   "name": "python3"
  },
  "language_info": {
   "codemirror_mode": {
    "name": "ipython",
    "version": 3
   },
   "file_extension": ".py",
   "mimetype": "text/x-python",
   "name": "python",
   "nbconvert_exporter": "python",
   "pygments_lexer": "ipython3",
   "version": "3.13.5"
  }
 },
 "nbformat": 4,
 "nbformat_minor": 5
}
